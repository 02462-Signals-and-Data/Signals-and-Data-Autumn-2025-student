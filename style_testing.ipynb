{
 "cells": [
  {
   "cell_type": "code",
   "execution_count": 2,
   "id": "5991227e",
   "metadata": {
    "tags": [
     "style-tutor"
    ]
   },
   "outputs": [
    {
     "data": {
      "text/html": [
       "<style>.primary { color: #1f77b4; }\n",
       ".error { color: #d62728; }\n",
       ".success { color: #2ca02c; }\n",
       "</style>"
      ],
      "text/plain": [
       "<IPython.core.display.HTML object>"
      ]
     },
     "execution_count": 2,
     "metadata": {},
     "output_type": "execute_result"
    }
   ],
   "source": [
    "from IPython.core.display import HTML\n",
    "\n",
    "def load_custom_css(path=\"styles/custom.css\"):\n",
    "    with open(path) as f:\n",
    "        styles = f.read()\n",
    "    return HTML(f\"<style>{styles}</style>\")\n",
    "\n",
    "load_custom_css()\n"
   ]
  },
  {
   "cell_type": "markdown",
   "id": "1691af27",
   "metadata": {},
   "source": [
    "<span class=\"primary\">This text will appear in your primary color</span>\n",
    "<span class=\"error\">This highlights error messages in red</span>\n",
    "<span class=\"success\">Celebratory green goes here!</span>\n"
   ]
  },
  {
   "cell_type": "markdown",
   "id": "26602de5",
   "metadata": {
    "tags": [
     "style-activity"
    ]
   },
   "source": [
    "**1. Using the following mathematical description of histogram equalisation, implement a function that does histogram equalisation on a grayscale image. Use numpy for the histogram and cdf calculations.**\n",
    "\n",
    "Let $ I(x, y) $ represent the intensity of the pixel at position $ (x, y) $ in the original image.\n",
    "The intensity values range from $ 0 $ to $ L-1 $, where $ L $ is the number of possible intensity levels (e.g., $ L = 256 $ for an 8-bit grayscale image).\n",
    "The probability density function (PDF) of the intensity values is denoted as $ p_I(i) $, where $ i $ is an intensity value and $ p_I(i) $ is the probability that a randomly selected pixel has intensity $ i $.\n",
    "The cumulative distribution function (CDF) of the intensity values is denoted as $ c_I(i) $.\n",
    "\n",
    " **Steps for Histogram Equalization**\n",
    "\n",
    "1. **Calculate the PDF:**\n",
    "   $$\n",
    "   p_I(i) = \\frac{\\text{number of pixels with intensity } i}{\\text{total number of pixels}}\n",
    "   $$\n",
    "\n",
    "2. **Calculate the CDF:**\n",
    "   $$\n",
    "   c_I(i) = \\sum_{j=0}^{i} p_I(j)\n",
    "   $$\n",
    "   The CDF $ c_I(i) $ represents the cumulative sum of the PDF up to intensity $ i $.\n",
    "\n",
    "3. **Transformation Function:**\n",
    "   The new intensity value $ I_{\\text{eq}}(x, y) $ for each pixel is obtained using the transformation function:\n",
    "   $$\n",
    "   I_{\\text{eq}}(x, y) = (L-1) \\cdot c_I(I(x, y))\n",
    "   $$\n",
    "   This equation maps the original intensity values to new values based on the CDF, effectively spreading the intensity values over the entire range.\n",
    "\n",
    "\n",
    "**2. If an image has $X$ unique pixel values before histogram equalisation, how many will it have after?**\n",
    "\n"
   ]
  },
  {
   "cell_type": "markdown",
   "id": "09c99ac6",
   "metadata": {},
   "source": [
    "`A longer mathematical explanation that supports something something $5 + 6 + \\sum^2_{i=1}$`\n",
    "\n",
    "<span style=\"color:darkgreen; font-family:Georgia; font-size:16px\">\n",
    "Here is a famous equation:\n",
    "</span>\n",
    "\n",
    "$$E = mc^2$$\n",
    "\n",
    "\n",
    "<span style=\"color:purple\">Euler’s identity:</span> $e^{i\\pi} + 1 = 0$\n"
   ]
  },
  {
   "cell_type": "markdown",
   "id": "95bb017b",
   "metadata": {
    "jp-MarkdownHeadingCollapsed": true
   },
   "source": [
    "<!-- # Exercise 1: The Basics of Integration -->\n",
    "\n",
    "\n",
    "<span style=\"background-color: #082e00ff; padding:8px; display:block; border-left:4px solid #4682b4\">\n",
    "\n",
    "# Exercise 1: Understanding convolution\n",
    "\n",
    "This section introduces the concept of definite integrals.<br>\n",
    "You will explore how to compute $$\\int_0^1 x^2 dx$$ and apply it in simple contexts.<br>\n",
    "Use the trapezoidal method if necessary. <br>\n",
    "\n",
    "Bla bla bla, here is some more\n",
    "\n",
    "</span>\n",
    "\n",
    "## 1.1 Sub-Exercise: Computing Area\n",
    "\n",
    "<span style=\"background-color:#fdf5e6; padding:8px; display:block; border-left:4px solid #ff8c00\">\n",
    "Given the function $$f(x) = x^2$$, compute the area under the curve from $x = 0$ to $x = 1$.\n",
    "</span>\n",
    "\n",
    "*Write your answer below:*  \n"
   ]
  },
  {
   "cell_type": "markdown",
   "id": "9d00fe3e",
   "metadata": {},
   "source": [
    "<span style=\"background-color: #228800; padding:8px; display:block; border-left:4px solid #4682b4\">\n",
    "\n",
    "# A solution to an exercise!\n",
    "\n",
    "**Green is what your answer could have been!**\n",
    "\n",
    "This section introduces the concept of definite integrals.<br>\n",
    "You will explore how to compute $$\\int_0^1 x^2 dx$$ and apply it in simple contexts.<br>\n",
    "Use the trapezoidal method if necessary. <br>\n",
    "\n",
    "Bla bla bla, here is some more\n",
    "\n",
    "</span>\n"
   ]
  },
  {
   "cell_type": "markdown",
   "id": "28182a1a",
   "metadata": {},
   "source": [
    "<span style=\"background-color: #3377cc; padding:8px; display:block; border-left:4px solid #4682b4\">\n",
    "\n",
    "# Some introduction to some concept!\n",
    "\n",
    "**Blue is information from me to you!**\n",
    "\n",
    "This section introduces the concept of definite integrals.<br>\n",
    "You will explore how to compute $$\\int_0^1 x^2 dx$$ and apply it in simple contexts.<br>\n",
    "Use the trapezoidal method if necessary. <br>\n",
    "\n",
    "Bla bla bla, here is some more\n",
    "\n",
    "</span>\n"
   ]
  },
  {
   "cell_type": "markdown",
   "id": "876176bd",
   "metadata": {},
   "source": [
    "<span style=\"background-color: #dd1188; padding:8px; display:block; border-left:4px solid #4682b4\">\n",
    "\n",
    "# An exercise introduction!\n",
    "\n",
    "**Purple doesn't rhyme, guys! EXERCISE!**\n",
    "\n",
    "This section introduces the concept of definite integrals.<br>\n",
    "You will explore how to compute $$\\int_0^1 x^2 dx$$ and apply it in simple contexts.<br>\n",
    "Use the trapezoidal method if necessary. <br>\n",
    "\n",
    "Bla bla bla, here is some more\n",
    "\n",
    "</span>\n"
   ]
  },
  {
   "cell_type": "markdown",
   "id": "ba7cd00e",
   "metadata": {},
   "source": [
    "<span style=\"background-color: #dd1188; padding:8px; display:block; border-left:4px solid #4682b4\">\n",
    "\n",
    "# Exercise 1: Binarizing and grayscaling\n",
    "\n",
    "As mentioned in the slides, we can also consider binary images where pixels are either \"off\" or \"on\". We determine whether a pixel is off or on based on the whether its original pixel value is smaller or larger than a given threshold\n",
    "\n",
    "**1. Complete the function below to create a binarized image of the above image given a specific threshold**\n",
    "\n",
    "**2. Complete the second function below to grayscale a given RGB image**\n",
    "\n",
    "**3. Is it possible to use thresholding to create a sort of binary image out of an RGB image? How would this work?**\n",
    "\n",
    "<details>\n",
    "  <summary><strong>📝 Your Answer Here</strong></summary>\n",
    "  <p>Write your explanation here...</p>\n",
    "</details>\n",
    "\n",
    "</span>\n",
    "\n",
    "\n",
    "<span style=\"background-color: #dd1188; padding:8px; display:block; border-left:4px solid #4682b4\">\n",
    "\n",
    "\n",
    "**3. Is is possible to binarize RGB images? How could this work? Discuss**\n",
    "\n",
    "</span>\n"
   ]
  },
  {
   "cell_type": "markdown",
   "id": "8f9a33b7",
   "metadata": {},
   "source": [
    "<span style=\"background-color: #dd1188; padding:8px; display:block; border-left:4px solid #4682b4\">\n",
    "\n",
    "# Exercise 1: Binarizing and Grayscaling\n",
    "\n",
    "As mentioned in the slides, we can also consider binary images where pixels are either \"off\" or \"on\". We determine whether a pixel is off or on based on the whether its original pixel value is smaller or larger than a given threshold\n",
    "\n",
    "**1.1. 💻 <input type=\"checkbox\"> Complete the function below to create a binarized image of the above image given a specific threshold**\n",
    "\n",
    "\n",
    "**1.2. Complete the second function below to grayscale a given RGB image**\n",
    "\n",
    "</span>\n",
    "\n",
    "<span style=\"background-color: #228800; padding:8px; display:block; border-left:4px solid #4682b4\">\n",
    "\n",
    "$\\dots$ \n",
    "\n",
    "</span>\n",
    "\n",
    "\n",
    "<span style=\"background-color: #dd1188; padding:8px; display:block; border-left:4px solid #4682b4\">\n",
    "\n",
    "Great! Now let’s take it one step further. Consider an image with shadows and highlights—do you think a fixed threshold would still work effectively?  \n",
    "\n",
    "**1.3. What if we wanted to adapt the threshold for different regions of the image? How could we achieve that?**\n",
    "\n",
    "</span>\n"
   ]
  },
  {
   "cell_type": "markdown",
   "id": "adeafac3",
   "metadata": {},
   "source": [
    "<span class=\"primary\">Blue text using a class</span>"
   ]
  },
  {
   "cell_type": "code",
   "execution_count": null,
   "id": "4e910d35",
   "metadata": {},
   "outputs": [
    {
     "data": {
      "text/html": [
       "<style>\n",
       ".explanation {\n",
       "  background-color: #f0f8ff;\n",
       "  padding: 12px;\n",
       "  display: block;\n",
       "  border-left: 4px solid #4682b4;\n",
       "  font-family: Georgia;\n",
       "  font-size: 16px;\n",
       "}\n",
       "</style>\n"
      ],
      "text/plain": [
       "<IPython.core.display.HTML object>"
      ]
     },
     "metadata": {},
     "output_type": "display_data"
    }
   ],
   "source": [
    "%%html\n",
    "<style>\n",
    ".explanation {\n",
    "  background-color: #f0f8ff;\n",
    "  padding: 8px;\n",
    "  display: block;\n",
    "  border-left: 4px solid #4682b4;\n",
    "  font-family: Georgia;\n",
    "  font-size: 16px;\n",
    "}\n",
    "</style>"
   ]
  },
  {
   "cell_type": "markdown",
   "id": "a6fa9d87",
   "metadata": {},
   "source": [
    "<div class=\"explanation\">\n",
    "This section introduces the concept of definite integrals.\n",
    "</div>\n",
    "\n",
    "$$\\int_0^1 x^2 dx$$\n"
   ]
  },
  {
   "cell_type": "markdown",
   "id": "2be4be02",
   "metadata": {},
   "source": [
    "<div class=\"explanation\">\n",
    "This section introduces the concept of definite integrals.<br>\n",
    "You will explore how to compute $$\\int_0^1 x^2 dx$$ and apply it in simple contexts.\n",
    "</div>\n"
   ]
  }
 ],
 "metadata": {
  "kernelspec": {
   "display_name": "Python 3 (ipykernel)",
   "language": "python",
   "name": "python3"
  },
  "language_info": {
   "codemirror_mode": {
    "name": "ipython",
    "version": 3
   },
   "file_extension": ".py",
   "mimetype": "text/x-python",
   "name": "python",
   "nbconvert_exporter": "python",
   "pygments_lexer": "ipython3",
   "version": "3.11.13"
  }
 },
 "nbformat": 4,
 "nbformat_minor": 5
}
