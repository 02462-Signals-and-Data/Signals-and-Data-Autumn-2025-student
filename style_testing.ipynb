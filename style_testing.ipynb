{
 "cells": [
  {
   "cell_type": "markdown",
   "id": "26602de5",
   "metadata": {},
   "source": [
    "**1. Using the following mathematical description of histogram equalisation, implement a function that does histogram equalisation on a grayscale image. Use numpy for the histogram and cdf calculations.**\n",
    "\n",
    "Let $ I(x, y) $ represent the intensity of the pixel at position $ (x, y) $ in the original image.\n",
    "The intensity values range from $ 0 $ to $ L-1 $, where $ L $ is the number of possible intensity levels (e.g., $ L = 256 $ for an 8-bit grayscale image).\n",
    "The probability density function (PDF) of the intensity values is denoted as $ p_I(i) $, where $ i $ is an intensity value and $ p_I(i) $ is the probability that a randomly selected pixel has intensity $ i $.\n",
    "The cumulative distribution function (CDF) of the intensity values is denoted as $ c_I(i) $.\n",
    "\n",
    " **Steps for Histogram Equalization**\n",
    "\n",
    "1. **Calculate the PDF:**\n",
    "   $$\n",
    "   p_I(i) = \\frac{\\text{number of pixels with intensity } i}{\\text{total number of pixels}}\n",
    "   $$\n",
    "\n",
    "2. **Calculate the CDF:**\n",
    "   $$\n",
    "   c_I(i) = \\sum_{j=0}^{i} p_I(j)\n",
    "   $$\n",
    "   The CDF $ c_I(i) $ represents the cumulative sum of the PDF up to intensity $ i $.\n",
    "\n",
    "3. **Transformation Function:**\n",
    "   The new intensity value $ I_{\\text{eq}}(x, y) $ for each pixel is obtained using the transformation function:\n",
    "   $$\n",
    "   I_{\\text{eq}}(x, y) = (L-1) \\cdot c_I(I(x, y))\n",
    "   $$\n",
    "   This equation maps the original intensity values to new values based on the CDF, effectively spreading the intensity values over the entire range.\n",
    "\n",
    "\n",
    "**2. If an image has $X$ unique pixel values before histogram equalisation, how many will it have after?**\n",
    "\n"
   ]
  },
  {
   "cell_type": "markdown",
   "id": "09c99ac6",
   "metadata": {},
   "source": [
    "`A longer mathematical explanation that supports something something $5 + 6 + \\sum^2_{i=1}$`\n",
    "\n",
    "<span style=\"color:darkgreen; font-family:Georgia; font-size:16px\">\n",
    "Here is a famous equation:\n",
    "</span>\n",
    "\n",
    "$$E = mc^2$$\n",
    "\n",
    "\n",
    "<span style=\"color:purple\">Euler’s identity:</span> $e^{i\\pi} + 1 = 0$\n"
   ]
  },
  {
   "cell_type": "markdown",
   "id": "95bb017b",
   "metadata": {},
   "source": [
    "# Exercise 1: The Basics of Integration\n",
    "\n",
    "\n",
    "<span style=\"background-color:#6e6c6c; padding:8px; display:block; border-left:4px solid #4682b4\">\n",
    "\n",
    "# Derp\n",
    "\n",
    "This section introduces the concept of definite integrals.<br>\n",
    "You will explore how to compute $$\\int_0^1 x^2 dx$$ and apply it in simple contexts.<br>\n",
    "Use the trapezoidal method if necessary. <br>\n",
    "\n",
    "Bla bla bla, here is some more\n",
    "\n",
    "</span>\n",
    "\n",
    "## 1.1 Sub-Exercise: Computing Area\n",
    "\n",
    "<span style=\"background-color:#fdf5e6; padding:8px; display:block; border-left:4px solid #ff8c00\">\n",
    "Given the function $$f(x) = x^2$$, compute the area under the curve from $x = 0$ to $x = 1$.\n",
    "</span>\n",
    "\n",
    "*Write your answer below:*  \n"
   ]
  },
  {
   "cell_type": "code",
   "execution_count": null,
   "id": "4e910d35",
   "metadata": {},
   "outputs": [
    {
     "data": {
      "text/html": [
       "<style>\n",
       ".explanation {\n",
       "  background-color: #f0f8ff;\n",
       "  padding: 12px;\n",
       "  display: block;\n",
       "  border-left: 4px solid #4682b4;\n",
       "  font-family: Georgia;\n",
       "  font-size: 16px;\n",
       "}\n",
       "</style>\n"
      ],
      "text/plain": [
       "<IPython.core.display.HTML object>"
      ]
     },
     "metadata": {},
     "output_type": "display_data"
    }
   ],
   "source": [
    "%%html\n",
    "<style>\n",
    ".explanation {\n",
    "  background-color: #f0f8ff;\n",
    "  padding: 8px;\n",
    "  display: block;\n",
    "  border-left: 4px solid #4682b4;\n",
    "  font-family: Georgia;\n",
    "  font-size: 16px;\n",
    "}\n",
    "</style>"
   ]
  },
  {
   "cell_type": "markdown",
   "id": "a6fa9d87",
   "metadata": {},
   "source": [
    "<div class=\"explanation\">\n",
    "This section introduces the concept of definite integrals.\n",
    "</div>\n",
    "\n",
    "$$\\int_0^1 x^2 dx$$\n"
   ]
  },
  {
   "cell_type": "markdown",
   "id": "2be4be02",
   "metadata": {},
   "source": [
    "<div class=\"explanation\">\n",
    "This section introduces the concept of definite integrals.<br>\n",
    "You will explore how to compute $$\\int_0^1 x^2 dx$$ and apply it in simple contexts.\n",
    "</div>\n"
   ]
  }
 ],
 "metadata": {
  "language_info": {
   "name": "python"
  }
 },
 "nbformat": 4,
 "nbformat_minor": 5
}
