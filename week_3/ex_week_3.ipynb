{
 "cells": [
  {
   "cell_type": "markdown",
   "metadata": {},
   "source": [
    "# Week 3 - Convolutional neural networks\n",
    "\n",
    "- Add stuff about the intermittent outputs of the conv layers\n",
    "- REmember eto include both max **and** average pooling\n",
    " \n",
    "## Overview\n",
    "*(p. 287 - 321 in Bishop)*\n",
    "\n",
    "\n",
    "CNN’s are a class of Neural networks, typically used in:\n",
    "1. Image analysis: Since the amount of parameters they use is effectively invariant in\n",
    "regards to the size of the image. Moreoever because they can learn to do feature\n",
    "extraction much the same way regular convolution does.\n",
    "2. Time signal analysis: Again, since their number of parameters do not scale with the\n",
    "length of the observed signal. Also again since they can learn to mimic a lot of the\n",
    "convolutions (which is essentially filtering) that have proven themselves useful in\n",
    "the past\n",
    "\n",
    "Like every other neural network class out there, there are a million-and-one specific\n",
    "methods and ideas to improve their performance, of all these, these exercises only ex-\n",
    "plore pooling. Moreoever, there is a billion-and-two different specific architectures that\n",
    "are useful in specific or different cases. Of these, we will only considerVGG16.\n",
    "Even so, with these fundamentals in mind, you should be able to at least understand\n",
    "what it is most other implementations of these neural networks do.\n",
    "\n",
    "\n",
    "\n",
    "**The theoretical exercises are divided into different parts, you do not have to\n",
    "do all in-order, you can jump between them as much as you like. Like always,\n",
    "be sure to ask plenty of ’stupid’ questions; CNN’s probably more than any\n",
    "other subject, has many ”I really should understand this, but I don’t, there-\n",
    "fore I must be dumb”-moments, so don’t sweat it if it seems trivial, it probably\n",
    "isn’t.**\n",
    "\n",
    "Questions marked with * are ”bonus” questions only vaguely related to the\n",
    "core subject, and you will not be expected to know them in an exam setting"
   ]
  },
  {
   "cell_type": "markdown",
   "metadata": {},
   "source": [
    "## 1 - Convolutional Layers\n",
    "\n",
    "### Exercise 1.1 (ch. 10.2.5)\n",
    "\n",
    "Consider one convolution kernel for a CNN as shown in the image below with the given parameters:\n",
    "- Size: $3 \\times 3$\n",
    "- Padding (zero-padded): $1$\n",
    "- Stride: $1$\n",
    "- Input channels: $3$\n",
    "\n",
    "****1:** How many (learnable) parameters does this kernel have in a CNN?**\n",
    "\n",
    "$\\dots$\n",
    "\n",
    "\n",
    "****2:** In general, how many parameters does an 𝑛 × 𝑛 kernel with 𝑝 padding and 𝑠 stridehave?** \n",
    "\n",
    "$\\dots$\n"
   ]
  },
  {
   "cell_type": "markdown",
   "metadata": {},
   "source": [
    "### Exercise 1.2\n",
    "\n",
    "Say you now have a convolutional layer with the following params:\n",
    "\n",
    "- Kernel size: $n \\times n$\n",
    "- Input channels: $d$\n",
    "- Output channels: $k$\n",
    "\n",
    "\n",
    "**1: How many learnable parameters does this whole convolutional layer have?**\n",
    "\n",
    "$\\dots$\n",
    "\n",
    "\n",
    "**2: Check your manual calculation against that of the torch implementation below**"
   ]
  },
  {
   "cell_type": "code",
   "execution_count": 2,
   "metadata": {},
   "outputs": [
    {
     "name": "stdout",
     "output_type": "stream",
     "text": [
      "Torch thinks there are 2432 parameters in the layer layer \n",
      "Compared to 2432 calculated manually\n"
     ]
    }
   ],
   "source": [
    "import torch.nn as nn\n",
    "\n",
    "# Parameters for a simple convolutional layer\n",
    "in_channels = 3\n",
    "out_channels = 128\n",
    "kernel_size = (2,3) # Does not have to be a tuple, if int, will be converted to a square kernel\n",
    "stride = 1\n",
    "padding = 0\n",
    "bias = True\n",
    "\n",
    "# Define conv layer and sum number of parameters\n",
    "conv_layer = nn.Conv2d(in_channels=in_channels, out_channels=out_channels, kernel_size=kernel_size, stride=stride, padding=padding, bias=True)\n",
    "num_params = sum(p.numel() for p in conv_layer.parameters())\n",
    "\n",
    "# Calculate number of parameters manually\n",
    "num_params_manual = ((in_channels*kernel_size[0]*kernel_size[1] + bias)*out_channels) # ANSWER: (d * m * n + 1) * k\n",
    "\n",
    "print(f\"Torch thinks there are {num_params} parameters in the layer layer \\nCompared to {num_params_manual} calculated manually\")"
   ]
  },
  {
   "cell_type": "markdown",
   "metadata": {},
   "source": [
    "### Exercise 1.3\n",
    "\n",
    "Given a convolutional layer with the following parameters:\n",
    "- Size: $n \\times n$\n",
    "- Padding: $p$\n",
    "- Stride: $s$\n",
    "- Input channels: $d$\n",
    "- Output channels: $k$\n",
    "\n",
    "\n",
    "**1. What is the dimensionality of the output? (Do not forget to include the number of\n",
    "channels)**\n",
    "\n",
    "$\\dots$\n",
    "\n",
    "\n",
    "**2. Likewise, what is the dimensionality after a pooling layer with the same parameters ?**\n",
    "\n",
    "$\\dots$\n",
    "\n",
    "**3. Check your answer against the torch code below**\n"
   ]
  },
  {
   "cell_type": "code",
   "execution_count": 20,
   "metadata": {},
   "outputs": [
    {
     "name": "stdout",
     "output_type": "stream",
     "text": [
      "Image shape before convolution: torch.Size([1, 3, 56, 56])\n",
      "Image shape after convolution: torch.Size([1, 128, 55, 54])\n",
      "Image shape after max pooling: torch.Size([1, 3, 55, 54])\n"
     ]
    }
   ],
   "source": [
    "import PIL.Image\n",
    "import torchvision.transforms.functional\n",
    "\n",
    "# Once more, Parameters for a simple convolutional layer\n",
    "in_channels = 3\n",
    "out_channels = 128\n",
    "kernel_size = (2,3) # Does not have to be a tuple, if int, will be converted to a square kernel\n",
    "stride = 1\n",
    "padding = 0\n",
    "bias = True\n",
    "\n",
    "# Define conv layer and sum number of parameters\n",
    "conv_layer = nn.Conv2d(in_channels=in_channels, out_channels=out_channels, kernel_size=kernel_size, stride=stride, padding=padding, bias=True)\n",
    "\n",
    "# Define two dimensional max pooling layer\n",
    "max_pool_layer = nn.MaxPool2d(kernel_size=kernel_size, stride=stride, padding=padding)\n",
    "\n",
    "# Load image and convert to tensor\n",
    "a_cool_image = PIL.Image.open(\"a_cool_image.jpg\").convert(\"RGB\")\n",
    "# Unsqueeze to add batch dimension (because torch is nasty like that and expects a batch dimension)\n",
    "a_cool_image_tensor = torchvision.transforms.functional.to_tensor(a_cool_image).unsqueeze(0)\n",
    "\n",
    "print(f\"Image shape before convolution: {a_cool_image_tensor.shape}\")\n",
    "\n",
    "# Apply convolution and max pooling\n",
    "convolved_image = conv_layer(a_cool_image_tensor)\n",
    "pooled_image = max_pool_layer(a_cool_image_tensor)\n",
    "\n",
    "print(f\"Image shape after convolution: {convolved_image.shape}\")\n",
    "print(f\"Image shape after max pooling: {pooled_image.shape}\")"
   ]
  },
  {
   "cell_type": "markdown",
   "metadata": {},
   "source": [
    "### Exercise 1.4\n",
    "\n",
    "*It should be clear now, that each channel in the output image, corresponds to one kernel\n",
    "being run across all channels in the input image. Therefore with $k$ output channels, we\n",
    "have to train $k$ kernels, each with $m \\times n \\times d + 1$ parameters.*\n",
    "\n",
    "**1. Discuss (and write down) the benefits of having a larger number of output channels\n",
    "compared to input channels.**\n",
    "\n",
    "$\\dots$\n",
    "\n",
    "**2. Increasing the number of output channels in one layer obviously leads to more ker-\n",
    "nels (and therefore more parameters), but how does this increased number of output\n",
    "channels affect the kernels in subsequent layers in a neural network?**\n",
    "\n",
    "$\\dots$\n"
   ]
  },
  {
   "cell_type": "markdown",
   "metadata": {},
   "source": [
    "### Exercise 1.5\n",
    "\n",
    "*If you read the torch documentation of Conv2d: [Conv2d](https://pytorch.org/docs/stable/generated/torch.nn.Conv2d.html), you won’t find anywhere that\n",
    "it flips the kernel as is otherwise required to go from cross-correlation to convolution.*\n",
    "\n",
    "\n",
    "**1. Explain how PyTorch, a respectable deep learning framework, can get away with *not*\n",
    "flipping the kernel**\n",
    "\n",
    "$\\dots$\n"
   ]
  },
  {
   "cell_type": "markdown",
   "metadata": {},
   "source": [
    "### **Exercise 1.6\n",
    "\n",
    "*As mentioned, one reason CNN’s are used for image processing, is because they don’t\n",
    "explode in parameter complexity as the input image increases in size. Here we will\n",
    "bastardize the big-O notation from Algorithms and Data structures to denote how the\n",
    "number of parameters in a nerual network increases as a function of relevant hyperpa-\n",
    "rameters.*\n",
    "\n",
    "**1. In the aforementioned big-O, how does the number of parameters in a fully connected,\n",
    "feedforward neural network (FFN) grow as a function of image size (assume multiple\n",
    "input channels)?**\n",
    "\n",
    "$\\dots$\n",
    "\n",
    "**2. Again in the Big-O notation, how does the number of parameters in a CNN grow as a\n",
    "function of image size and other relevant layer hyperparameters?**\n",
    "\n",
    "$\\dots$"
   ]
  },
  {
   "cell_type": "markdown",
   "metadata": {},
   "source": [
    "## Coding CNN's\n",
    "\n",
    "*Theres a **bunch** of boilerplate that goes into every NN implementation in Python. Our advice, is to understand and solve the exercises given first, and then look into this boilerplate. A lot of people and guides tell you to simply ignore this boilerplate code... **But it will haunt you***"
   ]
  },
  {
   "cell_type": "code",
   "execution_count": 22,
   "metadata": {},
   "outputs": [
    {
     "name": "stdout",
     "output_type": "stream",
     "text": [
      "cuda\n"
     ]
    }
   ],
   "source": [
    "import torch\n",
    "from torch import nn\n",
    "import torchvision.datasets as datasets\n",
    "from torchvision.transforms import ToTensor\n",
    "import torchvision.transforms as transforms\n",
    "import numpy as np\n",
    "import matplotlib.pyplot as plt\n",
    "from tqdm import tqdm\n",
    "from torchsummary import summary # courtesy of https://stackoverflow.com/questions/55875279/how-to-get-an-output-dimension-for-each-layer-of-the-neural-network-in-pytorch\n",
    "\n",
    "# Check if you have cuda available, and use if you do\n",
    "device = torch.device(\"cuda\" if torch.cuda.is_available() else \"cpu\")\n",
    "print(device)\n"
   ]
  },
  {
   "cell_type": "code",
   "execution_count": 117,
   "metadata": {},
   "outputs": [
    {
     "name": "stdout",
     "output_type": "stream",
     "text": [
      "Files already downloaded and verified\n",
      "Files already downloaded and verified\n",
      "There are 50000 examples in the training set\n",
      "There are 10000 examples in the test set \n",
      "\n",
      "Image shape is: torch.Size([3, 32, 32]), label example is 6\n"
     ]
    }
   ],
   "source": [
    "# Load a dataset, change 'dataset' to 'cifar10' if you want to use CIFAR-10 instead\n",
    "\n",
    "dataset = 'cifar10'\n",
    "\n",
    "# TODO: PERHAPS USE THIS, PERHAPS NOT\n",
    "transform = transforms.Compose(\n",
    "    [transforms.ToTensor(),\n",
    "    transforms.Normalize((0.5, 0.5, 0.5), (0.5, 0.5, 0.5))])\n",
    "\n",
    "if dataset == 'cifar10':\n",
    "    train_set = datasets.CIFAR10(root='./data', train=True, download=True, transform=ToTensor())\n",
    "    test_set = datasets.CIFAR10(root='./data', train=False, download=True, transform=ToTensor())\n",
    "\n",
    "    # Purely for our convenience - Mapping from cifar labels to human readable classes\n",
    "    cifar10_classes = {\n",
    "        0: 'airplane',\n",
    "        1: 'automobile',\n",
    "        2: 'bird',\n",
    "        3: 'cat',\n",
    "        4: 'deer',\n",
    "        5: 'dog',\n",
    "        6: 'frog',\n",
    "        7: 'horse',\n",
    "        8: 'ship',\n",
    "        9: 'truck'\n",
    "    }\n",
    "\n",
    "elif dataset == 'mnist':\n",
    "    train_set = datasets.MNIST(root='./data', train=True, download=True, transform=ToTensor())\n",
    "    test_set = datasets.MNIST(root='./data', train=False, download=True, transform=ToTensor())\n",
    "\n",
    "\n",
    "# TODO: Print some stats of the dataset here...\n",
    "print(f\"There are {len(train_set)} examples in the training set\")\n",
    "print(f\"There are {len(test_set)} examples in the test set \\n\")\n",
    "\n",
    "print(f\"Image shape is: {train_set[0][0].shape}, label example is {train_set[0][1]}\")"
   ]
  },
  {
   "cell_type": "code",
   "execution_count": 118,
   "metadata": {},
   "outputs": [],
   "source": [
    "# Define dataloaders - You don't *need* these per say, but they are very useful\n",
    "\n",
    "# Collate function is called on each batch, the dataloader yields\n",
    "# Here, we modify it to also cast the tensor to our desired device\n",
    "from torch.utils.data.dataloader import default_collate\n",
    "def collate_fn(batch):\n",
    "    return tuple(x_.to(device) for x_ in default_collate(batch))\n",
    "\n",
    "# Why don't we shuffle the test set? Because we don't need to.\n",
    "train_dataloader = torch.utils.data.DataLoader(train_set, batch_size=16, shuffle=True, collate_fn=collate_fn)\n",
    "test_dataloader = torch.utils.data.DataLoader(test_set, batch_size=16, shuffle=False, collate_fn=None)"
   ]
  },
  {
   "cell_type": "markdown",
   "metadata": {},
   "source": [
    "### Show a few examples from the dataset\n",
    "\n",
    "*This is basically tradition at this point when making CNN introductions*"
   ]
  },
  {
   "cell_type": "code",
   "execution_count": 164,
   "metadata": {},
   "outputs": [
    {
     "name": "stdout",
     "output_type": "stream",
     "text": [
      "(32, 32, 3)\n",
      "(32, 32, 3)\n",
      "(32, 32, 3)\n",
      "(32, 32, 3)\n",
      "(32, 32, 3)\n",
      "(32, 32, 3)\n",
      "(32, 32, 3)\n",
      "(32, 32, 3)\n",
      "(32, 32, 3)\n",
      "(32, 32, 3)\n"
     ]
    },
    {
     "data": {
      "image/png": "[encoded data removed]",
      "text/plain": [
       "<Figure size 1200x500 with 10 Axes>"
      ]
     },
     "metadata": {},
     "output_type": "display_data"
    }
   ],
   "source": [
    "# Get indices of 10 different classes in the dataset, then get values\n",
    "sampled_indices = [np.random.choice(np.where(np.array(train_set.targets) == i)[0]) for i in range(10)]\n",
    "examples = train_set.data[sampled_indices]\n",
    "\n",
    "fig, axes = plt.subplots(2, 5, figsize=(12, 5))\n",
    "axes = axes.flatten()\n",
    "\n",
    "# Plot examples\n",
    "for i in range(len(examples)):\n",
    "    img = examples[i]\n",
    "    if dataset == 'mnist':\n",
    "        img = img.squeeze(0)  # Remove the channel dimension for MNIST\n",
    "        axes[i].imshow(img, cmap='gray')\n",
    "        axes[i].set_title(f'Class {i}')\n",
    "    else:\n",
    "        axes[i].imshow(img)\n",
    "        axes[i].set_title(f'Class {i}:{cifar10_classes[train_set.targets[sampled_indices[i]]]}')\n",
    "    axes[i].axis('off')\n",
    "\n",
    "plt.tight_layout()\n",
    "plt.show()\n"
   ]
  },
  {
   "cell_type": "markdown",
   "metadata": {},
   "source": [
    "### Define a CNN class\n",
    "\n",
    "Remember the following:\n",
    "\n",
    "            \n",
    "- Remember here, that the amount of parameters in a convolutional layerIs $(n * m * l + 1) * k$  \n",
    "   - Where $n, m$ is the kernel size $(x, y)$, $l$ is the input channels, and $k$ is the $\\text{output channels} + 1$, is beacuse of a bias term that is done for each input\n",
    "  - Basically, $n * m * l$ corresponds to kernels mapping to values in another \"image\"\n",
    "  - Each kernel has a bias term unique to it. Each kernel produces one \"image\", that are then stacked on top of each other, for a total of $k$ images.\n",
    "\n",
    "- CONV2D does NOT flip the kernel!!!\n",
    "  - It doesn't really mattter, since it is just learned anyways...\n",
    "- [Better to maxpool first, max-pooling and monotonely increasing non-linearities commute. This means that MaxPool(Relu(x)) = Relu(MaxPool(x)) for any input](https://stackoverflow.com/questions/35543428/activation-function-after-pooling-layer-or-convolutional-layer\n",
    ") \n"
   ]
  },
  {
   "cell_type": "code",
   "execution_count": 144,
   "metadata": {},
   "outputs": [],
   "source": [
    "class CNN(torch.nn.Module):\n",
    "    def __init__(self, num_classes, in_channels=1, features_fore_linear=64*6*6, lr=0.001):\n",
    "        super().__init__()\n",
    "\n",
    "        # Define layers as a torch.nn.Sequential object\n",
    "        # This is pretty nice, since we can just go layers(input) to get output\n",
    "        # Rather than having a bunch of functions in the forward function\n",
    "        self.layers = torch.nn.Sequential(\n",
    "            nn.Conv2d(in_channels=in_channels, out_channels=32, kernel_size=3, padding=1), # dim = in\n",
    "            nn.MaxPool2d(kernel_size=2, stride=2),\n",
    "            nn.ReLU(),\n",
    "            nn.Conv2d(in_channels=32, out_channels=64, kernel_size=3),\n",
    "            nn.MaxPool2d(kernel_size=2),\n",
    "            nn.ReLU(),\n",
    "            nn.Flatten(),\n",
    "            nn.Linear(in_features=features_fore_linear, out_features=600),\n",
    "            nn.Linear(in_features=600, out_features=120),\n",
    "            nn.Linear(in_features=120, out_features=num_classes)\n",
    "        ).to(device)\n",
    "                \n",
    "        # Loss function and optimizer, as you know, Adam is meta\n",
    "        self.criterion = nn.CrossEntropyLoss()\n",
    "        self.optim = torch.optim.Adam(self.layers.parameters(), lr=lr)\n",
    "\n",
    "    def forward(self, x):\n",
    "        return self.layers(x)\n",
    "\n",
    "    def train(self, train_dataloader, epochs=1, val_dataloader=None):\n",
    "        \n",
    "        # To hold accuracy during training and testing\n",
    "        train_accs = []\n",
    "        test_accs = []\n",
    "\n",
    "        for epoch in range(epochs):\n",
    "            \n",
    "            epoch_acc = 0\n",
    "\n",
    "            for inputs, targets in tqdm(train_dataloader):\n",
    "                logits = self.forward(inputs)\n",
    "                loss = self.criterion(logits, targets)\n",
    "                loss.backward()\n",
    "\n",
    "                self.optim.step()\n",
    "                self.optim.zero_grad()\n",
    "\n",
    "                # Not actually used for training, just for keeping track of accuracy\n",
    "                epoch_acc += (torch.argmax(logits, dim=1) == targets).sum().item()\n",
    "\n",
    "            train_accs.append(epoch_acc / len(train_dataloader.dataset))\n",
    "\n",
    "            # If we have val dataloader, we can evaluate after each epoch\n",
    "            if val_dataloader is not None:\n",
    "                acc = self.eval(val_dataloader)\n",
    "                test_accs.append(acc)\n",
    "                print(f\"Epoch {epoch} validation accuracy: {acc}\")\n",
    "        \n",
    "        return train_accs, test_accs\n",
    "\n",
    "    def eval(self, test_dataloader):\n",
    "        \n",
    "        total_acc = 0\n",
    "\n",
    "        for input_batch, label_batch in test_dataloader:\n",
    "            # Get predictions\n",
    "            logits = self(input_batch)\n",
    "\n",
    "            # Remember, outs are probabilities (so there's 10 for each input)\n",
    "            # The classification the network wants to assign, must therefore be the probability with the larget value\n",
    "            # We find that using argmax (dim=1, because dim=0 would be across batch dimension)\n",
    "            classifications = torch.argmax(logits, dim=1)\n",
    "            total_acc += (classifications == label_batch).sum().item()\n",
    "\n",
    "        total_acc = total_acc / len(test_dataloader.dataset)\n",
    "\n",
    "        return total_acc"
   ]
  },
  {
   "cell_type": "markdown",
   "metadata": {},
   "source": [
    "### A small hack\n",
    "\n",
    "*Normally, you have to ask ChatGPT, a friend or the dark Gods to find out what the dimensionality of the data is before the first linear layer (why has Torch not implemented this automatically????) Anyways, the below function solves that, while still being a bit cursed*"
   ]
  },
  {
   "cell_type": "code",
   "execution_count": 145,
   "metadata": {},
   "outputs": [],
   "source": [
    "def get_dim_before_first_linear(layers, in_dim, in_channels, brain=False):\n",
    "    \"\"\"\n",
    "    Assume square in dimensions, square kernels, cuz I'm lazy\n",
    "    Also assume kernel numbers and channels match up, because that's trivial enough\n",
    "    \"\"\"\n",
    "\n",
    "    current_dim = in_dim\n",
    "    current_channels = in_channels\n",
    "    for layer in layers:\n",
    "        if isinstance(layer, nn.Conv2d) or isinstance(layer, nn.MaxPool2d):\n",
    "            vals = {\n",
    "                'kernel_size': layer.kernel_size if isinstance(layer.kernel_size, int) else layer.kernel_size[0],\n",
    "                'stride': layer.stride if isinstance(layer.stride, int) else layer.stride[0],\n",
    "                'padding': layer.padding if isinstance(layer.padding, int) else layer.padding[0],\n",
    "                'dilation': layer.dilation if isinstance(layer.dilation, int) else layer.dilation[0]\n",
    "            }\n",
    "            current_dim = (current_dim + 2*vals['padding'] - vals['dilation']*(vals['kernel_size'])) // vals['stride'] + 1\n",
    "\n",
    "        if isinstance(layer, nn.Conv2d):\n",
    "            current_channels = layer.out_channels\n",
    "\n",
    "        if isinstance(layer, nn.Linear):\n",
    "            if brain:\n",
    "                return current_dim, current_channels\n",
    "            else:\n",
    "                return current_dim * current_dim * current_channels\n",
    "        \n",
    "    raise ValueError(\"No linear layer found in layers! Why are you even asking me?\")"
   ]
  },
  {
   "cell_type": "markdown",
   "metadata": {},
   "source": [
    "### Training the CNN\n",
    "\n",
    "*Putting it all together, we should be able to train the CNN*"
   ]
  },
  {
   "cell_type": "code",
   "execution_count": 182,
   "metadata": {},
   "outputs": [
    {
     "name": "stderr",
     "output_type": "stream",
     "text": [
      "100%|██████████| 3125/3125 [00:06<00:00, 510.28it/s]\n"
     ]
    },
    {
     "name": "stdout",
     "output_type": "stream",
     "text": [
      "Epoch 0 validation accuracy: 0.603\n"
     ]
    },
    {
     "name": "stderr",
     "output_type": "stream",
     "text": [
      "100%|██████████| 3125/3125 [00:06<00:00, 520.71it/s]\n"
     ]
    },
    {
     "name": "stdout",
     "output_type": "stream",
     "text": [
      "Epoch 1 validation accuracy: 0.6515\n"
     ]
    },
    {
     "name": "stderr",
     "output_type": "stream",
     "text": [
      "100%|██████████| 3125/3125 [00:05<00:00, 525.64it/s]\n"
     ]
    },
    {
     "name": "stdout",
     "output_type": "stream",
     "text": [
      "Epoch 2 validation accuracy: 0.6446\n"
     ]
    },
    {
     "name": "stderr",
     "output_type": "stream",
     "text": [
      "100%|██████████| 3125/3125 [00:06<00:00, 516.20it/s]\n"
     ]
    },
    {
     "name": "stdout",
     "output_type": "stream",
     "text": [
      "Epoch 3 validation accuracy: 0.6483\n"
     ]
    },
    {
     "name": "stderr",
     "output_type": "stream",
     "text": [
      "100%|██████████| 3125/3125 [00:05<00:00, 521.85it/s]\n"
     ]
    },
    {
     "name": "stdout",
     "output_type": "stream",
     "text": [
      "Epoch 4 validation accuracy: 0.6764\n"
     ]
    },
    {
     "data": {
      "image/png": "[encoded data removed]",
      "text/plain": [
       "<Figure size 640x480 with 1 Axes>"
      ]
     },
     "metadata": {},
     "output_type": "display_data"
    }
   ],
   "source": [
    "train_dataloader = torch.utils.data.DataLoader(train_set, batch_size=16, shuffle=True, collate_fn=collate_fn)\n",
    "test_dataloader = torch.utils.data.DataLoader(test_set, batch_size=16, shuffle=False, collate_fn=collate_fn)\n",
    "\n",
    "in_channels = next(iter(train_dataloader))[0].shape[1]\n",
    "in_width_height = next(iter(train_dataloader))[0].shape[-1]\n",
    "\n",
    "# Make a dummy model to find out the size before the first linear layer\n",
    "CNN_model = CNN(num_classes=10, in_channels=in_channels, lr=0.001)\n",
    "feats_fore_linear = get_dim_before_first_linear(CNN_model.layers, in_width_height, in_channels, brain=False)\n",
    "\n",
    "# Now make true model when we know how many features we have before the first linear layer\n",
    "CNN_model = CNN(num_classes=10, in_channels=in_channels, features_fore_linear=feats_fore_linear, lr=0.001) \n",
    "\n",
    "train_epochs = 5\n",
    "train_accs, test_accs = CNN_model.train(train_dataloader, epochs=train_epochs,  val_dataloader=test_dataloader)\n",
    "# CNN_model.eval(test_dataloader)\n",
    "\n",
    "# plot train and test accuracies\n",
    "plt.plot(range(train_epochs), train_accs, label='Train')\n",
    "plt.plot(range(train_epochs), test_accs, label='Test')\n",
    "\n",
    "\n",
    "plt.xlabel('Epoch')\n",
    "plt.ylabel('Accuracy')\n",
    "plt.title('Train and Test Accuracy over epochs, CNN model')\n",
    "plt.legend()\n",
    "plt.show()\n",
    "\n",
    "# TODO: ADD QUESTION: WHY IS TRAIN ACCURACY MUCH LOWER THAN TEST ACCURACY FOR THE FIRST EPOCH?\n",
    "\n",
    "\n",
    "# model.forward_checker(torch.zeros(16, 3, 64, 64))\n"
   ]
  },
  {
   "cell_type": "markdown",
   "metadata": {},
   "source": [
    "## Defining a feedforward neural network (FFNN) class\n",
    "\n",
    "*Here, we don't need to reinvent the wheel, so we just subclass from our existing CNN model to inherit all useful attributes*"
   ]
  },
  {
   "cell_type": "code",
   "execution_count": 149,
   "metadata": {},
   "outputs": [],
   "source": [
    "class FFNN(CNN):\n",
    "    def __init__(self, in_features, num_classes, lr=0.001):\n",
    "        # We have to give it dummy values, otherwise intialization will not work\n",
    "        super().__init__(num_classes=num_classes, in_channels=1, lr=0.001)\n",
    "        \n",
    "        self.num_classes = num_classes\n",
    "\n",
    "        self.layers = nn.Sequential(\n",
    "            nn.Linear(in_features=in_features, out_features=32),\n",
    "            nn.ReLU(),\n",
    "            nn.Linear(in_features=32, out_features=64),\n",
    "            nn.ReLU(),\n",
    "            nn.Linear(in_features=64, out_features=128),\n",
    "            nn.ReLU(),\n",
    "            nn.Linear(in_features=128, out_features=64),\n",
    "            nn.ReLU(),\n",
    "            nn.Linear(in_features=64, out_features=num_classes)\n",
    "        ).to(device)\n",
    "\n",
    "        self.criterion = nn.CrossEntropyLoss()\n",
    "        self.optim = torch.optim.Adam(self.layers.parameters(), lr=lr)\n",
    "            \n",
    "\n",
    "    def forward(self, x):\n",
    "        x = x.flatten(start_dim=1)\n",
    "        # Super unucesseary, but wanted to show that you can call the parent class' forward function\n",
    "        return super().forward(x)\n",
    "\n",
    "\n"
   ]
  },
  {
   "cell_type": "code",
   "execution_count": 158,
   "metadata": {},
   "outputs": [
    {
     "name": "stdout",
     "output_type": "stream",
     "text": [
      "1024\n",
      "torch.Size([16, 3, 32, 32])\n"
     ]
    },
    {
     "name": "stderr",
     "output_type": "stream",
     "text": [
      "100%|██████████| 3125/3125 [00:04<00:00, 740.02it/s]\n"
     ]
    },
    {
     "name": "stdout",
     "output_type": "stream",
     "text": [
      "Epoch 0 validation accuracy: 0.3205\n"
     ]
    },
    {
     "name": "stderr",
     "output_type": "stream",
     "text": [
      "100%|██████████| 3125/3125 [00:04<00:00, 717.59it/s]\n"
     ]
    },
    {
     "name": "stdout",
     "output_type": "stream",
     "text": [
      "Epoch 1 validation accuracy: 0.3611\n"
     ]
    },
    {
     "name": "stderr",
     "output_type": "stream",
     "text": [
      "100%|██████████| 3125/3125 [00:04<00:00, 685.76it/s]\n"
     ]
    },
    {
     "name": "stdout",
     "output_type": "stream",
     "text": [
      "Epoch 2 validation accuracy: 0.3698\n"
     ]
    },
    {
     "name": "stderr",
     "output_type": "stream",
     "text": [
      "100%|██████████| 3125/3125 [00:04<00:00, 709.07it/s]\n"
     ]
    },
    {
     "name": "stdout",
     "output_type": "stream",
     "text": [
      "Epoch 3 validation accuracy: 0.3918\n"
     ]
    },
    {
     "name": "stderr",
     "output_type": "stream",
     "text": [
      "100%|██████████| 3125/3125 [00:04<00:00, 706.29it/s]\n"
     ]
    },
    {
     "name": "stdout",
     "output_type": "stream",
     "text": [
      "Epoch 4 validation accuracy: 0.391\n"
     ]
    },
    {
     "data": {
      "image/png": "[encoded data removed]",
      "text/plain": [
       "<Figure size 640x480 with 1 Axes>"
      ]
     },
     "metadata": {},
     "output_type": "display_data"
    }
   ],
   "source": [
    "train_dataloader = torch.utils.data.DataLoader(train_set, batch_size=16, shuffle=True, collate_fn=collate_fn)\n",
    "test_dataloader = torch.utils.data.DataLoader(test_set, batch_size=16, shuffle=False, collate_fn=collate_fn)\n",
    "\n",
    "# Num in_channels really shouldn't be above 1, the FFNN probably can't handle that well\n",
    "num_in_channels = next(iter(train_dataloader))[0].shape[1]\n",
    "in_width_height = next(iter(train_dataloader))[0].shape[-1]\n",
    "\n",
    "FFNN_model = FFNN(in_features=num_in_channels*in_width_height**2,num_classes=10, lr=0.001)\n",
    "\n",
    "train_epochs = 5\n",
    "train_accs, test_accs = FFNN_model.train(train_dataloader, epochs=train_epochs, val_dataloader=test_dataloader)\n",
    "\n",
    "# plot train and test accuracies\n",
    "plt.plot(range(train_epochs), train_accs, label='Train')\n",
    "plt.plot(range(train_epochs), test_accs, label='Test')\n",
    "\n",
    "plt.xlabel('Epoch')\n",
    "plt.ylabel('Accuracy')\n",
    "plt.title('Train and Test Accuracy over epochs, FFNN model')\n",
    "plt.legend()\n",
    "plt.show()\n",
    "\n",
    "# TODO: ADD QUESTION: WHY IS TRAIN ACCURACY MUCH LOWER THAN TEST ACCURACY FOR THE FIRST EPOCH?\n",
    "\n",
    "\n"
   ]
  },
  {
   "cell_type": "markdown",
   "metadata": {},
   "source": [
    "### Displaying the output of the convlutional layers\n",
    "\n",
    "*Sometimes it is interesting to actually examine how the convolutions in the CNN actually look, to reason about what the model learns. We do this by using Torch's 'forward hooks' - functions that you can apply to layers, that will then be called after the layer performs a forward pass. This can be useful for a bunch of different things, including adding BatchNorm to your model... We just use it to capture the output of each layer*"
   ]
  },
  {
   "cell_type": "code",
   "execution_count": 186,
   "metadata": {},
   "outputs": [
    {
     "name": "stderr",
     "output_type": "stream",
     "text": [
      "Clipping input data to the valid range for imshow with RGB data ([0..1] for floats or [0..255] for integers). Got range [-0.8980392..1.0].\n"
     ]
    },
    {
     "data": {
      "image/png": "[encoded data removed]",
      "text/plain": [
       "<Figure size 640x480 with 1 Axes>"
      ]
     },
     "metadata": {},
     "output_type": "display_data"
    },
    {
     "name": "stdout",
     "output_type": "stream",
     "text": [
      "torch.Size([1, 3, 32, 32])\n",
      "Layer: layers.0, Activation Shape: torch.Size([1, 32, 32, 32])\n",
      "Layer: layers.3, Activation Shape: torch.Size([1, 64, 14, 14])\n"
     ]
    },
    {
     "data": {
      "image/png": "[encoded data removed]",
      "text/plain": [
       "<Figure size 1200x600 with 8 Axes>"
      ]
     },
     "metadata": {},
     "output_type": "display_data"
    }
   ],
   "source": [
    "trained_model = False\n",
    "\n",
    "if trained_model is False:\n",
    "    # Initialize a dummy untrained CNN model to compare activations with\n",
    "    in_channels = next(iter(train_dataloader))[0].shape[1]\n",
    "    in_width_height = next(iter(train_dataloader))[0].shape[-1]\n",
    "    feats_fore_linear = get_dim_before_first_linear(CNN_model.layers, in_width_height, in_channels, brain=False)\n",
    "    model = CNN(num_classes=10, in_channels=in_channels, features_fore_linear=feats_fore_linear, lr=0.001) \n",
    "\n",
    "else:\n",
    "    # Otherwise use a trained model\n",
    "    model = CNN_model\n",
    "\n",
    "# Dict to hold network activations\n",
    "activations = {}\n",
    "\n",
    "# Hook function, is a type of wrapper function that is then called whenever layer registered with it is run\n",
    "def forward_hook(layer_name, capture_dict):\n",
    "    def hook(module, input, output):\n",
    "        capture_dict[layer_name] = output\n",
    "    return hook\n",
    "\n",
    "# Register hooks for all Conv2d layers model\n",
    "for name, layer in model.named_modules():\n",
    "    if isinstance(layer, nn.Conv2d):\n",
    "        layer.register_forward_hook(forward_hook(name, activations))\n",
    "\n",
    "# Get just a single example from the test dataloader\n",
    "input_image, input_label = next(iter(test_dataloader))\n",
    "input_image, input_label = input_image[0].unsqueeze(0).to('cpu'), input_label[0].unsqueeze(0).to('cpu').numpy()[0]\n",
    "\n",
    "# TODO: ADD SUPPORT FOR CIFAR10\n",
    "# Plot the image before convolutions\n",
    "if dataset == 'mnist':\n",
    "    plt.imshow(input_image.squeeze().numpy(), cmap='gray')\n",
    "    plt.title(f'Random image, label: {input_label}')\n",
    "\n",
    "elif dataset == 'cifar10':\n",
    "    plt.imshow(input_image.squeeze().transpose(0, 2).transpose(0, 1).numpy())\n",
    "    plt.title(f'Random image, label: {cifar10_classes[input_label]}')\n",
    "plt.axis('off')  # Hide axis\n",
    "plt.show()\n",
    "\n",
    "# Forward pass - Use torch.no_grad() to not store gradients, since we are only interested in activations\n",
    "with torch.no_grad():\n",
    "    print(input_image.shape)\n",
    "    output = model(input_image.to(device))\n",
    "\n",
    "# Display the captured activations\n",
    "for layer_name, activation in activations.items():\n",
    "    print(f\"Layer: {layer_name}, Activation Shape: {activation.shape}\")\n",
    "\n",
    "fig, axes = plt.subplots(2, 4, figsize=(12, 6))\n",
    "\n",
    "for i, (layer_name, activation) in enumerate(activations.items()):\n",
    "    for j in range(4):\n",
    "        axes[i, j].imshow(activation[0, j, ...].to('cpu'), cmap='gray')\n",
    "        axes[i, j].axis('off') \n",
    "\n",
    "plt.tight_layout()\n",
    "plt.show()"
   ]
  },
  {
   "cell_type": "code",
   "execution_count": null,
   "metadata": {},
   "outputs": [],
   "source": [
    "# Assuming that `model` is already defined as in your code\n",
    "# and contains the layers you provided.\n",
    "\n",
    "def visualize_kernel_output(model, image):\n",
    "\n",
    "    image = image.unsqueeze(0)  # Add batch dimension: (1, 1, H, W)\n",
    "    outputs = []\n",
    "\n",
    "    for layer in model.layers:\n",
    "        kernel_weights = layer.weight.detach().cpu()\n",
    "        print(f\"Kernel weights shape: {kernel_weights.shape}\")\n",
    "\n",
    "        with torch.no_grad():\n",
    "            outputs.append(layer(image))\n",
    "            \n",
    "\n",
    "\n",
    "    # Get the first convolutional layer\n",
    "    first_conv_layer = model.layers[0]  # First layer is Conv2d\n",
    "    \n",
    "    # Get the weights of the first kernel in the first conv layer\n",
    "    first_kernel_weights = first_conv_layer.weight[0].detach().cpu()  # Shape: (out_channels, in_channels, kernel_size, kernel_size)\n",
    "    \n",
    "    print(f\"First kernel weights shape: {first_kernel_weights.shape}\")\n",
    "    \n",
    "    # Pass the image through the first convolutional layer\n",
    "    with torch.no_grad():\n",
    "        conv_output = first_conv_layer(image.unsqueeze(0))  # Add batch dimension: (1, 1, H, W)\n",
    "        conv_output = conv_output.squeeze(0)  # Remove batch dimension: (32, H', W')\n",
    "\n",
    "    # Visualize the output of the first channel (i.e., the result of the first kernel)\n",
    "    first_kernel_output = conv_output[0].detach().cpu().numpy()  # Select the output corresponding to the first kernel\n",
    "    \n",
    "    plt.imshow(first_kernel_output, cmap='gray')\n",
    "    plt.title(\"Output of first kernel after first convolution\")\n",
    "    plt.colorbar()\n",
    "    plt.show()\n",
    "\n",
    "# Assuming the image is a single image tensor with shape (1, H, W), e.g., from train_dataloader\n",
    "# This assumes a grayscale image (1 channel), modify accordingly for RGB input\n",
    "\n",
    "# Load one image from the train set\n",
    "image, label = next(iter(train_dataloader))  # A batch from your dataloader\n",
    "single_image = image[0].to(device)  # Use the first image in the batch and send it to the correct device\n",
    "\n",
    "# Visualize the first kernel output\n",
    "visualize_first_kernel_output(model, single_image)\n"
   ]
  },
  {
   "cell_type": "code",
   "execution_count": null,
   "metadata": {},
   "outputs": [],
   "source": [
    "# Initialize dummy untrained CNN model to compare activations with\n",
    "dummy_model = CNN(num_classes=10, in_channels=1, lr=0.001)\n",
    "\n",
    "# Dicts to hold output of both dummy and trained network activations\n",
    "dummy_activations = {}\n",
    "trained_activations = {}\n",
    "\n",
    "# Hook function, is a type of wrapper function that is then called whenever layer registered with it is run\n",
    "def forward_hook(layer_name, capture_dict):\n",
    "    def hook(module, input, output):\n",
    "        capture_dict[layer_name] = output\n",
    "    return hook\n",
    "\n",
    "# Register hooks for all Conv2d layers for first dummy then good model\n",
    "for name, layer in dummy_model.named_modules():\n",
    "    if isinstance(layer, nn.Conv2d):\n",
    "        layer.register_forward_hook(forward_hook(name, dummy_activations))\n",
    "\n",
    "for name, layer in CNN_model.named_modules():\n",
    "    if isinstance(layer, nn.Conv2d):\n",
    "        layer.register_forward_hook(forward_hook(name, trained_activations))\n",
    "\n",
    "# Get just a single example from the test dataloader\n",
    "input_image, input_label = next(iter(test_dataloader))\n",
    "input_image, input_label = input_image[0].unsqueeze(0).to('cpu'), input_label[0].unsqueeze(0).to('cpu').numpy()[0]\n",
    "\n",
    "# Plot the image before convolutions\n",
    "plt.imshow(input_image.squeeze().numpy(), cmap='gray')\n",
    "plt.title(f'Random mnist_image, label: {input_label}')\n",
    "plt.axis('off')  # Hide axis\n",
    "plt.show()\n",
    "\n",
    "\n",
    "# Forward pass - Use torch.no_grad() to not store gradients, since we are only interested in activations\n",
    "with torch.no_grad():\n",
    "    output_dummy = dummy_model(input_image.to(device))\n",
    "    output_trained = CNN_model(input_image.to(device))\n",
    "\n",
    "\n",
    "# Display the captured activations\n",
    "for layer_name, activation in dummy_activations.items():\n",
    "    print(f\"Layer: {layer_name}, Activation Shape: {activation.shape}\")\n",
    "\n",
    "for layer_name, activation in trained_activations.items():\n",
    "    print(f\"Layer: {layer_name}, Activation Shape: {activation.shape}\")\n",
    "\n",
    "\n",
    "fig, axes = plt.subplots(2, 4, figsize=(12, 6))\n",
    "\n",
    "for i, (layer_name, activation) in enumerate(dummy_activations.items()):\n",
    "    for j in range(4):\n",
    "        axes[i, j].imshow(activation[0, j, ...].to('cpu'), cmap='gray')\n",
    "        axes[i, j].axis('off') \n",
    "\n",
    "for i, (layer_name, activation) in enumerate(trained_activations.items()):\n",
    "    for j in range(4):\n",
    "        axes[i, j].imshow(activation[0, j, ...].to('cpu'), cmap='gray')\n",
    "        axes[i, j].axis('off')\n",
    "\n",
    "plt.tight_layout()\n",
    "plt.show()"
   ]
  },
  {
   "cell_type": "code",
   "execution_count": null,
   "metadata": {},
   "outputs": [],
   "source": [
    "\n",
    "\n",
    "    def forward_checker(self, x):\n",
    "        print(x.size())\n",
    "\n",
    "        for layer in self.layers:\n",
    "            try:\n",
    "                x = layer(x)\n",
    "                print(f\"After {layer}: \",x.size())\n",
    "            except: #Do not use base exception!\n",
    "                print(\"Oops, that did not work!\", BaseException)\n",
    "                break\n",
    "\n",
    "class DiscountVGG:\n",
    "    def __init__(self):\n",
    "        pass\n",
    "\n",
    "    def forward(self, x):\n",
    "        pass\n",
    "\n",
    "    def train():\n",
    "        pass\n",
    "\n",
    "\n",
    "class LightningVGG:\n",
    "    pass\n",
    "\n",
    "\n",
    "\n",
    "model = CNN(None, None, 64, 10, in_channels = 3, lr=0.001)\n",
    "\n",
    "# summary(model, (3, 64, 64))\n",
    "\n",
    "model.forward_checker(torch.zeros(16, 3, 64, 64))\n",
    "\n",
    "        \n",
    "#     def forward(self, x):\n",
    "#         return self.layers(x)\n",
    "# None, None\n",
    "#         print(x.size())\n",
    "\n",
    "#         for layer in self.layers:\n",
    "#             try:\n",
    "#                 x = layer(x)\n",
    "#                 print(f\"After {layer}: \",x.size())\n",
    "#             except: #Do not use base exception!\n",
    "#                 print(\"Oops, that did not work!\", BaseException)\n",
    "#                 break\n",
    "\n",
    "# class DiscountVGG:\n",
    "#     def __init__(self):\n",
    "#         pass\n",
    "\n",
    "#     def forward(self, x):\n",
    "#         pass\n",
    "\n",
    "#     def train():\n",
    "#         pass\n",
    "\n",
    "\n",
    "# class LightningVGG:\n",
    "#     pass"
   ]
  },
  {
   "cell_type": "code",
   "execution_count": 31,
   "metadata": {},
   "outputs": [],
   "source": [
    "# Pretty writer\n",
    "\n",
    "# TODO:\n",
    "# Make stdout catcher that works for ipynb (or at least has an option for it) and doesn't break stdout\n",
    "# Make a prettifier function that runs another function with the stdout capturer, captures the output\n",
    "# and then writes it using the prettifier code from gpt (formatting and all that) \n",
    "\n",
    "# Finally: Consider if you can't make prettywriter a wrapper rather than a context manager\n",
    "\n",
    "from io import StringIO\n",
    "import sys\n",
    "from contextlib import contextmanager\n",
    "@contextmanager\n",
    "def capture_stdout():\n",
    "    \"\"\"\n",
    "    context manager encapsulating a pattern for capturing stdout writes\n",
    "    and restoring sys.stdout even upon exceptions\n",
    "\n",
    "    Examples:\n",
    "    >>> with capture_stdout() as get_value:\n",
    "    >>>     print(\"here is a print\")\n",
    "    >>>     captured = get_value()\n",
    "    >>> print('Gotcha: ' + captured)\n",
    "\n",
    "    >>> with capture_stdout() as get_value:\n",
    "    >>>     print(\"here is a print\")\n",
    "    >>>     raise Exception('oh no!')\n",
    "    >>> print('Does printing still work?')\n",
    "    \"\"\"\n",
    "    # Redirect sys.stdout\n",
    "    out = StringIO()\n",
    "    sys.stdout = out\n",
    "    # Yield a method clients can use to obtain the value\n",
    "    try:\n",
    "        yield out.getvalue\n",
    "    finally:\n",
    "        # Restore the normal stdout\n",
    "        sys.stdout = sys.__stdout__\n",
    "\n",
    "class Capturing(list):\n",
    "    def __enter__(self):\n",
    "        self._stdout = sys.stdout\n",
    "        sys.stdout = self._stringio = StringIO()\n",
    "        return self\n",
    "    def __exit__(self, *args):\n",
    "        self.extend(self._stringio.getvalue().splitlines())\n",
    "        del self._stringio    # free up some memory\n",
    "        sys.stdout = self._stdout\n",
    "\n",
    "def parrot(num=5):\n",
    "    for i in range(num):\n",
    "        print(\"NUMBER:\", i)\n",
    "    \n",
    "with capture_stdout() as get_value:\n",
    "    print('here is a print')\n",
    "    parrot(10)\n",
    "    captured = get_value()\n",
    "print(\"GOTCHA\", captured)\n",
    "\n",
    "print(\"GOTCHA\")\n",
    "\n",
    "\n",
    "help_strings = [\n",
    "    (\"this is value 1\", 42),\n",
    "    (\"this is a longer text for value 2\", 3.14),\n",
    "    (\"another value\", 100),\n",
    "    (\"short\", 5)\n",
    "]\n",
    "\n",
    "# Find the maximum length of the help strings\n",
    "max_length = max(len(help) for help, _ in help_strings)\n",
    "\n",
    "# Print each help string with its value, aligned in columns\n",
    "for help, value in help_strings:\n",
    "    print(f\"{help:<{max_length}} : {value}\")\n",
    "\n"
   ]
  },
  {
   "cell_type": "code",
   "execution_count": null,
   "metadata": {},
   "outputs": [],
   "source": [
    "class BaseNNClass(torch.nn.Module):\n",
    "    def __init__(self, lr=0.001):\n",
    "        if self.__class__ == BaseNNClass:\n",
    "            raise TypeError(f\"{self.__class__.__name__} cannot be instantiated directly.\")\n",
    "        super().__init__()\n",
    "\n",
    "    def forward(self, x):\n",
    "        # TODO: Consider if we have x.flatten here or in collate_fn\n",
    "        return self.layers(x.flatten(start_dim=1))\n",
    "\n",
    "    def train(self, train_dataloader, epochs=1, val_dataloader=None):\n",
    "        \n",
    "        for epoch in tqdm(range(epochs)):\n",
    "\n",
    "            for inputs, targets in train_dataloader:\n",
    "                \n",
    "                logits = self.forward(inputs)\n",
    "\n",
    "                loss = self.criterion(logits, targets)\n",
    "\n",
    "                loss.backward()\n",
    "\n",
    "                self.optim.step()\n",
    "\n",
    "                self.optim.zero_grad()\n",
    "\n",
    "            if val_dataloader is not None:\n",
    "                acc = self.eval(val_dataloader)\n",
    "                print(f\"Epoch {epoch} validation accuracy: {acc}\")\n",
    "\n",
    "    def eval(self, test_dataloader):\n",
    "        \n",
    "        total_acc = 0\n",
    "\n",
    "        for input_batch, label_batch in test_dataloader:\n",
    "            # Get predictions\n",
    "            logits = self(input_batch)\n",
    "\n",
    "            # Remember, outs are probabilities (so there's 10 for each input)\n",
    "            # The classification the network wants to assign, must therefore be the probability with the larget value\n",
    "            # We find that using argmax (dim=1, because dim=0 would be across batch dimension)\n",
    "            classifications = torch.argmax(logits, dim=1)\n",
    "            total_acc += (classifications == label_batch).sum().item()\n",
    "\n",
    "        total_acc = total_acc / len(test_dataloader.dataset)\n",
    "\n",
    "        return total_acc\n",
    "\n"
   ]
  },
  {
   "cell_type": "code",
   "execution_count": 3,
   "metadata": {},
   "outputs": [
    {
     "name": "stdout",
     "output_type": "stream",
     "text": [
      "derp\n",
      "<ipykernel.iostream.OutStream object at 0x7383ec3b14e0>\n"
     ]
    }
   ],
   "source": [
    "import sys\n",
    "from ipykernel.iostream import OutStream\n",
    "nb_stdout = sys.stdout\n",
    "sys.stdout = nb_stdout\n",
    "print(\"derp\")\n",
    "print(nb_stdout)\n",
    "\n"
   ]
  },
  {
   "cell_type": "code",
   "execution_count": 11,
   "metadata": {},
   "outputs": [
    {
     "name": "stdout",
     "output_type": "stream",
     "text": [
      "Batch size is: 16\n",
      "Input dim is (remember, there's also a color channel!): torch.Size([1, 28, 28])\n"
     ]
    },
    {
     "name": "stderr",
     "output_type": "stream",
     "text": [
      "  0%|          | 0/1 [00:00<?, ?it/s]"
     ]
    },
    {
     "name": "stderr",
     "output_type": "stream",
     "text": [
      "100%|██████████| 1/1 [00:10<00:00, 10.47s/it]\n"
     ]
    },
    {
     "name": "stdout",
     "output_type": "stream",
     "text": [
      "0.098\n"
     ]
    }
   ],
   "source": [
    "example_input, example_label = next(iter(train_dataloader))\n",
    "\n",
    "print(\"Batch size is:\", len(example_input))\n",
    "print(\"Input dim is (remember, there's also a color channel!):\", example_input.shape[1:])\n",
    "\n",
    "# TODO: Change both below to be not cancerous!\n",
    "in_features = example_input.flatten(start_dim=1).shape[-1]\n",
    "num_classes = 10 # \n",
    "\n",
    "model = FFN(None, None, in_features=in_features, num_classes=num_classes)\n",
    "\n",
    "model.train(train_dataloader, epochs=1)\n",
    "\n",
    "\n",
    "print(model.test(test_dataloader))"
   ]
  },
  {
   "cell_type": "code",
   "execution_count": null,
   "metadata": {},
   "outputs": [],
   "source": [
    "\n",
    "# num_rows = 4\n",
    "# num_cols = 5\n",
    "# num_images = num_rows * num_cols\n",
    "\n",
    "\n",
    "# # Create a figure to display the images\n",
    "# fig, axes = plt.subplots(num_rows, num_cols, figsize=(15, 10))\n",
    "# axes = axes.flatten()\n",
    "# fig.suptitle('Train Images and their classes', fontsize=20)\n",
    "\n",
    "\n",
    "# p = 0\n",
    "# # TODO: Consider if it isn't easier just using variable dataloader size for this bullshit... would save the nested loops, ya'know\n",
    "# for imgs, labels in train_dataloader:\n",
    "#     for img, label in zip(imgs, labels):\n",
    "        \n",
    "#         if p == num_images:\n",
    "#             continue\n",
    "\n",
    "#         curr_img = img.permute(1, 2, 0).to('cpu').numpy()\n",
    "#         # Normalize the image to the range [0, 1]\n",
    "#         curr_img = (curr_img - curr_img.min()) / (curr_img.max() - curr_img.min())\n",
    "#         axes[p].imshow(curr_img)\n",
    "#         axes[p].axis('off')\n",
    "\n",
    "#         if dataset == 'cifar10':\n",
    "#             axes[p].set_title(cifar10_classes[label.item()], fontsize=12)\n",
    "#         elif dataset == 'mnist':\n",
    "#             axes[p].set_title(label.item(), fontsize=12)\n",
    "\n",
    "#         p += 1\n",
    "\n",
    "#     if p == num_images:\n",
    "#         break\n",
    "\n",
    "    \n",
    "# plt.tight_layout()\n",
    "# plt.show()"
   ]
  },
  {
   "cell_type": "markdown",
   "metadata": {},
   "source": [
    "# BELOW STOLEN FROM 02456 - DO NOT USE, OBVIOUSLY REWRITE IT"
   ]
  },
  {
   "cell_type": "markdown",
   "metadata": {},
   "source": [
    "#### <span style=\"color:red\"> EXE 1.1 </span> Manual calculations\n",
    "\n",
    "![](images/conv_exe.png)\n",
    "\n",
    "\n",
    "\n",
    "1. Manually convolve the input, and compute the convolved features. No padding and no strieds.\n",
    "1. Perform `2x2` max pooling on the convolved features. Stride of 2.\n",
    "\n",
    "___\n",
    "\n",
    "<span style=\"color:blue\"> Answer: </span>\n",
    "\n",
    "\n",
    "\n"
   ]
  },
  {
   "cell_type": "markdown",
   "metadata": {},
   "source": [
    "\n",
    "#### <span style=\"color:red\"> EXE 1.2 </span> Reducing the resolution\n",
    "One of the important features of convolutional networks are their ability to reduce the spatial resolution, while retaining the important features.\n",
    "Effectively this gives a local translational invariance and reduces the computation. \n",
    "This is most often done with **maxpooling** or by using strides.\n",
    "\n",
    "1. Using only convolutional layers and pooling operations reduce the feature map size to `1x1xF`.\n",
    "    * The number of feature maps, `F`, is up to you.\n",
    "\n",
    "___\n",
    "\n",
    "<span style=\"color:blue\"> Write down what you did: </span>\n",
    "\n",
    "``` \n",
    "Paste your code here\n",
    "```\n",
    "\n",
    "\n",
    "``` \n",
    "Paste the trace of the tensors shape as it is propagated through the network here\n",
    "```\n"
   ]
  },
  {
   "cell_type": "markdown",
   "metadata": {},
   "source": [
    "#### <span style=\"color:red\"> EXE 1.3 </span> Play around with the network.\n",
    "The MNIST dataset is so easy to solve with convolutional networks that it isn't interesting to spend to much time on maximizing performance.\n",
    "A more interesting question is *how few parameters can you solve it with?*\n",
    "\n",
    "1. Try and minimize the number of parameters, while keeping validation accuracy about 95%. Try changing the\n",
    "\n",
    "    * Number of layers\n",
    "    * Number of filters\n",
    "    * Kernel size\n",
    "    * Pooling size\n",
    "1. Once happy take note of the performance, number of parameters (printed automatically), and describe the network below.\n",
    "___\n",
    "\n",
    "\n",
    "<span style=\"color:blue\"> Answer: </span>\n"
   ]
  },
  {
   "cell_type": "markdown",
   "metadata": {},
   "source": [
    "#### <span style=\"color:red\"> EXE 1.4 </span> Comparing dense and convolutional networks\n",
    "\n",
    "1. Now create a densely connected network (the ones from lab 1), and see how good performance you can get with a similar number of parameters.\n",
    "___\n",
    "\n",
    "<span style=\"color:blue\"> Describe your findings: </span>\n"
   ]
  }
 ],
 "metadata": {
  "kernelspec": {
   "display_name": "adv-ml",
   "language": "python",
   "name": "python3"
  },
  "language_info": {
   "codemirror_mode": {
    "name": "ipython",
    "version": 3
   },
   "file_extension": ".py",
   "mimetype": "text/x-python",
   "name": "python",
   "nbconvert_exporter": "python",
   "pygments_lexer": "ipython3",
   "version": "3.12.4"
  }
 },
 "nbformat": 4,
 "nbformat_minor": 2
}
