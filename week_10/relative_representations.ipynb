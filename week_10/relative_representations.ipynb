{
 "cells": [
  {
   "cell_type": "code",
   "id": "initial_id",
   "metadata": {
    "collapsed": true,
    "ExecuteTime": {
     "end_time": "2024-11-04T15:24:08.846577Z",
     "start_time": "2024-11-04T15:24:08.804514Z"
    }
   },
   "source": [
    "import pickle\n",
    "import random\n",
    "import numpy as np\n",
    "import matplotlib.pyplot as plt\n",
    "from os.path import join\n",
    "from tqdm.notebook import tqdm\n",
    "\n",
    "from collections import defaultdict\n",
    "from sklearn.decomposition import PCA\n",
    "from sklearn.neighbors import NearestNeighbors, KNeighborsClassifier"
   ],
   "outputs": [],
   "execution_count": 159
  },
  {
   "cell_type": "markdown",
   "source": [
    "Download:\n",
    "For fasttext we want the `1. wiki-news-300d-1M.vec.zip: 1 million word vectors trained on Wikipedia 2017, UMBC webbase corpus and statmt.org news dataset (16B tokens).` found at \n",
    "\n",
    "`https://fasttext.cc/docs/en/english-vectors.html`\n",
    "\n",
    "For GloVe we want the `Wikipedia 2014 + Gigaword 5 (6B tokens, 400K vocab, uncased, 50d, 100d, 200d, & 300d vectors, 822 MB download): glove.6B.zip` found at \n",
    "\n",
    "`https://nlp.stanford.edu/projects/glove/`"
   ],
   "metadata": {
    "collapsed": false
   },
   "id": "cd1ff3324dedccc0"
  },
  {
   "cell_type": "code",
   "source": [
    "def load_vectors_from_file(filename, n_words, encoding='utf-8', specified_word_set=None):\n",
    "    p_bar = tqdm(total=n_words, desc='Loading word vectors', position=0, leave=True)\n",
    "    embeddings_dict = {}\n",
    "    with open(filename, 'r', encoding=encoding) as f:\n",
    "        for line in f:\n",
    "            values = line.split()\n",
    "            word = values[0]\n",
    "            if specified_word_set is None or word in specified_word_set:\n",
    "                vector = np.asarray(values[1:], \"float32\")\n",
    "                if len(vector) > 1:\n",
    "                    embeddings_dict[word] = vector\n",
    "                    p_bar.update(1)\n",
    "                    if len(embeddings_dict) == n_words:\n",
    "                        break\n",
    "        else:\n",
    "            print(\"Reached end of file!\")\n",
    "    print(f'Loaded {len(embeddings_dict)} word vectors')\n",
    "    embeddings_dict = dict(sorted(embeddings_dict.items()))\n",
    "    \n",
    "    all_vectors = np.array(list(embeddings_dict.values()))\n",
    "    normalisation = all_vectors.mean(axis=0)\n",
    "    all_vectors -= normalisation\n",
    "    embeddings_dict = {word: vector for word, vector in zip(embeddings_dict.keys(), all_vectors)}\n",
    "    \n",
    "    return embeddings_dict\n",
    "\n",
    "\n",
    "def ensure_intersecting_keys(dict1, dict2):\n",
    "    \"\"\"\n",
    "    Modifies the input dictionaries to only keep keys that exist in both dictionaries.\n",
    "    \n",
    "    Parameters:\n",
    "    dict1 (dict): The first dictionary to be modified.\n",
    "    dict2 (dict): The second dictionary to be modified.\n",
    "    \"\"\"\n",
    "    # Find the intersection of the keys\n",
    "    common_keys = set(dict1.keys()).intersection(set(dict2.keys()))\n",
    "    \n",
    "    # Remove keys from dict1 that are not in the intersection\n",
    "    keys_to_remove = set(dict1.keys()) - common_keys\n",
    "    for key in keys_to_remove:\n",
    "        del dict1[key]\n",
    "    print(f'Removed {len(keys_to_remove)}, leaving {len(dict1.keys())}')\n",
    "\n",
    "    # Remove keys from dict2 that are not in the intersection\n",
    "    keys_to_remove = set(dict2.keys()) - common_keys\n",
    "    for key in keys_to_remove:\n",
    "        del dict2[key]"
   ],
   "metadata": {
    "collapsed": false,
    "ExecuteTime": {
     "end_time": "2024-11-04T14:33:55.510634Z",
     "start_time": "2024-11-04T14:33:55.493069Z"
    }
   },
   "id": "f2307912b9ebe238",
   "outputs": [],
   "execution_count": 87
  },
  {
   "cell_type": "code",
   "source": [
    "n_words = 40_000\n",
    "filename_glove = \"glove.6B.300d.txt\"\n",
    "embeddings_dict_glove = load_vectors_from_file(filename_glove, n_words=n_words)"
   ],
   "metadata": {
    "collapsed": false,
    "ExecuteTime": {
     "end_time": "2024-11-04T14:33:45.140160Z",
     "start_time": "2024-11-04T14:33:39.751830Z"
    }
   },
   "id": "47955bb958a26475",
   "outputs": [
    {
     "name": "stderr",
     "output_type": "stream",
     "text": [
      "Loading word vectors:  99%|█████████▊| 39478/40000 [00:05<00:00, 6191.67it/s]"
     ]
    },
    {
     "name": "stdout",
     "output_type": "stream",
     "text": [
      "Loaded 40000 word vectors\n"
     ]
    },
    {
     "name": "stderr",
     "output_type": "stream",
     "text": [
      "Loading word vectors: 100%|██████████| 40000/40000 [00:05<00:00, 7472.79it/s]\n"
     ]
    }
   ],
   "execution_count": 84
  },
  {
   "cell_type": "code",
   "source": [
    "filename_fasttext = 'wiki-news-300d-1M.vec'\n",
    "embeddings_dict_fasttext = load_vectors_from_file(filename_fasttext, n_words=n_words, specified_word_set=None)"
   ],
   "metadata": {
    "collapsed": false,
    "ExecuteTime": {
     "end_time": "2024-11-04T14:33:50.510363Z",
     "start_time": "2024-11-04T14:33:45.449005Z"
    }
   },
   "id": "e84c332fa32e8a57",
   "outputs": [
    {
     "name": "stderr",
     "output_type": "stream",
     "text": [
      "Loading word vectors: 100%|██████████| 40000/40000 [00:05<00:00, 7963.60it/s]"
     ]
    },
    {
     "name": "stdout",
     "output_type": "stream",
     "text": [
      "Loaded 40000 word vectors\n"
     ]
    },
    {
     "name": "stderr",
     "output_type": "stream",
     "text": [
      "\n"
     ]
    }
   ],
   "execution_count": 85
  },
  {
   "cell_type": "code",
   "source": "ensure_intersecting_keys(embeddings_dict_glove, embeddings_dict_fasttext)",
   "metadata": {
    "collapsed": false,
    "ExecuteTime": {
     "end_time": "2024-11-04T14:33:58.508749Z",
     "start_time": "2024-11-04T14:33:58.409687Z"
    }
   },
   "id": "cff62ff0328abcc4",
   "outputs": [
    {
     "name": "stdout",
     "output_type": "stream",
     "text": [
      "Removed 17994, leaving 22006\n"
     ]
    }
   ],
   "execution_count": 88
  },
  {
   "metadata": {},
   "cell_type": "code",
   "outputs": [],
   "execution_count": null,
   "source": [
    "filename_glove_pickle = \"Glove_ex_10.pkl\"\n",
    "filename_fasttext_pickle = \"FastText_ex_10.pkl\""
   ],
   "id": "93b627e4283cdfc"
  },
  {
   "metadata": {},
   "cell_type": "code",
   "outputs": [],
   "execution_count": null,
   "source": [
    "with open(filename_glove_pickle, \"wb\") as f:\n",
    "    pickle.dump(embeddings_dict_glove, f)\n",
    "\n",
    "with open(filename_fasttext_pickle, \"wb\") as f:\n",
    "    pickle.dump(embeddings_dict_fasttext, f)"
   ],
   "id": "b8a25cfda25a655c"
  },
  {
   "metadata": {
    "ExecuteTime": {
     "end_time": "2024-11-04T14:34:51.101854Z",
     "start_time": "2024-11-04T14:34:50.860818Z"
    }
   },
   "cell_type": "code",
   "source": [
    "with open(filename_glove_pickle, \"rb\") as f:\n",
    "    embeddings_dict_glove = pickle.load(f)\n",
    "\n",
    "with open(filename_fasttext_pickle, \"rb\") as f:\n",
    "    embeddings_dict_fasttext = pickle.load(f)"
   ],
   "id": "64411e997f8bc262",
   "outputs": [],
   "execution_count": 92
  },
  {
   "cell_type": "code",
   "source": [
    "def get_anchors(embeddings_dict, n_anchors=300):\n",
    "    \"\"\"Randomly sample n_anchors from embeddings_dict and return as a matrix where each row is a relative representation vector. Returns shape (embedding_dim, n_anchors)\"\"\"\n",
    "    anchor_words = random.sample(list(embeddings_dict_fasttext.keys()), n_anchors)\n",
    "    anchor_vectors = np.vstack([embeddings_dict[word] for word in anchor_words])\n",
    "    \n",
    "    return anchor_vectors, anchor_words\n",
    "\n",
    "def get_relative_representations(embeddings_dict, similarity_measure, n_anchors=300):\n",
    "    \"\"\"Using a given similarity measure and embedding dictionary, calculate the relative representations and return as a matrix where each row is a relative representation vector. Returns shape (n_samples, n_anchors)\"\"\"\n",
    "    relative_representations_dict = dict()\n",
    "    anchor_vectors, anchor_words = get_anchors(embeddings_dict, n_anchors=n_anchors)\n",
    "    \n",
    "    for word in tqdm(embeddings_dict.keys(), desc='Calculating relative representations',  position=0, leave=True):\n",
    "        embedding = embeddings_dict[word]\n",
    "\n",
    "        relative_representation = similarity_measure(embedding, anchor_vectors)\n",
    "        relative_representations_dict[word] = relative_representation\n",
    "\n",
    "    return relative_representations_dict"
   ],
   "metadata": {
    "collapsed": false,
    "ExecuteTime": {
     "end_time": "2024-11-04T14:35:44.374541Z",
     "start_time": "2024-11-04T14:35:44.356270Z"
    }
   },
   "id": "d80b93887e13d55b",
   "outputs": [],
   "execution_count": 93
  },
  {
   "cell_type": "code",
   "source": [
    "def cosine_similarity(word_vector, anchors):\n",
    "    \"\"\"Calculate the cosine similarity between the word vector and each of the anchors. Returns a vector of shape (n_anchors,)\"\"\"\n",
    "    # Normalize the word vector\n",
    "    word_vector_norm = np.linalg.norm(word_vector)\n",
    "    word_vector_normalized = word_vector / word_vector_norm\n",
    "    # Normalize the anchor rows\n",
    "    row_norms = np.linalg.norm(anchors, axis=1)\n",
    "    anchors_normalized = anchors / row_norms[:, np.newaxis]\n",
    "    # Compute the cosine similarities (dot product of normalized word_vector and each row)\n",
    "    cosine_similarities = np.dot(anchors_normalized, word_vector_normalized)\n",
    "    \n",
    "    return cosine_similarities"
   ],
   "metadata": {
    "collapsed": false,
    "ExecuteTime": {
     "end_time": "2024-11-04T14:35:44.627308Z",
     "start_time": "2024-11-04T14:35:44.618264Z"
    }
   },
   "id": "6c81d90ec2020ce8",
   "outputs": [],
   "execution_count": 94
  },
  {
   "cell_type": "code",
   "source": [
    "n_anchors = 300\n",
    "random.seed(420)\n",
    "relrep_dict_glove = get_relative_representations(embeddings_dict_glove, n_anchors=n_anchors, similarity_measure=cosine_similarity)"
   ],
   "metadata": {
    "collapsed": false,
    "ExecuteTime": {
     "end_time": "2024-11-04T14:35:53.066394Z",
     "start_time": "2024-11-04T14:35:44.764130Z"
    }
   },
   "id": "a9b0006b10649388",
   "outputs": [
    {
     "name": "stderr",
     "output_type": "stream",
     "text": [
      "Calculating relative representations: 100%|██████████| 22006/22006 [00:08<00:00, 2668.26it/s]\n"
     ]
    }
   ],
   "execution_count": 95
  },
  {
   "cell_type": "code",
   "source": "relrep_dict_fasttext = get_relative_representations(embeddings_dict_fasttext, n_anchors=n_anchors, similarity_measure=cosine_similarity)",
   "metadata": {
    "collapsed": false,
    "ExecuteTime": {
     "end_time": "2024-11-04T14:36:00.869335Z",
     "start_time": "2024-11-04T14:35:53.084159Z"
    }
   },
   "id": "348f2fbe337dbebf",
   "outputs": [
    {
     "name": "stderr",
     "output_type": "stream",
     "text": [
      "Calculating relative representations: 100%|██████████| 22006/22006 [00:07<00:00, 2842.48it/s]\n"
     ]
    }
   ],
   "execution_count": 96
  },
  {
   "cell_type": "code",
   "source": [
    "def sample_random_words(words, n):    \n",
    "    random_sample = random.sample(words, n)\n",
    "    return random_sample\n",
    "\n",
    "\n",
    "def create_2d_clusters(cluster_centers, embeddings, n_neighbors=200):\n",
    "    \"\"\"\n",
    "    Find the n_points nearest neighbors in the embeddings matrix for each cluster center and use PCA to reduce the dimensionality of the points to 2.\n",
    "    \n",
    "    Parameters:\n",
    "    cluster_centers (np.array): An array of cluster center vectors.\n",
    "    embeddings (np.array): An array of embedding vectors.\n",
    "    n_neighbors (int): The number of nearest neighbors to find for each cluster center.\n",
    "    \n",
    "    Returns:\n",
    "    pca_results: A numpy array of shape (n_clusters, n_neighbors, 2) containing the two principal components of the nearest neighbors of each of the clusters centers\n",
    "    \"\"\"\n",
    "    pca_results = np.empty(shape=(cluster_centers.shape[0], n_neighbors, 2))\n",
    "    \n",
    "    # Fit the NearestNeighbors model\n",
    "    nn_model = NearestNeighbors(n_neighbors=n_neighbors)\n",
    "    pca = PCA(n_components=2)\n",
    "    embeddings_2d = pca.fit_transform(embeddings)\n",
    "    nn_model.fit(embeddings_2d)\n",
    "    \n",
    "    for i, center in enumerate(cluster_centers):\n",
    "        # Find the n_points nearest neighbors\n",
    "        center_2d = pca.transform(center.reshape((1, -1)))\n",
    "        distances, indices = nn_model.kneighbors(center_2d)\n",
    "        nearest_neighbors = embeddings_2d[indices[0]]\n",
    "                \n",
    "        # Store the results in the dictionary\n",
    "        pca_results[i] = nearest_neighbors\n",
    "    \n",
    "    return pca_results\n",
    "\n",
    "def visualize_clusters(pca_results, name='', y_lim=(None,), x_lim=(None,)):\n",
    "    for points in pca_results:\n",
    "        plt.scatter(points[:, 0], points[:, 1], marker='o', s=2.5)\n",
    "    plt.title(name)\n",
    "    plt.ylim(*y_lim)\n",
    "    plt.xlim(*x_lim)\n",
    "    plt.grid(True)"
   ],
   "metadata": {
    "collapsed": false,
    "ExecuteTime": {
     "end_time": "2024-11-04T14:36:00.980657Z",
     "start_time": "2024-11-04T14:36:00.952636Z"
    }
   },
   "id": "a156db4ed04d5551",
   "outputs": [],
   "execution_count": 97
  },
  {
   "metadata": {
    "ExecuteTime": {
     "end_time": "2024-11-04T14:36:01.151220Z",
     "start_time": "2024-11-04T14:36:01.123846Z"
    }
   },
   "cell_type": "code",
   "source": [
    "n_centers = 4\n",
    "\n",
    "words = list(embeddings_dict_glove.keys())\n",
    "anchor_words = sample_random_words(words, n=n_centers)\n",
    "\n",
    "centers_rel_rep_glove = np.vstack([relrep_dict_glove[word] for word in anchor_words])\n",
    "centers_rel_rep_fasttext = np.vstack([relrep_dict_fasttext[word] for word in anchor_words])\n",
    "centers_o_rep_glove = np.vstack([embeddings_dict_glove[word] for word in anchor_words])\n",
    "centers_o_rep_fasttext = np.vstack([embeddings_dict_fasttext[word] for word in anchor_words])"
   ],
   "id": "f9cecb06f60ce0e0",
   "outputs": [],
   "execution_count": 98
  },
  {
   "metadata": {
    "ExecuteTime": {
     "end_time": "2024-11-04T14:36:01.797183Z",
     "start_time": "2024-11-04T14:36:01.283675Z"
    }
   },
   "cell_type": "code",
   "source": [
    "o_reps_glove = np.vstack(list(embeddings_dict_glove.values()))\n",
    "o_reps_fasttext = np.vstack(list(embeddings_dict_fasttext.values()))\n",
    "rel_reps_glove = np.vstack(list(relrep_dict_glove.values()))\n",
    "rel_reps_fasttext = np.vstack(list(relrep_dict_fasttext.values()))"
   ],
   "id": "5a05b3ffd91082ab",
   "outputs": [],
   "execution_count": 99
  },
  {
   "metadata": {
    "ExecuteTime": {
     "end_time": "2024-11-04T14:36:01.987101Z",
     "start_time": "2024-11-04T14:36:01.963289Z"
    }
   },
   "cell_type": "code",
   "source": "o_reps_glove.shape, o_reps_fasttext.shape, centers_o_rep_glove.shape, centers_rel_rep_glove.shape",
   "id": "3657206f13faaf48",
   "outputs": [
    {
     "data": {
      "text/plain": [
       "((22006, 300), (22006, 300), (4, 300), (4, 300))"
      ]
     },
     "execution_count": 100,
     "metadata": {},
     "output_type": "execute_result"
    }
   ],
   "execution_count": 100
  },
  {
   "metadata": {
    "ExecuteTime": {
     "end_time": "2024-11-04T14:36:02.380771Z",
     "start_time": "2024-11-04T14:36:02.125771Z"
    }
   },
   "cell_type": "code",
   "source": [
    "n_points_visualisation = 100\n",
    "pca_glove_own = create_2d_clusters(centers_o_rep_glove, embeddings=o_reps_glove, n_neighbors=n_points_visualisation)\n",
    "pca_glove_relative = create_2d_clusters(centers_rel_rep_glove, embeddings=rel_reps_glove, n_neighbors=n_points_visualisation)"
   ],
   "id": "7731e8409b45b45d",
   "outputs": [],
   "execution_count": 101
  },
  {
   "metadata": {
    "ExecuteTime": {
     "end_time": "2024-11-04T14:36:03.156715Z",
     "start_time": "2024-11-04T14:36:02.528790Z"
    }
   },
   "cell_type": "code",
   "source": [
    "pca_fasttext_own = create_2d_clusters(centers_o_rep_fasttext, embeddings=o_reps_fasttext, n_neighbors=n_points_visualisation)\n",
    "pca_fasttext_relative = create_2d_clusters(centers_rel_rep_fasttext, embeddings=rel_reps_fasttext, n_neighbors=n_points_visualisation)"
   ],
   "id": "3174cce52b1ac7e0",
   "outputs": [],
   "execution_count": 102
  },
  {
   "cell_type": "code",
   "source": [
    "fig, axs = plt.subplots(nrows=2, ncols=2)\n",
    "plt.sca(axs[0, 0])\n",
    "visualize_clusters(pca_glove_own, f'PCA GloVe {n_points_visualisation}\\nown representations')\n",
    "plt.sca(axs[1, 0])\n",
    "visualize_clusters(pca_fasttext_own, f'PCA Fasttext {n_points_visualisation}\\nown representations')\n",
    "plt.sca(axs[0, 1])\n",
    "visualize_clusters(pca_glove_relative, f'PCA GloVe {n_points_visualisation}\\nrelative representations')\n",
    "plt.sca(axs[1, 1])\n",
    "visualize_clusters(pca_fasttext_relative, f'PCA Fasttext {n_points_visualisation}\\nrelative representations')\n",
    "\n",
    "plt.tight_layout()"
   ],
   "metadata": {
    "collapsed": false,
    "ExecuteTime": {
     "end_time": "2024-11-04T14:36:04.674052Z",
     "start_time": "2024-11-04T14:36:03.258736Z"
    }
   },
   "id": "116829c72ec8b853",
   "outputs": [
    {
     "data": {
      "text/plain": [
       "<Figure size 640x480 with 4 Axes>"
      ],
      "image/png": "[encoded data removed]"
     },
     "metadata": {},
     "output_type": "display_data"
    }
   ],
   "execution_count": 103
  },
  {
   "cell_type": "code",
   "source": [
    "def jaccard_similarity(vector, matrix):\n",
    "    \"\"\"\n",
    "    Calculate the Jaccard similarity between the vector and each of the rows in the matrix.\n",
    "    \n",
    "    Parameters:\n",
    "    vector (np.array): A binary vector.\n",
    "    matrix (np.array): A binary matrix with each row to be compared to the vector.\n",
    "    \n",
    "    Returns:\n",
    "    np.array: A vector of Jaccard similarities of shape (n_anchors,).\n",
    "    \"\"\"\n",
    "    # Ensure binary values\n",
    "    vector = np.asarray(vector, dtype=bool)\n",
    "    matrix = np.asarray(matrix, dtype=bool)\n",
    "    \n",
    "    # Calculate intersection and union\n",
    "    intersection = np.logical_and(matrix, vector).sum(axis=1)\n",
    "    union = np.logical_or(matrix, vector).sum(axis=1)\n",
    "    \n",
    "    # Handle the case of zero union (avoid division by zero)\n",
    "    union[union == 0] = 1\n",
    "    \n",
    "    # Calculate Jaccard similarity\n",
    "    jaccard_similarities = intersection / union\n",
    "    \n",
    "    return jaccard_similarities\n",
    "\n",
    "def mean_reciprocal_rank(query_vector, matrix):\n",
    "    \"\"\"\n",
    "    Calculate the Mean Reciprocal Rank (MRR) given a query vector and a matrix.\n",
    "    \n",
    "    Parameters:\n",
    "    query_vector (np.array): A vector representing the query.\n",
    "    matrix (np.array): A matrix where each row represents a document.\n",
    "    \n",
    "    Returns:\n",
    "    float: The MRR score.\n",
    "    \"\"\"\n",
    "    # Compute relevance scores as dot products between the query_vector and each row in the matrix\n",
    "    relevance_scores = np.dot(matrix, query_vector)\n",
    "    \n",
    "    # Get the ranks of the documents sorted by relevance (highest relevance first)\n",
    "    sorted_indices = np.argsort(relevance_scores)[::-1]\n",
    "    \n",
    "    # Find the rank of the first relevant document\n",
    "    first_relevant_rank = np.where(sorted_indices == 0)[0][0] + 1  # Adding 1 to make rank 1-based\n",
    "    \n",
    "    # Calculate the reciprocal rank\n",
    "    reciprocal_rank = 1 / first_relevant_rank\n",
    "    \n",
    "    return reciprocal_rank"
   ],
   "metadata": {
    "collapsed": false,
    "ExecuteTime": {
     "end_time": "2024-11-04T14:37:30.069658Z",
     "start_time": "2024-11-04T14:37:30.035768Z"
    }
   },
   "id": "541066a020d8152f",
   "outputs": [],
   "execution_count": 104
  },
  {
   "cell_type": "code",
   "source": [
    "from copy import deepcopy\n",
    "def calculate_metrics(repr_1, repr_2, name_1, name_2, K=10):\n",
    "    repr_1 = deepcopy(repr_1)\n",
    "    repr_2 = deepcopy(repr_2)\n",
    "    \n",
    "    metrics_dict = defaultdict(list)\n",
    "    knn_1 = NearestNeighbors(n_neighbors=K)\n",
    "    knn_1.fit(repr_1)\n",
    "    nearest_neighbors_1 = knn_1.kneighbors(repr_1, return_distance=False)\n",
    "    \n",
    "    knn_2 = NearestNeighbors(n_neighbors=K)\n",
    "    knn_2.fit(repr_2)    \n",
    "    nearest_neighbors_2 = knn_2.kneighbors(repr_1, return_distance=False)\n",
    "    \n",
    "    # Get the scores for the first one with itself\n",
    "    for i, vect_1 in tqdm(enumerate(repr_1), desc=f'Calculating MRR for {name_1} with {name_1}', leave=True, position=0, total=len(repr_1)):\n",
    "        metrics_dict[f'{name_1}_{name_1}_MRR'].append(mean_reciprocal_rank(vect_1, repr_1[nearest_neighbors_1[i]]))\n",
    "        metrics_dict[f'{name_1}_{name_1}_cossim'].append(cosine_similarity(vect_1, repr_1[nearest_neighbors_1[i]]))\n",
    "    \n",
    "    if name_1 != name_2:\n",
    "        # Get the scores for the first one with the second one    \n",
    "        for i, vect_1 in tqdm(enumerate(repr_1), desc=f'Calculating MRR for {name_1} with {name_2}', leave=True, position=0, total=len(repr_1)):\n",
    "            metrics_dict[f'{name_1}_{name_2}_MRR'].append(mean_reciprocal_rank(vect_1, repr_2[nearest_neighbors_1[i]]))\n",
    "            metrics_dict[f'{name_1}_{name_2}_cossim'].append(cosine_similarity(vect_1, repr_2[nearest_neighbors_1[i]]))\n",
    "        \n",
    "        # Get the scores for the second one with the first one\n",
    "        for i, vect_2 in tqdm(enumerate(repr_2), desc=f'Calculating MRR for {name_2} with {name_1}', leave=True, position=0, total=len(repr_2)):\n",
    "            metrics_dict[f'{name_2}_{name_1}_MRR'].append(mean_reciprocal_rank(vect_2, repr_1[nearest_neighbors_2[i]]))\n",
    "            metrics_dict[f'{name_2}_{name_1}_cossim'].append(cosine_similarity(vect_2, repr_1[nearest_neighbors_2[i]]))\n",
    "        \n",
    "        # Get the scores for the second one with itself\n",
    "        for i, vect_2 in tqdm(enumerate(repr_2), desc=f'Calculating MRR for {name_2} with {name_2}', leave=True, position=0, total=len(repr_2)):\n",
    "            metrics_dict[f'{name_2}_{name_2}_MRR'].append(mean_reciprocal_rank(vect_2, repr_2[nearest_neighbors_2[i]]))\n",
    "            metrics_dict[f'{name_2}_{name_2}_cossim'].append(cosine_similarity(vect_2, repr_2[nearest_neighbors_2[i]]))\n",
    "\n",
    "    metrics_mean = {name: np.mean(list_) for name, list_ in metrics_dict.items()}\n",
    "    return metrics_mean"
   ],
   "metadata": {
    "collapsed": false,
    "ExecuteTime": {
     "end_time": "2024-11-04T14:57:37.361118Z",
     "start_time": "2024-11-04T14:57:37.329047Z"
    }
   },
   "id": "5b425cdf0f2dfb15",
   "outputs": [],
   "execution_count": 140
  },
  {
   "metadata": {
    "ExecuteTime": {
     "end_time": "2024-11-04T15:02:17.492373Z",
     "start_time": "2024-11-04T15:02:11.962782Z"
    }
   },
   "cell_type": "code",
   "source": [
    "K = 10\n",
    "knn_rel_glove = NearestNeighbors(n_neighbors=K)\n",
    "knn_rel_glove.fit(rel_reps_glove)\n",
    "nearest_neighbors_rel_glove = knn_rel_glove.kneighbors(rel_reps_glove, return_distance=False)"
   ],
   "id": "577c8e6ee2d4ca7b",
   "outputs": [],
   "execution_count": 143
  },
  {
   "metadata": {
    "ExecuteTime": {
     "end_time": "2024-11-04T15:02:22.140037Z",
     "start_time": "2024-11-04T15:02:17.730042Z"
    }
   },
   "cell_type": "code",
   "source": [
    "knn_rel_fasttext = NearestNeighbors(n_neighbors=K)\n",
    "knn_rel_fasttext.fit(rel_reps_fasttext)\n",
    "nearest_neighbors_rel_fasttext = knn_rel_fasttext.kneighbors(rel_reps_fasttext, return_distance=False)"
   ],
   "id": "be95ab5da7614614",
   "outputs": [],
   "execution_count": 144
  },
  {
   "metadata": {
    "ExecuteTime": {
     "end_time": "2024-11-04T15:02:25.573871Z",
     "start_time": "2024-11-04T15:02:22.147049Z"
    }
   },
   "cell_type": "code",
   "source": [
    "knn_own_glove = NearestNeighbors(n_neighbors=K)\n",
    "knn_own_glove.fit(o_reps_glove)\n",
    "nearest_neighbors_own_glove = knn_own_glove.kneighbors(o_reps_glove, return_distance=False)"
   ],
   "id": "947bdefd5c7eec7b",
   "outputs": [],
   "execution_count": 145
  },
  {
   "metadata": {
    "ExecuteTime": {
     "end_time": "2024-11-04T15:02:28.823521Z",
     "start_time": "2024-11-04T15:02:25.672412Z"
    }
   },
   "cell_type": "code",
   "source": [
    "knn_own_fasttext = NearestNeighbors(n_neighbors=K)\n",
    "knn_own_fasttext.fit(o_reps_fasttext)\n",
    "nearest_neighbors_own_fasttext = knn_own_fasttext.kneighbors(o_reps_fasttext, return_distance=False)"
   ],
   "id": "36ec5deaf544e0a2",
   "outputs": [],
   "execution_count": 146
  },
  {
   "metadata": {},
   "cell_type": "code",
   "outputs": [],
   "execution_count": null,
   "source": "",
   "id": "dc587db023b3c0d2"
  },
  {
   "metadata": {
    "ExecuteTime": {
     "end_time": "2024-11-04T15:28:13.631489Z",
     "start_time": "2024-11-04T15:27:50.192812Z"
    }
   },
   "cell_type": "code",
   "source": [
    "result_rows = []\n",
    "\n",
    "names_knn = [\"GRR\", \"FRR\"]\n",
    "\n",
    "for i_knn, knn in tqdm(enumerate((nearest_neighbors_rel_glove, nearest_neighbors_rel_fasttext)), desc=\"KNN\", total = len(names_knn)):\n",
    "    for i_repr_1, repr_1 in tqdm(enumerate((rel_reps_glove, rel_reps_fasttext)), desc=\"Representation 1\", total = len(names_knn)):\n",
    "        for i_repr_2, repr_2 in tqdm(enumerate((rel_reps_glove, rel_reps_fasttext)), desc=\"Representation 2\", total = len(names_knn)):\n",
    "            temp_cossim, temp_mrr = [], []\n",
    "            for i_vect, vector in enumerate(repr_1):\n",
    "                neighbors = knn[i_vect]\n",
    "                vector_subset = repr_2[neighbors]\n",
    "                \n",
    "                cossim = cosine_similarity(vector, vector_subset).mean()\n",
    "                mrr = mean_reciprocal_rank(vector, vector_subset)\n",
    "                temp_cossim.append(cossim)\n",
    "                temp_mrr.append(mrr)\n",
    "            result_rows.append([names_knn[i_knn], names_knn[i_repr_1], names_knn[i_repr_2], np.mean(temp_cossim), np.mean(temp_mrr)])"
   ],
   "id": "402fa895af1454b3",
   "outputs": [
    {
     "data": {
      "text/plain": [
       "KNN:   0%|          | 0/2 [00:00<?, ?it/s]"
      ],
      "application/vnd.jupyter.widget-view+json": {
       "version_major": 2,
       "version_minor": 0,
       "model_id": "01c7fc3b5b5f4ab698b324159f0000d8"
      }
     },
     "metadata": {},
     "output_type": "display_data"
    },
    {
     "data": {
      "text/plain": [
       "Repr1:   0%|          | 0/2 [00:00<?, ?it/s]"
      ],
      "application/vnd.jupyter.widget-view+json": {
       "version_major": 2,
       "version_minor": 0,
       "model_id": "5a537c6ef51f4e8a99c76c1d93e5b1c6"
      }
     },
     "metadata": {},
     "output_type": "display_data"
    },
    {
     "data": {
      "text/plain": [
       "Repr1:   0%|          | 0/2 [00:00<?, ?it/s]"
      ],
      "application/vnd.jupyter.widget-view+json": {
       "version_major": 2,
       "version_minor": 0,
       "model_id": "ec440c80ce9c4b0cbfe727cb10cb5f9d"
      }
     },
     "metadata": {},
     "output_type": "display_data"
    }
   ],
   "execution_count": 161
  },
  {
   "metadata": {
    "ExecuteTime": {
     "end_time": "2024-11-04T15:32:02.320600Z",
     "start_time": "2024-11-04T15:32:02.307602Z"
    }
   },
   "cell_type": "code",
   "source": [
    "for row in result_rows:\n",
    "    print(f\"Neighbors in {row[2]} according to KNN {row[0]}, with vectors from {row[1]} has CosSim {row[3]:.2f} and MRR {row[4]:.2f}\")"
   ],
   "id": "6bc7176bf3b51688",
   "outputs": [
    {
     "name": "stdout",
     "output_type": "stream",
     "text": [
      "Neighbors in GRR according to KNN GRR, with vectors from GRR has CosSim 0.73 and MRR 0.95\n",
      "Neighbors in FRR according to KNN GRR, with vectors from GRR has CosSim 0.03 and MRR 0.28\n",
      "Neighbors in GRR according to KNN GRR, with vectors from FRR has CosSim 0.03 and MRR 0.26\n",
      "Neighbors in FRR according to KNN GRR, with vectors from FRR has CosSim 0.59 and MRR 0.90\n",
      "Neighbors in GRR according to KNN FRR, with vectors from GRR has CosSim 0.60 and MRR 0.95\n",
      "Neighbors in FRR according to KNN FRR, with vectors from GRR has CosSim 0.03 and MRR 0.27\n",
      "Neighbors in GRR according to KNN FRR, with vectors from FRR has CosSim 0.04 and MRR 0.27\n",
      "Neighbors in FRR according to KNN FRR, with vectors from FRR has CosSim 0.77 and MRR 0.88\n"
     ]
    }
   ],
   "execution_count": 167
  },
  {
   "metadata": {},
   "cell_type": "code",
   "source": "metrics_dict_rel_rep = calculate_metrics(repr_1=rel_reps_glove, repr_2=rel_reps_fasttext, name_1='GRR', name_2='FRR')",
   "id": "127ecec5b45e6c85",
   "outputs": [],
   "execution_count": null
  },
  {
   "metadata": {
    "ExecuteTime": {
     "end_time": "2024-11-04T14:57:54.682245Z",
     "start_time": "2024-11-04T14:57:54.664689Z"
    }
   },
   "cell_type": "code",
   "source": [
    "for key, value in metrics_dict_rel_rep.items():\n",
    "    print(f\"{key}: {value:.2}\")"
   ],
   "id": "cca5a8fd675e92f1",
   "outputs": [
    {
     "name": "stdout",
     "output_type": "stream",
     "text": [
      "GRR_GRR_MRR: 0.95\n",
      "GRR_GRR_cossim: 0.73\n",
      "GRR_FRR_MRR: 0.28\n",
      "GRR_FRR_cossim: 0.032\n",
      "FRR_GRR_MRR: 0.36\n",
      "FRR_GRR_cossim: 0.016\n",
      "FRR_FRR_MRR: 0.28\n",
      "FRR_FRR_cossim: 0.053\n"
     ]
    }
   ],
   "execution_count": 142
  },
  {
   "metadata": {
    "ExecuteTime": {
     "end_time": "2024-11-04T14:57:54.948464100Z",
     "start_time": "2024-11-04T14:56:05.527886Z"
    }
   },
   "cell_type": "code",
   "source": "metrics_dict_own_rep = calculate_metrics(repr_1=o_reps_fasttext, repr_2=o_reps_glove, name_1='GOR', name_2='FOR')",
   "id": "2feedd1a1b6751dc",
   "outputs": [
    {
     "name": "stderr",
     "output_type": "stream",
     "text": [
      "Calculating MRR for GOR with GOR: 100%|██████████| 22006/22006 [00:01<00:00, 16849.47it/s]\n",
      "Calculating MRR for GOR with FOR: 100%|██████████| 22006/22006 [00:01<00:00, 15224.65it/s]\n",
      "Calculating MRR for FOR with GOR: 100%|██████████| 22006/22006 [00:01<00:00, 14070.20it/s]\n",
      "Calculating MRR for FOR with FOR: 100%|██████████| 22006/22006 [00:01<00:00, 12007.73it/s]\n"
     ]
    }
   ],
   "execution_count": 138
  },
  {
   "metadata": {
    "ExecuteTime": {
     "end_time": "2024-11-04T14:56:19.717245Z",
     "start_time": "2024-11-04T14:56:19.699121Z"
    }
   },
   "cell_type": "code",
   "source": [
    "for key, value in metrics_dict_own_rep.items():\n",
    "    print(f\"{key}: {value:.2}\")"
   ],
   "id": "24b1840df6c9333c",
   "outputs": [
    {
     "name": "stdout",
     "output_type": "stream",
     "text": [
      "GOR_GOR_MRR: 1.0\n",
      "GOR_GOR_cossim: 0.56\n",
      "GOR_FOR_MRR: 0.28\n",
      "GOR_FOR_cossim: 0.0087\n",
      "FOR_GOR_MRR: 0.29\n",
      "FOR_GOR_cossim: 0.0033\n",
      "FOR_FOR_MRR: 0.23\n",
      "FOR_FOR_cossim: 0.04\n"
     ]
    }
   ],
   "execution_count": 139
  },
  {
   "metadata": {
    "ExecuteTime": {
     "end_time": "2024-11-04T14:54:55.822711Z",
     "start_time": "2024-11-04T14:54:39.292999Z"
    }
   },
   "cell_type": "code",
   "source": [
    "metrics_dict_own_rep_2 = calculate_metrics(repr_1=o_reps_fasttext, repr_2=o_reps_glove, name_1='FOR', name_2='GOR')\n",
    "for key, value in metrics_dict_own_rep_2.items():\n",
    "    print(f\"{key}: {value:.2}\")"
   ],
   "id": "e3fb78a636de08f9",
   "outputs": [
    {
     "name": "stderr",
     "output_type": "stream",
     "text": [
      "Calculating MRR for FOR with FOR: 100%|██████████| 22006/22006 [00:01<00:00, 11210.92it/s]\n",
      "Calculating MRR for FOR with GOR: 100%|██████████| 22006/22006 [00:01<00:00, 11974.11it/s]\n",
      "Calculating MRR for GOR with FOR: 100%|██████████| 22006/22006 [00:01<00:00, 14589.34it/s]\n",
      "Calculating MRR for GOR with GOR: 100%|██████████| 22006/22006 [00:01<00:00, 11128.80it/s]\n"
     ]
    },
    {
     "name": "stdout",
     "output_type": "stream",
     "text": [
      "FOR_FOR_MRR: 1.0\n",
      "FOR_FOR_cossim: 0.56\n",
      "FOR_GOR_MRR: 0.28\n",
      "FOR_GOR_cossim: 0.0087\n",
      "GOR_FOR_MRR: 0.29\n",
      "GOR_FOR_cossim: 0.0033\n",
      "GOR_GOR_MRR: 0.23\n",
      "GOR_GOR_cossim: 0.04\n"
     ]
    }
   ],
   "execution_count": 133
  },
  {
   "metadata": {
    "ExecuteTime": {
     "end_time": "2024-11-04T14:45:03.865376Z",
     "start_time": "2024-11-04T14:45:03.843374Z"
    }
   },
   "cell_type": "code",
   "source": "cosine_similarity(rel_reps_fasttext[0], rel_reps_fasttext[:10])",
   "id": "36d4b2628101a871",
   "outputs": [
    {
     "data": {
      "text/plain": [
       "array([ 0.99999994,  0.26859212,  0.23456663, -0.01338174,  0.17286238,\n",
       "        0.21526428,  0.3724366 ,  0.41053033,  0.3663609 ,  0.4846256 ],\n",
       "      dtype=float32)"
      ]
     },
     "execution_count": 125,
     "metadata": {},
     "output_type": "execute_result"
    }
   ],
   "execution_count": 125
  },
  {
   "metadata": {},
   "cell_type": "code",
   "outputs": [],
   "execution_count": null,
   "source": "",
   "id": "3fced5e66adfb1e5"
  }
 ],
 "metadata": {
  "kernelspec": {
   "display_name": "Python 3",
   "language": "python",
   "name": "python3"
  },
  "language_info": {
   "codemirror_mode": {
    "name": "ipython",
    "version": 2
   },
   "file_extension": ".py",
   "mimetype": "text/x-python",
   "name": "python",
   "nbconvert_exporter": "python",
   "pygments_lexer": "ipython2",
   "version": "2.7.6"
  }
 },
 "nbformat": 4,
 "nbformat_minor": 5
}
