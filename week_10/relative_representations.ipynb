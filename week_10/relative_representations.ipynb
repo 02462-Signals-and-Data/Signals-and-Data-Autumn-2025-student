{
 "cells": [
  {
   "cell_type": "code",
   "id": "initial_id",
   "metadata": {
    "collapsed": true,
    "ExecuteTime": {
     "end_time": "2024-11-04T15:24:08.846577Z",
     "start_time": "2024-11-04T15:24:08.804514Z"
    }
   },
   "source": [
    "import pickle\n",
    "import random\n",
    "import numpy as np\n",
    "import matplotlib.pyplot as plt\n",
    "from os.path import join\n",
    "from tqdm.notebook import tqdm\n",
    "\n",
    "from collections import defaultdict\n",
    "from sklearn.decomposition import PCA\n",
    "from sklearn.neighbors import NearestNeighbors, KNeighborsClassifier"
   ],
   "outputs": [],
   "execution_count": 159
  },
  {
   "cell_type": "markdown",
   "source": [
    "Download:\n",
    "For fasttext we want the `1. wiki-news-300d-1M.vec.zip: 1 million word vectors trained on Wikipedia 2017, UMBC webbase corpus and statmt.org news dataset (16B tokens).` found at \n",
    "\n",
    "`https://fasttext.cc/docs/en/english-vectors.html`\n",
    "\n",
    "For GloVe we want the `Wikipedia 2014 + Gigaword 5 (6B tokens, 400K vocab, uncased, 50d, 100d, 200d, & 300d vectors, 822 MB download): glove.6B.zip` found at \n",
    "\n",
    "`https://nlp.stanford.edu/projects/glove/`"
   ],
   "metadata": {
    "collapsed": false
   },
   "id": "cd1ff3324dedccc0"
  },
  {
   "cell_type": "code",
   "source": [
    "def load_vectors_from_file(filename, n_words, encoding='utf-8', specified_word_set=None):\n",
    "    p_bar = tqdm(total=n_words, desc='Loading word vectors', position=0, leave=True)\n",
    "    embeddings_dict = {}\n",
    "    with open(filename, 'r', encoding=encoding) as f:\n",
    "        for line in f:\n",
    "            values = line.split()\n",
    "            word = values[0]\n",
    "            if specified_word_set is None or word in specified_word_set:\n",
    "                vector = np.asarray(values[1:], \"float32\")\n",
    "                if len(vector) > 1:\n",
    "                    embeddings_dict[word] = vector\n",
    "                    p_bar.update(1)\n",
    "                    if len(embeddings_dict) == n_words:\n",
    "                        break\n",
    "        else:\n",
    "            print(\"Reached end of file!\")\n",
    "    print(f'Loaded {len(embeddings_dict)} word vectors')\n",
    "    embeddings_dict = dict(sorted(embeddings_dict.items()))\n",
    "    \n",
    "    all_vectors = np.array(list(embeddings_dict.values()))\n",
    "    normalisation = all_vectors.mean(axis=0)\n",
    "    all_vectors -= normalisation\n",
    "    embeddings_dict = {word: vector for word, vector in zip(embeddings_dict.keys(), all_vectors)}\n",
    "    \n",
    "    return embeddings_dict\n",
    "\n",
    "\n",
    "def ensure_intersecting_keys(dict1, dict2):\n",
    "    \"\"\"\n",
    "    Modifies the input dictionaries to only keep keys that exist in both dictionaries.\n",
    "    \n",
    "    Parameters:\n",
    "    dict1 (dict): The first dictionary to be modified.\n",
    "    dict2 (dict): The second dictionary to be modified.\n",
    "    \"\"\"\n",
    "    # Find the intersection of the keys\n",
    "    common_keys = set(dict1.keys()).intersection(set(dict2.keys()))\n",
    "    \n",
    "    # Remove keys from dict1 that are not in the intersection\n",
    "    keys_to_remove = set(dict1.keys()) - common_keys\n",
    "    for key in keys_to_remove:\n",
    "        del dict1[key]\n",
    "    print(f'Removed {len(keys_to_remove)}, leaving {len(dict1.keys())}')\n",
    "\n",
    "    # Remove keys from dict2 that are not in the intersection\n",
    "    keys_to_remove = set(dict2.keys()) - common_keys\n",
    "    for key in keys_to_remove:\n",
    "        del dict2[key]"
   ],
   "metadata": {
    "collapsed": false,
    "ExecuteTime": {
     "end_time": "2024-11-04T14:33:55.510634Z",
     "start_time": "2024-11-04T14:33:55.493069Z"
    }
   },
   "id": "f2307912b9ebe238",
   "outputs": [],
   "execution_count": 87
  },
  {
   "cell_type": "code",
   "source": [
    "n_words = 40_000\n",
    "filename_glove = \"glove.6B.300d.txt\"\n",
    "embeddings_dict_glove = load_vectors_from_file(filename_glove, n_words=n_words)"
   ],
   "metadata": {
    "collapsed": false,
    "ExecuteTime": {
     "end_time": "2024-11-04T14:33:45.140160Z",
     "start_time": "2024-11-04T14:33:39.751830Z"
    }
   },
   "id": "47955bb958a26475",
   "outputs": [
    {
     "name": "stderr",
     "output_type": "stream",
     "text": [
      "Loading word vectors:  99%|█████████▊| 39478/40000 [00:05<00:00, 6191.67it/s]"
     ]
    },
    {
     "name": "stdout",
     "output_type": "stream",
     "text": [
      "Loaded 40000 word vectors\n"
     ]
    },
    {
     "name": "stderr",
     "output_type": "stream",
     "text": [
      "Loading word vectors: 100%|██████████| 40000/40000 [00:05<00:00, 7472.79it/s]\n"
     ]
    }
   ],
   "execution_count": 84
  },
  {
   "cell_type": "code",
   "source": [
    "filename_fasttext = 'wiki-news-300d-1M.vec'\n",
    "embeddings_dict_fasttext = load_vectors_from_file(filename_fasttext, n_words=n_words, specified_word_set=None)"
   ],
   "metadata": {
    "collapsed": false,
    "ExecuteTime": {
     "end_time": "2024-11-04T14:33:50.510363Z",
     "start_time": "2024-11-04T14:33:45.449005Z"
    }
   },
   "id": "e84c332fa32e8a57",
   "outputs": [
    {
     "name": "stderr",
     "output_type": "stream",
     "text": [
      "Loading word vectors: 100%|██████████| 40000/40000 [00:05<00:00, 7963.60it/s]"
     ]
    },
    {
     "name": "stdout",
     "output_type": "stream",
     "text": [
      "Loaded 40000 word vectors\n"
     ]
    },
    {
     "name": "stderr",
     "output_type": "stream",
     "text": [
      "\n"
     ]
    }
   ],
   "execution_count": 85
  },
  {
   "cell_type": "code",
   "source": "ensure_intersecting_keys(embeddings_dict_glove, embeddings_dict_fasttext)",
   "metadata": {
    "collapsed": false,
    "ExecuteTime": {
     "end_time": "2024-11-04T14:33:58.508749Z",
     "start_time": "2024-11-04T14:33:58.409687Z"
    }
   },
   "id": "cff62ff0328abcc4",
   "outputs": [
    {
     "name": "stdout",
     "output_type": "stream",
     "text": [
      "Removed 17994, leaving 22006\n"
     ]
    }
   ],
   "execution_count": 88
  },
  {
   "metadata": {},
   "cell_type": "code",
   "outputs": [],
   "execution_count": null,
   "source": [
    "filename_glove_pickle = \"Glove_ex_10.pkl\"\n",
    "filename_fasttext_pickle = \"FastText_ex_10.pkl\""
   ],
   "id": "93b627e4283cdfc"
  },
  {
   "metadata": {},
   "cell_type": "code",
   "outputs": [],
   "execution_count": null,
   "source": [
    "with open(filename_glove_pickle, \"wb\") as f:\n",
    "    pickle.dump(embeddings_dict_glove, f)\n",
    "\n",
    "with open(filename_fasttext_pickle, \"wb\") as f:\n",
    "    pickle.dump(embeddings_dict_fasttext, f)"
   ],
   "id": "b8a25cfda25a655c"
  },
  {
   "metadata": {
    "ExecuteTime": {
     "end_time": "2024-11-04T14:34:51.101854Z",
     "start_time": "2024-11-04T14:34:50.860818Z"
    }
   },
   "cell_type": "code",
   "source": [
    "with open(filename_glove_pickle, \"rb\") as f:\n",
    "    embeddings_dict_glove = pickle.load(f)\n",
    "\n",
    "with open(filename_fasttext_pickle, \"rb\") as f:\n",
    "    embeddings_dict_fasttext = pickle.load(f)"
   ],
   "id": "64411e997f8bc262",
   "outputs": [],
   "execution_count": 92
  },
  {
   "cell_type": "code",
   "source": [
    "def get_anchors(embeddings_dict, n_anchors=300):\n",
    "    \"\"\"Randomly sample n_anchors from embeddings_dict and return as a matrix where each row is a relative representation vector. Returns shape (embedding_dim, n_anchors)\"\"\"\n",
    "    anchor_words = random.sample(list(embeddings_dict_fasttext.keys()), n_anchors)\n",
    "    anchor_vectors = np.vstack([embeddings_dict[word] for word in anchor_words])\n",
    "    \n",
    "    return anchor_vectors, anchor_words\n",
    "\n",
    "def get_relative_representations(embeddings_dict, similarity_measure, n_anchors=300, anchor_args=None):\n",
    "    \"\"\"Using a given similarity measure and embedding dictionary, calculate the relative representations and return as a matrix where each row is a relative representation vector. Returns shape (n_samples, n_anchors)\"\"\"\n",
    "    relative_representations_dict = dict()\n",
    "    anchor_vectors, anchor_words = get_anchors(embeddings_dict, n_anchors=n_anchors) if anchor_args is None else anchor_args\n",
    "    \n",
    "    for word in tqdm(embeddings_dict.keys(), desc='Calculating relative representations',  position=0, leave=True):\n",
    "        embedding = embeddings_dict[word]\n",
    "\n",
    "        relative_representation = similarity_measure(embedding, anchor_vectors)\n",
    "        relative_representations_dict[word] = relative_representation\n",
    "\n",
    "    return relative_representations_dict, (anchor_vectors, anchor_words)"
   ],
   "metadata": {
    "collapsed": false,
    "ExecuteTime": {
     "end_time": "2024-11-04T15:55:44.939077Z",
     "start_time": "2024-11-04T15:55:44.910041Z"
    }
   },
   "id": "d80b93887e13d55b",
   "outputs": [],
   "execution_count": 185
  },
  {
   "cell_type": "code",
   "source": [
    "def cosine_similarity(word_vector, anchors):\n",
    "    \"\"\"Calculate the cosine similarity between the word vector and each of the anchors. Returns a vector of shape (n_anchors,)\"\"\"\n",
    "    # Normalize the word vector\n",
    "    word_vector_norm = np.linalg.norm(word_vector)\n",
    "    word_vector_normalized = word_vector / word_vector_norm\n",
    "    # Normalize the anchor rows\n",
    "    row_norms = np.linalg.norm(anchors, axis=1)\n",
    "    anchors_normalized = anchors / row_norms[:, np.newaxis]\n",
    "    # Compute the cosine similarities (dot product of normalized word_vector and each row)\n",
    "    cosine_similarities = np.dot(anchors_normalized, word_vector_normalized)\n",
    "    \n",
    "    return cosine_similarities"
   ],
   "metadata": {
    "collapsed": false,
    "ExecuteTime": {
     "end_time": "2024-11-04T15:55:32.071189Z",
     "start_time": "2024-11-04T15:55:32.061182Z"
    }
   },
   "id": "6c81d90ec2020ce8",
   "outputs": [],
   "execution_count": 184
  },
  {
   "cell_type": "code",
   "source": [
    "n_anchors = 300\n",
    "random.seed(420)\n",
    "relrep_dict_glove, anchor_info = get_relative_representations(embeddings_dict_glove, n_anchors=n_anchors, similarity_measure=cosine_similarity)"
   ],
   "metadata": {
    "collapsed": false,
    "ExecuteTime": {
     "end_time": "2024-11-04T15:56:01.188541Z",
     "start_time": "2024-11-04T15:55:52.748495Z"
    }
   },
   "id": "a9b0006b10649388",
   "outputs": [
    {
     "data": {
      "text/plain": [
       "Calculating relative representations:   0%|          | 0/22006 [00:00<?, ?it/s]"
      ],
      "application/vnd.jupyter.widget-view+json": {
       "version_major": 2,
       "version_minor": 0,
       "model_id": "05fa98f38a6a436b88a0e383251b8ec6"
      }
     },
     "metadata": {},
     "output_type": "display_data"
    }
   ],
   "execution_count": 186
  },
  {
   "cell_type": "code",
   "source": "relrep_dict_fasttext, anchor_info = get_relative_representations(embeddings_dict_fasttext, n_anchors=n_anchors, similarity_measure=cosine_similarity, anchor_args=anchor_info)",
   "metadata": {
    "collapsed": false,
    "ExecuteTime": {
     "end_time": "2024-11-04T15:57:01.017118Z",
     "start_time": "2024-11-04T15:56:52.510600Z"
    }
   },
   "id": "348f2fbe337dbebf",
   "outputs": [
    {
     "data": {
      "text/plain": [
       "Calculating relative representations:   0%|          | 0/22006 [00:00<?, ?it/s]"
      ],
      "application/vnd.jupyter.widget-view+json": {
       "version_major": 2,
       "version_minor": 0,
       "model_id": "cfb813dbf3d24ecc82dbdea3e962acae"
      }
     },
     "metadata": {},
     "output_type": "display_data"
    }
   ],
   "execution_count": 191
  },
  {
   "cell_type": "code",
   "source": [
    "def sample_random_words(words, n):    \n",
    "    random_sample = random.sample(words, n)\n",
    "    return random_sample\n",
    "\n",
    "\n",
    "def create_2d_clusters(cluster_centers, embeddings, n_neighbors=200):\n",
    "    \"\"\"\n",
    "    Find the n_points nearest neighbors in the embeddings matrix for each cluster center and use PCA to reduce the dimensionality of the points to 2.\n",
    "    \n",
    "    Parameters:\n",
    "    cluster_centers (np.array): An array of cluster center vectors.\n",
    "    embeddings (np.array): An array of embedding vectors.\n",
    "    n_neighbors (int): The number of nearest neighbors to find for each cluster center.\n",
    "    \n",
    "    Returns:\n",
    "    pca_results: A numpy array of shape (n_clusters, n_neighbors, 2) containing the two principal components of the nearest neighbors of each of the clusters centers\n",
    "    \"\"\"\n",
    "    pca_results = np.empty(shape=(cluster_centers.shape[0], n_neighbors, 2))\n",
    "    \n",
    "    # Fit the NearestNeighbors model\n",
    "    nn_model = NearestNeighbors(n_neighbors=n_neighbors)\n",
    "    pca = PCA(n_components=2)\n",
    "    embeddings_2d = pca.fit_transform(embeddings)\n",
    "    nn_model.fit(embeddings_2d)\n",
    "    \n",
    "    for i, center in enumerate(cluster_centers):\n",
    "        # Find the n_points nearest neighbors\n",
    "        center_2d = pca.transform(center.reshape((1, -1)))\n",
    "        distances, indices = nn_model.kneighbors(center_2d)\n",
    "        nearest_neighbors = embeddings_2d[indices[0]]\n",
    "                \n",
    "        # Store the results in the dictionary\n",
    "        pca_results[i] = nearest_neighbors\n",
    "    \n",
    "    return pca_results\n",
    "\n",
    "def visualize_clusters(pca_results, name='', y_lim=(None,), x_lim=(None,)):\n",
    "    for points in pca_results:\n",
    "        plt.scatter(points[:, 0], points[:, 1], marker='o', s=2.5)\n",
    "    plt.title(name)\n",
    "    plt.ylim(*y_lim)\n",
    "    plt.xlim(*x_lim)\n",
    "    plt.grid(True)"
   ],
   "metadata": {
    "collapsed": false,
    "ExecuteTime": {
     "end_time": "2024-11-04T15:57:01.049009Z",
     "start_time": "2024-11-04T15:57:01.024136Z"
    }
   },
   "id": "a156db4ed04d5551",
   "outputs": [],
   "execution_count": 192
  },
  {
   "metadata": {
    "ExecuteTime": {
     "end_time": "2024-11-04T15:57:01.238246Z",
     "start_time": "2024-11-04T15:57:01.225279Z"
    }
   },
   "cell_type": "code",
   "source": [
    "n_centers = 4\n",
    "\n",
    "words = list(embeddings_dict_glove.keys())\n",
    "anchor_words = sample_random_words(words, n=n_centers)\n",
    "\n",
    "centers_rel_rep_glove = np.vstack([relrep_dict_glove[word] for word in anchor_words])\n",
    "centers_rel_rep_fasttext = np.vstack([relrep_dict_fasttext[word] for word in anchor_words])\n",
    "centers_o_rep_glove = np.vstack([embeddings_dict_glove[word] for word in anchor_words])\n",
    "centers_o_rep_fasttext = np.vstack([embeddings_dict_fasttext[word] for word in anchor_words])"
   ],
   "id": "f9cecb06f60ce0e0",
   "outputs": [],
   "execution_count": 193
  },
  {
   "metadata": {
    "ExecuteTime": {
     "end_time": "2024-11-04T15:57:01.743952Z",
     "start_time": "2024-11-04T15:57:01.436255Z"
    }
   },
   "cell_type": "code",
   "source": [
    "own_reps_glove = np.vstack(list(embeddings_dict_glove.values()))\n",
    "own_reps_fasttext = np.vstack(list(embeddings_dict_fasttext.values()))\n",
    "rel_reps_glove = np.vstack(list(relrep_dict_glove.values()))\n",
    "rel_reps_fasttext = np.vstack(list(relrep_dict_fasttext.values()))"
   ],
   "id": "5a05b3ffd91082ab",
   "outputs": [],
   "execution_count": 194
  },
  {
   "metadata": {
    "ExecuteTime": {
     "end_time": "2024-11-04T15:57:01.949332Z",
     "start_time": "2024-11-04T15:57:01.937325Z"
    }
   },
   "cell_type": "code",
   "source": "own_reps_glove.shape, own_reps_fasttext.shape, centers_o_rep_glove.shape, centers_rel_rep_glove.shape",
   "id": "3657206f13faaf48",
   "outputs": [
    {
     "data": {
      "text/plain": [
       "((22006, 300), (22006, 300), (4, 300), (4, 300))"
      ]
     },
     "execution_count": 195,
     "metadata": {},
     "output_type": "execute_result"
    }
   ],
   "execution_count": 195
  },
  {
   "metadata": {
    "ExecuteTime": {
     "end_time": "2024-11-04T15:57:02.360504Z",
     "start_time": "2024-11-04T15:57:02.128526Z"
    }
   },
   "cell_type": "code",
   "source": [
    "n_points_visualisation = 100\n",
    "pca_glove_own = create_2d_clusters(centers_o_rep_glove, embeddings=own_reps_glove, n_neighbors=n_points_visualisation)\n",
    "pca_glove_relative = create_2d_clusters(centers_rel_rep_glove, embeddings=rel_reps_glove, n_neighbors=n_points_visualisation)"
   ],
   "id": "7731e8409b45b45d",
   "outputs": [],
   "execution_count": 196
  },
  {
   "metadata": {
    "ExecuteTime": {
     "end_time": "2024-11-04T15:57:02.819711Z",
     "start_time": "2024-11-04T15:57:02.573590Z"
    }
   },
   "cell_type": "code",
   "source": [
    "pca_fasttext_own = create_2d_clusters(centers_o_rep_fasttext, embeddings=own_reps_fasttext, n_neighbors=n_points_visualisation)\n",
    "pca_fasttext_relative = create_2d_clusters(centers_rel_rep_fasttext, embeddings=rel_reps_fasttext, n_neighbors=n_points_visualisation)"
   ],
   "id": "3174cce52b1ac7e0",
   "outputs": [],
   "execution_count": 197
  },
  {
   "cell_type": "code",
   "source": [
    "fig, axs = plt.subplots(nrows=2, ncols=2)\n",
    "plt.sca(axs[0, 0])\n",
    "visualize_clusters(pca_glove_own, f'PCA GloVe {n_points_visualisation}\\nown representations')\n",
    "plt.sca(axs[1, 0])\n",
    "visualize_clusters(pca_fasttext_own, f'PCA Fasttext {n_points_visualisation}\\nown representations')\n",
    "plt.sca(axs[0, 1])\n",
    "visualize_clusters(pca_glove_relative, f'PCA GloVe {n_points_visualisation}\\nrelative representations')\n",
    "plt.sca(axs[1, 1])\n",
    "visualize_clusters(pca_fasttext_relative, f'PCA Fasttext {n_points_visualisation}\\nrelative representations')\n",
    "\n",
    "plt.tight_layout()"
   ],
   "metadata": {
    "collapsed": false,
    "ExecuteTime": {
     "end_time": "2024-11-04T15:57:05.594965Z",
     "start_time": "2024-11-04T15:57:03.042945Z"
    }
   },
   "id": "116829c72ec8b853",
   "outputs": [
    {
     "data": {
      "text/plain": [
       "<Figure size 640x480 with 4 Axes>"
      ],
      "image/png": "[encoded data removed]"
     },
     "metadata": {},
     "output_type": "display_data"
    }
   ],
   "execution_count": 198
  },
  {
   "cell_type": "code",
   "source": [
    "def jaccard_similarity(vector, matrix):\n",
    "    \"\"\"\n",
    "    Calculate the Jaccard similarity between the vector and each of the rows in the matrix.\n",
    "    \n",
    "    Parameters:\n",
    "    vector (np.array): A binary vector.\n",
    "    matrix (np.array): A binary matrix with each row to be compared to the vector.\n",
    "    \n",
    "    Returns:\n",
    "    np.array: A vector of Jaccard similarities of shape (n_anchors,).\n",
    "    \"\"\"\n",
    "    # Ensure binary values\n",
    "    vector = np.asarray(vector, dtype=bool)\n",
    "    matrix = np.asarray(matrix, dtype=bool)\n",
    "    \n",
    "    # Calculate intersection and union\n",
    "    intersection = np.logical_and(matrix, vector).sum(axis=1)\n",
    "    union = np.logical_or(matrix, vector).sum(axis=1)\n",
    "    \n",
    "    # Handle the case of zero union (avoid division by zero)\n",
    "    union[union == 0] = 1\n",
    "    \n",
    "    # Calculate Jaccard similarity\n",
    "    jaccard_similarities = intersection / union\n",
    "    \n",
    "    return jaccard_similarities\n",
    "\n",
    "def mean_reciprocal_rank(query_vector, matrix):\n",
    "    \"\"\"\n",
    "    Calculate the Mean Reciprocal Rank (MRR) given a query vector and a matrix.\n",
    "    \n",
    "    Parameters:\n",
    "    query_vector (np.array): A vector representing the query.\n",
    "    matrix (np.array): A matrix where each row represents a document.\n",
    "    \n",
    "    Returns:\n",
    "    float: The MRR score.\n",
    "    \"\"\"\n",
    "    # Compute relevance scores as dot products between the query_vector and each row in the matrix\n",
    "    relevance_scores = np.dot(matrix, query_vector)\n",
    "    \n",
    "    # Get the ranks of the documents sorted by relevance (highest relevance first)\n",
    "    sorted_indices = np.argsort(relevance_scores)[::-1]\n",
    "    \n",
    "    # Find the rank of the first relevant document\n",
    "    first_relevant_rank = np.where(sorted_indices == 0)[0][0] + 1  # Adding 1 to make rank 1-based\n",
    "    \n",
    "    # Calculate the reciprocal rank\n",
    "    reciprocal_rank = 1 / first_relevant_rank\n",
    "    \n",
    "    return reciprocal_rank"
   ],
   "metadata": {
    "collapsed": false,
    "ExecuteTime": {
     "end_time": "2024-11-04T15:57:33.270944Z",
     "start_time": "2024-11-04T15:57:33.240895Z"
    }
   },
   "id": "541066a020d8152f",
   "outputs": [],
   "execution_count": 199
  },
  {
   "metadata": {
    "ExecuteTime": {
     "end_time": "2024-11-04T15:57:39.050502Z",
     "start_time": "2024-11-04T15:57:35.186274Z"
    }
   },
   "cell_type": "code",
   "source": [
    "K = 10\n",
    "knn_rel_glove = NearestNeighbors(n_neighbors=K)\n",
    "knn_rel_glove.fit(rel_reps_glove)\n",
    "nearest_neighbors_rel_glove = knn_rel_glove.kneighbors(rel_reps_glove, return_distance=False)"
   ],
   "id": "577c8e6ee2d4ca7b",
   "outputs": [],
   "execution_count": 201
  },
  {
   "metadata": {
    "ExecuteTime": {
     "end_time": "2024-11-04T15:57:41.506784Z",
     "start_time": "2024-11-04T15:57:39.057469Z"
    }
   },
   "cell_type": "code",
   "source": [
    "knn_rel_fasttext = NearestNeighbors(n_neighbors=K)\n",
    "knn_rel_fasttext.fit(rel_reps_fasttext)\n",
    "nearest_neighbors_rel_fasttext = knn_rel_fasttext.kneighbors(rel_reps_fasttext, return_distance=False)"
   ],
   "id": "be95ab5da7614614",
   "outputs": [],
   "execution_count": 202
  },
  {
   "metadata": {
    "ExecuteTime": {
     "end_time": "2024-11-04T15:57:44.845887Z",
     "start_time": "2024-11-04T15:57:41.691007Z"
    }
   },
   "cell_type": "code",
   "source": [
    "knn_own_glove = NearestNeighbors(n_neighbors=K)\n",
    "knn_own_glove.fit(own_reps_glove)\n",
    "nearest_neighbors_own_glove = knn_own_glove.kneighbors(own_reps_glove, return_distance=False)"
   ],
   "id": "947bdefd5c7eec7b",
   "outputs": [],
   "execution_count": 203
  },
  {
   "metadata": {
    "ExecuteTime": {
     "end_time": "2024-11-04T15:57:48.706081Z",
     "start_time": "2024-11-04T15:57:45.259213Z"
    }
   },
   "cell_type": "code",
   "source": [
    "knn_own_fasttext = NearestNeighbors(n_neighbors=K)\n",
    "knn_own_fasttext.fit(own_reps_fasttext)\n",
    "nearest_neighbors_own_fasttext = knn_own_fasttext.kneighbors(own_reps_fasttext, return_distance=False)"
   ],
   "id": "36ec5deaf544e0a2",
   "outputs": [],
   "execution_count": 204
  },
  {
   "metadata": {
    "ExecuteTime": {
     "end_time": "2024-11-04T15:57:48.912894Z",
     "start_time": "2024-11-04T15:57:48.884847Z"
    }
   },
   "cell_type": "code",
   "source": [
    "def compute_knn_results(NNs, reps, names_knn, verbose=True):\n",
    "    result_rows = []\n",
    "\n",
    "    for i_knn, knn in tqdm(enumerate(NNs), desc=\"KNN\", total=len(names_knn)):\n",
    "        for i_repr_1, repr_1 in tqdm(enumerate(reps), desc=\"Representation 1\", total=len(names_knn)):\n",
    "            for i_repr_2, repr_2 in tqdm(enumerate(reps), desc=\"Representation 2\", total=len(names_knn)):\n",
    "                temp_cossim, temp_mrr = [], []\n",
    "                for i_vect, vector in enumerate(repr_1):\n",
    "                    neighbors = knn[i_vect]\n",
    "                    vector_subset = repr_2[neighbors]\n",
    "\n",
    "                    cossim = cosine_similarity(vector, vector_subset).max()\n",
    "                    mrr = mean_reciprocal_rank(vector, vector_subset)\n",
    "                    temp_cossim.append(cossim)\n",
    "                    temp_mrr.append(mrr)\n",
    "                \n",
    "                result_rows.append([\n",
    "                    names_knn[i_knn], \n",
    "                    names_knn[i_repr_1], \n",
    "                    names_knn[i_repr_2], \n",
    "                    np.mean(temp_cossim), \n",
    "                    np.mean(temp_mrr)\n",
    "                ])\n",
    "    if verbose:\n",
    "        for row in result_rows:\n",
    "            print(f\"Neighbors in {row[2]} according to KNN {row[0]}, with vectors from {row[1]} has CosSim {row[3]:.2f} and MRR {row[4]:.2f}\")\n",
    "    return result_rows"
   ],
   "id": "dc587db023b3c0d2",
   "outputs": [],
   "execution_count": 205
  },
  {
   "metadata": {
    "ExecuteTime": {
     "end_time": "2024-11-04T15:58:48.915760Z",
     "start_time": "2024-11-04T15:58:36.316271Z"
    }
   },
   "cell_type": "code",
   "source": [
    "result_own = compute_knn_results(\n",
    "    NNs=[nearest_neighbors_own_glove, nearest_neighbors_own_fasttext],\n",
    "    reps=[own_reps_glove, own_reps_fasttext],\n",
    "    names_knn = [\"GRR\", \"FRR\"]\n",
    ")"
   ],
   "id": "bfdad1c06cc5cc25",
   "outputs": [
    {
     "data": {
      "text/plain": [
       "KNN:   0%|          | 0/2 [00:00<?, ?it/s]"
      ],
      "application/vnd.jupyter.widget-view+json": {
       "version_major": 2,
       "version_minor": 0,
       "model_id": "472a97c0c84d4313bd6fd396d6ffe26f"
      }
     },
     "metadata": {},
     "output_type": "display_data"
    },
    {
     "data": {
      "text/plain": [
       "Representation 1:   0%|          | 0/2 [00:00<?, ?it/s]"
      ],
      "application/vnd.jupyter.widget-view+json": {
       "version_major": 2,
       "version_minor": 0,
       "model_id": "1472d45ecd1d46b0882746dd30af5216"
      }
     },
     "metadata": {},
     "output_type": "display_data"
    },
    {
     "data": {
      "text/plain": [
       "Representation 2:   0%|          | 0/2 [00:00<?, ?it/s]"
      ],
      "application/vnd.jupyter.widget-view+json": {
       "version_major": 2,
       "version_minor": 0,
       "model_id": "2df504c2417d4cc99529bc3ed41403d9"
      }
     },
     "metadata": {},
     "output_type": "display_data"
    },
    {
     "data": {
      "text/plain": [
       "Representation 2:   0%|          | 0/2 [00:00<?, ?it/s]"
      ],
      "application/vnd.jupyter.widget-view+json": {
       "version_major": 2,
       "version_minor": 0,
       "model_id": "4971f7a5dd87440aaf0bcb042ad60ae1"
      }
     },
     "metadata": {},
     "output_type": "display_data"
    },
    {
     "data": {
      "text/plain": [
       "Representation 1:   0%|          | 0/2 [00:00<?, ?it/s]"
      ],
      "application/vnd.jupyter.widget-view+json": {
       "version_major": 2,
       "version_minor": 0,
       "model_id": "9501ce9e81a24889b5a1033aa7a70ce6"
      }
     },
     "metadata": {},
     "output_type": "display_data"
    },
    {
     "data": {
      "text/plain": [
       "Representation 2:   0%|          | 0/2 [00:00<?, ?it/s]"
      ],
      "application/vnd.jupyter.widget-view+json": {
       "version_major": 2,
       "version_minor": 0,
       "model_id": "8e1346581e6d47acbf44c2f799763864"
      }
     },
     "metadata": {},
     "output_type": "display_data"
    },
    {
     "data": {
      "text/plain": [
       "Representation 2:   0%|          | 0/2 [00:00<?, ?it/s]"
      ],
      "application/vnd.jupyter.widget-view+json": {
       "version_major": 2,
       "version_minor": 0,
       "model_id": "9908767b162542348c3103b40e583d6f"
      }
     },
     "metadata": {},
     "output_type": "display_data"
    },
    {
     "name": "stdout",
     "output_type": "stream",
     "text": [
      "Neighbors in GRR according to KNN GRR, with vectors from GRR has CosSim 1.00 and MRR 1.00\n",
      "Neighbors in FRR according to KNN GRR, with vectors from GRR has CosSim 0.08 and MRR 0.29\n",
      "Neighbors in GRR according to KNN GRR, with vectors from FRR has CosSim 0.08 and MRR 0.29\n",
      "Neighbors in FRR according to KNN GRR, with vectors from FRR has CosSim 1.00 and MRR 1.00\n",
      "Neighbors in GRR according to KNN FRR, with vectors from GRR has CosSim 1.00 and MRR 1.00\n",
      "Neighbors in FRR according to KNN FRR, with vectors from GRR has CosSim 0.07 and MRR 0.28\n",
      "Neighbors in GRR according to KNN FRR, with vectors from FRR has CosSim 0.08 and MRR 0.28\n",
      "Neighbors in FRR according to KNN FRR, with vectors from FRR has CosSim 1.00 and MRR 1.00\n"
     ]
    }
   ],
   "execution_count": 208
  },
  {
   "metadata": {
    "ExecuteTime": {
     "end_time": "2024-11-04T15:58:02.214446Z",
     "start_time": "2024-11-04T15:57:49.119916Z"
    }
   },
   "cell_type": "code",
   "source": [
    "result_rel = compute_knn_results(\n",
    "    NNs=[nearest_neighbors_rel_glove, nearest_neighbors_rel_fasttext],\n",
    "    reps=[rel_reps_glove, rel_reps_fasttext],\n",
    "    names_knn = [\"GRR\", \"FRR\"]\n",
    ")"
   ],
   "id": "5990dd7db295b37a",
   "outputs": [
    {
     "data": {
      "text/plain": [
       "KNN:   0%|          | 0/2 [00:00<?, ?it/s]"
      ],
      "application/vnd.jupyter.widget-view+json": {
       "version_major": 2,
       "version_minor": 0,
       "model_id": "cc1f564897394ce29f518f6e3f58263e"
      }
     },
     "metadata": {},
     "output_type": "display_data"
    },
    {
     "data": {
      "text/plain": [
       "Representation 1:   0%|          | 0/2 [00:00<?, ?it/s]"
      ],
      "application/vnd.jupyter.widget-view+json": {
       "version_major": 2,
       "version_minor": 0,
       "model_id": "ccfb06d19b3f4b518cff426c7789ac72"
      }
     },
     "metadata": {},
     "output_type": "display_data"
    },
    {
     "data": {
      "text/plain": [
       "Representation 2:   0%|          | 0/2 [00:00<?, ?it/s]"
      ],
      "application/vnd.jupyter.widget-view+json": {
       "version_major": 2,
       "version_minor": 0,
       "model_id": "aa0aebd34b27474a975ddcf7ae0374a1"
      }
     },
     "metadata": {},
     "output_type": "display_data"
    },
    {
     "data": {
      "text/plain": [
       "Representation 2:   0%|          | 0/2 [00:00<?, ?it/s]"
      ],
      "application/vnd.jupyter.widget-view+json": {
       "version_major": 2,
       "version_minor": 0,
       "model_id": "5b78a891e75b4e5993c920efad0c89db"
      }
     },
     "metadata": {},
     "output_type": "display_data"
    },
    {
     "data": {
      "text/plain": [
       "Representation 1:   0%|          | 0/2 [00:00<?, ?it/s]"
      ],
      "application/vnd.jupyter.widget-view+json": {
       "version_major": 2,
       "version_minor": 0,
       "model_id": "8ad29afd865d4127a700ff669df09b0d"
      }
     },
     "metadata": {},
     "output_type": "display_data"
    },
    {
     "data": {
      "text/plain": [
       "Representation 2:   0%|          | 0/2 [00:00<?, ?it/s]"
      ],
      "application/vnd.jupyter.widget-view+json": {
       "version_major": 2,
       "version_minor": 0,
       "model_id": "9c2a352418d54ae7a866948aa90ee9ae"
      }
     },
     "metadata": {},
     "output_type": "display_data"
    },
    {
     "data": {
      "text/plain": [
       "Representation 2:   0%|          | 0/2 [00:00<?, ?it/s]"
      ],
      "application/vnd.jupyter.widget-view+json": {
       "version_major": 2,
       "version_minor": 0,
       "model_id": "92fc201ce6b3464491af7123d8ad94bc"
      }
     },
     "metadata": {},
     "output_type": "display_data"
    },
    {
     "name": "stdout",
     "output_type": "stream",
     "text": [
      "Neighbors in GRR according to KNN GRR, with vectors from GRR has CosSim 1.00 and MRR 0.95\n",
      "Neighbors in FRR according to KNN GRR, with vectors from GRR has CosSim 0.21 and MRR 0.27\n",
      "Neighbors in GRR according to KNN GRR, with vectors from FRR has CosSim 0.15 and MRR 0.25\n",
      "Neighbors in FRR according to KNN GRR, with vectors from FRR has CosSim 1.00 and MRR 1.00\n",
      "Neighbors in GRR according to KNN FRR, with vectors from GRR has CosSim 1.00 and MRR 0.95\n",
      "Neighbors in FRR according to KNN FRR, with vectors from GRR has CosSim 0.18 and MRR 0.26\n",
      "Neighbors in GRR according to KNN FRR, with vectors from FRR has CosSim 0.18 and MRR 0.27\n",
      "Neighbors in FRR according to KNN FRR, with vectors from FRR has CosSim 1.00 and MRR 1.00\n"
     ]
    }
   ],
   "execution_count": 206
  },
  {
   "metadata": {},
   "cell_type": "code",
   "outputs": [],
   "execution_count": null,
   "source": "",
   "id": "3fced5e66adfb1e5"
  }
 ],
 "metadata": {
  "kernelspec": {
   "display_name": "Python 3",
   "language": "python",
   "name": "python3"
  },
  "language_info": {
   "codemirror_mode": {
    "name": "ipython",
    "version": 2
   },
   "file_extension": ".py",
   "mimetype": "text/x-python",
   "name": "python",
   "nbconvert_exporter": "python",
   "pygments_lexer": "ipython2",
   "version": "2.7.6"
  }
 },
 "nbformat": 4,
 "nbformat_minor": 5
}
