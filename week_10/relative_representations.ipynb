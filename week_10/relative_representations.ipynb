{
 "cells": [
  {
   "metadata": {},
   "cell_type": "markdown",
   "source": [
    "# Week 10 Relative Representations\n",
    "\n",
    "In this notebook we attempt to reproduce some results from the paper \"RELATIVE REPRESENTATIONS ENABLE ZERO-SHOT LATENT SPACE COMMUNICATION\" found at 'https://arxiv.org/abs/2209.15430'.\n",
    "The paper shows how representing ones data using a distance measure to a selection of points leads to an ability to use models trained on one dataset on another. Here we will show how GloVe and Fasttext vectors embedded according to the method are much more similar than the original embeddings.\n"
   ],
   "id": "c2d8574d7334b57"
  },
  {
   "metadata": {},
   "cell_type": "markdown",
   "source": [
    "### Exercise 1\n",
    "\n",
    "**1. In you own words, what are relative representations and how do we construct them?**\n",
    "\n",
    "\n",
    "**2. Explain why you would expect this method to allow for communication between latent spaces.**\n",
    "- How should we choose the anchors in each space?\n",
    "\n",
    "**3. How would you measure whether two latent spaces have similar representations?**\n",
    "\n"
   ],
   "id": "8211c9b027ccd4dc"
  },
  {
   "cell_type": "code",
   "id": "initial_id",
   "metadata": {
    "collapsed": true,
    "ExecuteTime": {
     "end_time": "2024-11-05T16:32:40.098719Z",
     "start_time": "2024-11-05T16:32:33.398237Z"
    }
   },
   "source": [
    "import pickle\n",
    "import random\n",
    "import numpy as np\n",
    "import matplotlib.pyplot as plt\n",
    "from os.path import join\n",
    "from tqdm.notebook import tqdm\n",
    "\n",
    "from collections import defaultdict\n",
    "from sklearn.decomposition import PCA\n",
    "from sklearn.neighbors import NearestNeighbors, KNeighborsClassifier"
   ],
   "outputs": [],
   "execution_count": 1
  },
  {
   "cell_type": "markdown",
   "source": [
    "### Exercise 2 Loading the data\n",
    "**1. $\\star$ For those interested in doing the whole thing from scratch, download the following:**\n",
    "\n",
    "\n",
    "For fasttext we want the `1. wiki-news-300d-1M.vec.zip: 1 million word vectors trained on Wikipedia 2017, UMBC webbase corpus and statmt.org news dataset (16B tokens).` found at\n",
    "\n",
    "`https://fasttext.cc/docs/en/english-vectors.html`\n",
    "\n",
    "For GloVe we want the `Wikipedia 2014 + Gigaword 5 (6B tokens, 400K vocab, uncased, 50d, 100d, 200d, & 300d vectors, 822 MB download): glove.6B.zip` found at \n",
    "\n",
    "`https://nlp.stanford.edu/projects/glove/`"
   ],
   "metadata": {
    "collapsed": false
   },
   "id": "cd1ff3324dedccc0"
  },
  {
   "metadata": {},
   "cell_type": "code",
   "outputs": [],
   "execution_count": null,
   "source": [
    "def load_vectors_from_file(filename, n_words, encoding='utf-8', specified_word_set=None):\n",
    "    p_bar = tqdm(total=n_words, desc='Loading word vectors', position=0, leave=True)\n",
    "    embeddings_dict = {}\n",
    "    with open(filename, 'r', encoding=encoding) as f:\n",
    "        for line in f:\n",
    "            values = line.split()\n",
    "            word = values[0]\n",
    "            if specified_word_set is None or word in specified_word_set:\n",
    "                vector = np.asarray(values[1:], \"float32\")\n",
    "                if len(vector) > 1:\n",
    "                    embeddings_dict[word] = vector\n",
    "                    p_bar.update(1)\n",
    "                    if len(embeddings_dict) == n_words:\n",
    "                        break\n",
    "        else:\n",
    "            print(\"Reached end of file!\")\n",
    "    print(f'Loaded {len(embeddings_dict)} word vectors')\n",
    "    embeddings_dict = dict(sorted(embeddings_dict.items()))\n",
    "    \n",
    "    all_vectors = np.array(list(embeddings_dict.values()))\n",
    "    normalisation = all_vectors.mean(axis=0)\n",
    "    all_vectors -= normalisation\n",
    "    embeddings_dict = {word: vector for word, vector in zip(embeddings_dict.keys(), all_vectors)}\n",
    "    \n",
    "    return embeddings_dict"
   ],
   "id": "d0939ae7d32b4e37"
  },
  {
   "metadata": {},
   "cell_type": "code",
   "outputs": [],
   "execution_count": null,
   "source": [
    "n_words = 40_000\n",
    "filename_glove = \"glove.6B.300d.txt\"\n",
    "embeddings_dict_glove = load_vectors_from_file(filename_glove, n_words=n_words)"
   ],
   "id": "6f42187ad2645ff4"
  },
  {
   "metadata": {},
   "cell_type": "code",
   "outputs": [],
   "execution_count": null,
   "source": [
    "filename_fasttext = 'wiki-news-300d-1M.vec'\n",
    "embeddings_dict_fasttext = load_vectors_from_file(filename_fasttext, n_words=n_words, specified_word_set=None)"
   ],
   "id": "1a8b0e0d95fbc354"
  },
  {
   "metadata": {},
   "cell_type": "markdown",
   "source": "**2. Create a function which takes two dictionaries and removes all keys that do not occur in both**\n",
   "id": "1441b6cb44ed1e3b"
  },
  {
   "metadata": {},
   "cell_type": "code",
   "outputs": [],
   "execution_count": null,
   "source": [
    "def ensure_intersecting_keys(dict1, dict2):\n",
    "    \"\"\"\n",
    "    Modifies the input dictionaries to only keep keys that exist in both dictionaries.\n",
    "    returns nothing\n",
    "    \n",
    "    Parameters:\n",
    "    dict1 (dict): The first dictionary to be modified.\n",
    "    dict2 (dict): The second dictionary to be modified.\n",
    "    \"\"\"\n",
    "    # Find the intersection of the keys\n",
    "    common_keys = set(dict1.keys()).intersection(set(dict2.keys()))\n",
    "    \n",
    "    # Remove keys from dict1 that are not in the intersection\n",
    "    keys_to_remove = set(dict1.keys()) - common_keys\n",
    "    for key in keys_to_remove:\n",
    "        del dict1[key]\n",
    "    print(f'Removed {len(keys_to_remove)}, leaving {len(dict1.keys())}')\n",
    "\n",
    "    # Remove keys from dict2 that are not in the intersection\n",
    "    keys_to_remove = set(dict2.keys()) - common_keys\n",
    "    for key in keys_to_remove:\n",
    "        del dict2[key]"
   ],
   "id": "92f102b29728d674"
  },
  {
   "metadata": {},
   "cell_type": "markdown",
   "source": "*If you chose not to download the original data here are two dictionaries to test on:*",
   "id": "7e426bb867546b31"
  },
  {
   "metadata": {},
   "cell_type": "code",
   "outputs": [],
   "execution_count": null,
   "source": [
    "dict1 = {\n",
    "    'dragon': 'fire',\n",
    "    'unicorn': 'magic',\n",
    "    'phoenix': 'rebirth'\n",
    "}\n",
    "\n",
    "dict2 = {\n",
    "    'unicorn': 'rainbow',\n",
    "    'phoenix': 'ashes',\n",
    "    'mermaid': 'ocean'\n",
    "}\n",
    "ensure_intersecting_keys(dict1, dict2)\n",
    "print(dict1)\n",
    "print(dict2)"
   ],
   "id": "393e27769aee4e7b"
  },
  {
   "metadata": {},
   "cell_type": "markdown",
   "source": "*Only run this if you have downloaded the data*",
   "id": "3b41c5ab64b57d39"
  },
  {
   "cell_type": "code",
   "source": "ensure_intersecting_keys(embeddings_dict_glove, embeddings_dict_fasttext)",
   "metadata": {
    "collapsed": false,
    "ExecuteTime": {
     "end_time": "2024-11-04T14:33:58.508749Z",
     "start_time": "2024-11-04T14:33:58.409687Z"
    }
   },
   "id": "cff62ff0328abcc4",
   "outputs": [
    {
     "name": "stdout",
     "output_type": "stream",
     "text": [
      "Removed 17994, leaving 22006\n"
     ]
    }
   ],
   "execution_count": 88
  },
  {
   "metadata": {},
   "cell_type": "markdown",
   "source": "**3. $\\star$ If you downloaded and ensured non-intersecting dictionaries, save them here:**",
   "id": "cfc54d7a1ec109c0"
  },
  {
   "metadata": {
    "ExecuteTime": {
     "end_time": "2024-11-05T16:32:40.114753Z",
     "start_time": "2024-11-05T16:32:40.106715Z"
    }
   },
   "cell_type": "code",
   "source": [
    "filename_glove_pickle = \"Glove_ex_10.pkl\"\n",
    "filename_fasttext_pickle = \"FastText_ex_10.pkl\""
   ],
   "id": "93b627e4283cdfc",
   "outputs": [],
   "execution_count": 2
  },
  {
   "metadata": {},
   "cell_type": "code",
   "outputs": [],
   "execution_count": null,
   "source": [
    "with open(filename_glove_pickle, \"wb\") as f:\n",
    "    pickle.dump(embeddings_dict_glove, f)\n",
    "\n",
    "with open(filename_fasttext_pickle, \"wb\") as f:\n",
    "    pickle.dump(embeddings_dict_fasttext, f)"
   ],
   "id": "b8a25cfda25a655c"
  },
  {
   "metadata": {},
   "cell_type": "markdown",
   "source": "**4. Load two dictionaries of vectors that have been processed**",
   "id": "515b0521f30eace4"
  },
  {
   "metadata": {
    "ExecuteTime": {
     "end_time": "2024-11-05T16:32:40.723566Z",
     "start_time": "2024-11-05T16:32:40.477020Z"
    }
   },
   "cell_type": "code",
   "source": [
    "with open(filename_glove_pickle, \"rb\") as f:\n",
    "    embeddings_dict_glove = pickle.load(f)\n",
    "\n",
    "with open(filename_fasttext_pickle, \"rb\") as f:\n",
    "    embeddings_dict_fasttext = pickle.load(f)"
   ],
   "id": "64411e997f8bc262",
   "outputs": [],
   "execution_count": 3
  },
  {
   "metadata": {},
   "cell_type": "markdown",
   "source": "**5. Look at what the dictionaries contain in order to prepare for the next exercise**",
   "id": "c57b54842611ce49"
  },
  {
   "metadata": {},
   "cell_type": "code",
   "outputs": [],
   "execution_count": null,
   "source": [
    "for el in embeddings_dict_fasttext.items():\n",
    "    print(el)\n",
    "    break"
   ],
   "id": "2d384a700efeb766"
  },
  {
   "metadata": {},
   "cell_type": "code",
   "outputs": [],
   "execution_count": null,
   "source": [
    "for el in embeddings_dict_glove.items():\n",
    "    print(el)\n",
    "    break"
   ],
   "id": "b5d7663b67bac1ed"
  },
  {
   "metadata": {},
   "cell_type": "markdown",
   "source": [
    "## Exercise 3 Creating the relative representations\n",
    "*In the paper they chose 300 anchors for the relative representations, so we suggest you do so too.*\n",
    "\n",
    "**1. Create a function that takes an embedding dictionary and creates a dictionary of the same words but using relative representations. Also return the anchor words in order to ensure that the relative representations are of parallel words**\n"
   ],
   "id": "149daa778e0294c1"
  },
  {
   "cell_type": "code",
   "source": [
    "def get_anchors(embeddings_dict, n_anchors=300):\n",
    "    \"\"\"Randomly sample n_anchors from embeddings_dict and return as a matrix where each row is a relative representation vector. Returns shape (embedding_dim, n_anchors)\"\"\"\n",
    "    anchor_words = random.sample(list(embeddings_dict.keys()), n_anchors)\n",
    "    \n",
    "    return anchor_words\n",
    "\n",
    "def get_relative_representations(embeddings_dict, similarity_measure, n_anchors=300, anchor_words=None):\n",
    "    \"\"\"Using a given similarity measure and embedding dictionary, calculate the relative representations and return as a matrix where each row is a relative representation vector. Returns shape (n_samples, n_anchors)\"\"\"\n",
    "    relative_representations_dict = dict()\n",
    "    anchor_words = get_anchors(embeddings_dict, n_anchors=n_anchors) if anchor_words is None else anchor_words\n",
    "    anchor_vectors = np.vstack([embeddings_dict[word] for word in anchor_words])\n",
    "\n",
    "    for word in tqdm(embeddings_dict.keys(), desc='Calculating relative representations',  position=0, leave=True):\n",
    "        embedding = embeddings_dict[word]\n",
    "\n",
    "        relative_representation = similarity_measure(embedding, anchor_vectors)\n",
    "        relative_representations_dict[word] = relative_representation\n",
    "\n",
    "    return relative_representations_dict, anchor_words"
   ],
   "metadata": {
    "collapsed": false,
    "ExecuteTime": {
     "end_time": "2024-11-05T16:33:26.236132Z",
     "start_time": "2024-11-05T16:33:26.220129Z"
    }
   },
   "id": "d80b93887e13d55b",
   "outputs": [],
   "execution_count": 8
  },
  {
   "metadata": {},
   "cell_type": "markdown",
   "source": "**2. Create a cosine_similarity function which calculates the cosine similarity between a vector and a matrix**",
   "id": "bfaef45da857ec2f"
  },
  {
   "cell_type": "code",
   "source": [
    "def cosine_similarity(word_vector, anchors):\n",
    "    \"\"\"Calculate the cosine similarity between the word vector and each of the anchors. Returns a vector of shape (n_anchors,)\"\"\"\n",
    "    # Normalize the word vector\n",
    "    word_vector_norm = np.linalg.norm(word_vector)\n",
    "    word_vector_normalized = word_vector / word_vector_norm\n",
    "    # Normalize the anchor rows\n",
    "    row_norms = np.linalg.norm(anchors, axis=1)\n",
    "    anchors_normalized = anchors / row_norms[:, np.newaxis]\n",
    "    # Compute the cosine similarities (dot product of normalized word_vector and each row)\n",
    "    cosine_similarities = np.dot(anchors_normalized, word_vector_normalized)\n",
    "    \n",
    "    return cosine_similarities"
   ],
   "metadata": {
    "collapsed": false,
    "ExecuteTime": {
     "end_time": "2024-11-05T16:33:26.516126Z",
     "start_time": "2024-11-05T16:33:26.499126Z"
    }
   },
   "id": "6c81d90ec2020ce8",
   "outputs": [],
   "execution_count": 9
  },
  {
   "cell_type": "code",
   "source": [
    "n_anchors = 300\n",
    "random.seed(420)\n",
    "relrep_dict_glove, anchor_words = get_relative_representations(embeddings_dict_glove, n_anchors=n_anchors, similarity_measure=cosine_similarity)"
   ],
   "metadata": {
    "collapsed": false,
    "ExecuteTime": {
     "end_time": "2024-11-05T16:33:36.838306Z",
     "start_time": "2024-11-05T16:33:26.892833Z"
    }
   },
   "id": "a9b0006b10649388",
   "outputs": [
    {
     "data": {
      "text/plain": [
       "Calculating relative representations:   0%|          | 0/22006 [00:00<?, ?it/s]"
      ],
      "application/vnd.jupyter.widget-view+json": {
       "version_major": 2,
       "version_minor": 0,
       "model_id": "49416dd9632d4f72bc7b2f97f58f6f50"
      }
     },
     "metadata": {},
     "output_type": "display_data"
    }
   ],
   "execution_count": 10
  },
  {
   "metadata": {},
   "cell_type": "code",
   "outputs": [],
   "execution_count": null,
   "source": "relrep_dict_fasttext, anchor_words = get_relative_representations(embeddings_dict_fasttext, n_anchors=n_anchors, similarity_measure=cosine_similarity, anchor_words=anchor_words)",
   "id": "61b21a0b21caf3ee"
  },
  {
   "metadata": {},
   "cell_type": "markdown",
   "source": "**3. Now it's time to visualise cluster in each of the latent spaces. We will do so by sampling n random words, **",
   "id": "729278afdf4b5a46"
  },
  {
   "metadata": {},
   "cell_type": "code",
   "outputs": [],
   "execution_count": null,
   "source": [
    "def sample_random_words(words, n):    \n",
    "    random_sample = random.sample(words, n)\n",
    "    return random_sample"
   ],
   "id": "142b744ce88e1b23"
  },
  {
   "metadata": {},
   "cell_type": "code",
   "outputs": [],
   "execution_count": null,
   "source": [
    "def create_2d_clusters(cluster_centers, embeddings, n_neighbors=200):\n",
    "    \"\"\"\n",
    "    Find the n_points nearest neighbors in the embeddings matrix for each cluster center and use PCA to reduce the dimensionality of the points to 2.\n",
    "    \n",
    "    Parameters:\n",
    "    cluster_centers (np.array): An array of cluster center vectors.\n",
    "    embeddings (np.array): An array of embedding vectors.\n",
    "    n_neighbors (int): The number of nearest neighbors to find for each cluster center.\n",
    "    \n",
    "    Returns:\n",
    "    pca_results: A numpy array of shape (n_clusters, n_neighbors, 2) containing the two principal components of the nearest neighbors of each of the clusters centers\n",
    "    \"\"\"\n",
    "    pca_results = np.empty(shape=(cluster_centers.shape[0], n_neighbors, 2))\n",
    "    \n",
    "    # Fit the NearestNeighbors model\n",
    "    nn_model = NearestNeighbors(n_neighbors=n_neighbors)\n",
    "    pca = PCA(n_components=2)\n",
    "    embeddings_2d = pca.fit_transform(embeddings)\n",
    "    nn_model.fit(embeddings_2d)\n",
    "    \n",
    "    for i, center in enumerate(cluster_centers):\n",
    "        # Find the n_points nearest neighbors\n",
    "        center_2d = pca.transform(center.reshape((1, -1)))\n",
    "        distances, indices = nn_model.kneighbors(center_2d)\n",
    "        nearest_neighbors = embeddings_2d[indices[0]]\n",
    "                \n",
    "        # Store the results in the dictionary\n",
    "        pca_results[i] = nearest_neighbors\n",
    "    \n",
    "    return pca_results\n",
    "\n",
    "def visualize_clusters(pca_results, name='', y_lim=(None,), x_lim=(None,)):\n",
    "    for points in pca_results:\n",
    "        plt.scatter(points[:, 0], points[:, 1], marker='o', s=2.5)\n",
    "    plt.title(name)\n",
    "    plt.ylim(*y_lim)\n",
    "    plt.xlim(*x_lim)\n",
    "    plt.grid(True)"
   ],
   "id": "6a0efc5aaec7297e"
  },
  {
   "metadata": {
    "ExecuteTime": {
     "end_time": "2024-11-05T16:33:46.646699Z",
     "start_time": "2024-11-05T16:33:46.636697Z"
    }
   },
   "cell_type": "code",
   "source": [
    "n_centers = 4\n",
    "\n",
    "words = list(embeddings_dict_glove.keys())\n",
    "pca_words = sample_random_words(words, n=n_centers)\n",
    "\n",
    "centers_rel_rep_glove = np.vstack([relrep_dict_glove[word] for word in pca_words])\n",
    "centers_rel_rep_fasttext = np.vstack([relrep_dict_fasttext[word] for word in pca_words])\n",
    "centers_o_rep_glove = np.vstack([embeddings_dict_glove[word] for word in pca_words])\n",
    "centers_o_rep_fasttext = np.vstack([embeddings_dict_fasttext[word] for word in pca_words])"
   ],
   "id": "f9cecb06f60ce0e0",
   "outputs": [],
   "execution_count": 13
  },
  {
   "metadata": {
    "ExecuteTime": {
     "end_time": "2024-11-05T16:33:47.074031Z",
     "start_time": "2024-11-05T16:33:46.798891Z"
    }
   },
   "cell_type": "code",
   "source": [
    "own_reps_glove = np.vstack(list(embeddings_dict_glove.values()))\n",
    "own_reps_fasttext = np.vstack(list(embeddings_dict_fasttext.values()))\n",
    "rel_reps_glove = np.vstack(list(relrep_dict_glove.values()))\n",
    "rel_reps_fasttext = np.vstack(list(relrep_dict_fasttext.values()))"
   ],
   "id": "5a05b3ffd91082ab",
   "outputs": [],
   "execution_count": 14
  },
  {
   "metadata": {
    "ExecuteTime": {
     "end_time": "2024-11-05T16:33:47.134533Z",
     "start_time": "2024-11-05T16:33:47.107499Z"
    }
   },
   "cell_type": "code",
   "source": "own_reps_glove.shape, own_reps_fasttext.shape, centers_o_rep_glove.shape, centers_rel_rep_glove.shape",
   "id": "3657206f13faaf48",
   "outputs": [
    {
     "data": {
      "text/plain": [
       "((22006, 300), (22006, 300), (4, 300), (4, 300))"
      ]
     },
     "execution_count": 15,
     "metadata": {},
     "output_type": "execute_result"
    }
   ],
   "execution_count": 15
  },
  {
   "metadata": {
    "ExecuteTime": {
     "end_time": "2024-11-05T16:33:47.883583Z",
     "start_time": "2024-11-05T16:33:47.513270Z"
    }
   },
   "cell_type": "code",
   "source": [
    "n_points_visualisation = 100\n",
    "pca_glove_own = create_2d_clusters(centers_o_rep_glove, embeddings=own_reps_glove, n_neighbors=n_points_visualisation)\n",
    "pca_glove_relative = create_2d_clusters(centers_rel_rep_glove, embeddings=rel_reps_glove, n_neighbors=n_points_visualisation)"
   ],
   "id": "7731e8409b45b45d",
   "outputs": [],
   "execution_count": 16
  },
  {
   "metadata": {
    "ExecuteTime": {
     "end_time": "2024-11-05T16:33:48.309281Z",
     "start_time": "2024-11-05T16:33:47.942411Z"
    }
   },
   "cell_type": "code",
   "source": [
    "pca_fasttext_own = create_2d_clusters(centers_o_rep_fasttext, embeddings=own_reps_fasttext, n_neighbors=n_points_visualisation)\n",
    "pca_fasttext_relative = create_2d_clusters(centers_rel_rep_fasttext, embeddings=rel_reps_fasttext, n_neighbors=n_points_visualisation)"
   ],
   "id": "3174cce52b1ac7e0",
   "outputs": [],
   "execution_count": 17
  },
  {
   "cell_type": "code",
   "source": [
    "fig, axs = plt.subplots(nrows=2, ncols=2)\n",
    "plt.sca(axs[0, 0])\n",
    "visualize_clusters(pca_glove_own, f'PCA GloVe {n_points_visualisation}\\nown representations')\n",
    "plt.sca(axs[1, 0])\n",
    "visualize_clusters(pca_fasttext_own, f'PCA Fasttext {n_points_visualisation}\\nown representations')\n",
    "plt.sca(axs[0, 1])\n",
    "visualize_clusters(pca_glove_relative, f'PCA GloVe {n_points_visualisation}\\nrelative representations')\n",
    "plt.sca(axs[1, 1])\n",
    "visualize_clusters(pca_fasttext_relative, f'PCA Fasttext {n_points_visualisation}\\nrelative representations')\n",
    "\n",
    "plt.tight_layout()"
   ],
   "metadata": {
    "collapsed": false,
    "ExecuteTime": {
     "end_time": "2024-11-05T16:33:49.936218Z",
     "start_time": "2024-11-05T16:33:48.471531Z"
    }
   },
   "id": "116829c72ec8b853",
   "outputs": [
    {
     "data": {
      "text/plain": [
       "<Figure size 640x480 with 4 Axes>"
      ],
      "image/png": "[encoded data removed]"
     },
     "metadata": {},
     "output_type": "display_data"
    }
   ],
   "execution_count": 18
  },
  {
   "metadata": {},
   "cell_type": "markdown",
   "source": "### Exercise 4 Similarity metrics",
   "id": "84f4e1ec90b063a5"
  },
  {
   "cell_type": "code",
   "source": [
    "def mean_reciprocal_rank(query_vector, matrix):\n",
    "    \"\"\"\n",
    "    Calculate the Mean Reciprocal Rank (MRR) given a query vector and a matrix.\n",
    "    \n",
    "    Parameters:\n",
    "    query_vector (np.array): A vector representing the query.\n",
    "    matrix (np.array): A matrix where each row represents a document.\n",
    "    \n",
    "    Returns:\n",
    "    float: The MRR score.\n",
    "    \"\"\"\n",
    "    # Compute relevance scores as dot products between the query_vector and each row in the matrix\n",
    "    relevance_scores = np.dot(matrix, query_vector)\n",
    "    \n",
    "    # Get the ranks of the documents sorted by relevance (highest relevance first)\n",
    "    sorted_indices = np.argsort(relevance_scores)[::-1]\n",
    "    \n",
    "    # Find the rank of the first relevant document\n",
    "    first_relevant_rank = np.where(sorted_indices == 0)[0][0] + 1  # Adding 1 to make rank 1-based\n",
    "    \n",
    "    # Calculate the reciprocal rank\n",
    "    reciprocal_rank = 1 / first_relevant_rank\n",
    "    \n",
    "    return reciprocal_rank"
   ],
   "metadata": {
    "collapsed": false,
    "ExecuteTime": {
     "end_time": "2024-11-05T16:34:02.663755Z",
     "start_time": "2024-11-05T16:34:02.641721Z"
    }
   },
   "id": "541066a020d8152f",
   "outputs": [],
   "execution_count": 19
  },
  {
   "metadata": {
    "ExecuteTime": {
     "end_time": "2024-11-05T16:34:07.919461Z",
     "start_time": "2024-11-05T16:34:02.910271Z"
    }
   },
   "cell_type": "code",
   "source": [
    "K = 10\n",
    "knn_rel_glove = NearestNeighbors(n_neighbors=K)\n",
    "knn_rel_glove.fit(rel_reps_glove)\n",
    "nearest_neighbors_rel_glove = knn_rel_glove.kneighbors(rel_reps_glove, return_distance=False)"
   ],
   "id": "577c8e6ee2d4ca7b",
   "outputs": [],
   "execution_count": 20
  },
  {
   "metadata": {
    "ExecuteTime": {
     "end_time": "2024-11-05T16:34:10.791223Z",
     "start_time": "2024-11-05T16:34:07.925954Z"
    }
   },
   "cell_type": "code",
   "source": [
    "knn_rel_fasttext = NearestNeighbors(n_neighbors=K)\n",
    "knn_rel_fasttext.fit(rel_reps_fasttext)\n",
    "nearest_neighbors_rel_fasttext = knn_rel_fasttext.kneighbors(rel_reps_fasttext, return_distance=False)"
   ],
   "id": "be95ab5da7614614",
   "outputs": [],
   "execution_count": 21
  },
  {
   "metadata": {
    "ExecuteTime": {
     "end_time": "2024-11-05T16:34:13.838892Z",
     "start_time": "2024-11-05T16:34:10.887074Z"
    }
   },
   "cell_type": "code",
   "source": [
    "knn_own_glove = NearestNeighbors(n_neighbors=K)\n",
    "knn_own_glove.fit(own_reps_glove)\n",
    "nearest_neighbors_own_glove = knn_own_glove.kneighbors(own_reps_glove, return_distance=False)"
   ],
   "id": "947bdefd5c7eec7b",
   "outputs": [],
   "execution_count": 22
  },
  {
   "metadata": {
    "ExecuteTime": {
     "end_time": "2024-11-05T16:34:16.689111Z",
     "start_time": "2024-11-05T16:34:13.906900Z"
    }
   },
   "cell_type": "code",
   "source": [
    "knn_own_fasttext = NearestNeighbors(n_neighbors=K)\n",
    "knn_own_fasttext.fit(own_reps_fasttext)\n",
    "nearest_neighbors_own_fasttext = knn_own_fasttext.kneighbors(own_reps_fasttext, return_distance=False)"
   ],
   "id": "36ec5deaf544e0a2",
   "outputs": [],
   "execution_count": 23
  },
  {
   "metadata": {
    "ExecuteTime": {
     "end_time": "2024-11-05T16:48:54.716546Z",
     "start_time": "2024-11-05T16:48:54.699496Z"
    }
   },
   "cell_type": "code",
   "source": [
    "def compute_knn_results(NNs, reps, names_knn, verbose=True):\n",
    "    result_rows = []\n",
    "\n",
    "    for i_knn, knn in tqdm(enumerate(NNs), desc=\"KNN\", total=len(names_knn)):\n",
    "        for i_repr_1, repr_1 in tqdm(enumerate(reps), desc=\"Representation 1\", total=len(names_knn)):\n",
    "            for i_repr_2, repr_2 in tqdm(enumerate(reps), desc=\"Representation 2\", total=len(names_knn)):\n",
    "                temp_cossim, temp_mrr = [], []\n",
    "                for i_vect, vector in enumerate(repr_1):\n",
    "                    neighbors = knn[i_vect]\n",
    "                    vector_subset = repr_2[neighbors]\n",
    "\n",
    "                    cossim = cosine_similarity(vector, vector_subset).max()\n",
    "                    mrr = mean_reciprocal_rank(vector, vector_subset)\n",
    "                    temp_cossim.append(cossim)\n",
    "                    temp_mrr.append(mrr)\n",
    "                \n",
    "                result_rows.append([\n",
    "                    names_knn[i_knn], \n",
    "                    names_knn[i_repr_1], \n",
    "                    names_knn[i_repr_2], \n",
    "                    np.mean(temp_cossim), \n",
    "                    np.mean(temp_mrr),\n",
    "                ])\n",
    "    if verbose:\n",
    "        for row in result_rows:\n",
    "            print(f\"Neighbors in {row[2]} according to KNN {row[0]}, with vectors from {row[1]} has Cossim {row[3]:.2f} and MRR {row[4]:.2f}\")\n",
    "    return result_rows"
   ],
   "id": "dc587db023b3c0d2",
   "outputs": [],
   "execution_count": 31
  },
  {
   "metadata": {
    "ExecuteTime": {
     "end_time": "2024-11-05T16:46:45.946080Z",
     "start_time": "2024-11-05T16:46:33.276522Z"
    }
   },
   "cell_type": "code",
   "source": [
    "result_own = compute_knn_results(\n",
    "    NNs=[nearest_neighbors_own_glove, nearest_neighbors_own_fasttext],\n",
    "    reps=[own_reps_glove, own_reps_fasttext],\n",
    "    names_knn = [\"GRR\", \"FRR\"]\n",
    ")"
   ],
   "id": "bfdad1c06cc5cc25",
   "outputs": [
    {
     "data": {
      "text/plain": [
       "KNN:   0%|          | 0/2 [00:00<?, ?it/s]"
      ],
      "application/vnd.jupyter.widget-view+json": {
       "version_major": 2,
       "version_minor": 0,
       "model_id": "892510cef5b34aa38a5f9c01b2724033"
      }
     },
     "metadata": {},
     "output_type": "display_data"
    },
    {
     "data": {
      "text/plain": [
       "Representation 1:   0%|          | 0/2 [00:00<?, ?it/s]"
      ],
      "application/vnd.jupyter.widget-view+json": {
       "version_major": 2,
       "version_minor": 0,
       "model_id": "4e54f9e4cce9483da67afe3517f7d441"
      }
     },
     "metadata": {},
     "output_type": "display_data"
    },
    {
     "data": {
      "text/plain": [
       "Representation 2:   0%|          | 0/2 [00:00<?, ?it/s]"
      ],
      "application/vnd.jupyter.widget-view+json": {
       "version_major": 2,
       "version_minor": 0,
       "model_id": "7cf5bb88fc2d42708f0d50932bc3ca25"
      }
     },
     "metadata": {},
     "output_type": "display_data"
    },
    {
     "data": {
      "text/plain": [
       "Representation 2:   0%|          | 0/2 [00:00<?, ?it/s]"
      ],
      "application/vnd.jupyter.widget-view+json": {
       "version_major": 2,
       "version_minor": 0,
       "model_id": "5d487ca3f3394603b90df4670522ee75"
      }
     },
     "metadata": {},
     "output_type": "display_data"
    },
    {
     "data": {
      "text/plain": [
       "Representation 1:   0%|          | 0/2 [00:00<?, ?it/s]"
      ],
      "application/vnd.jupyter.widget-view+json": {
       "version_major": 2,
       "version_minor": 0,
       "model_id": "05a9170ee12346d1902d94ae69965e6c"
      }
     },
     "metadata": {},
     "output_type": "display_data"
    },
    {
     "data": {
      "text/plain": [
       "Representation 2:   0%|          | 0/2 [00:00<?, ?it/s]"
      ],
      "application/vnd.jupyter.widget-view+json": {
       "version_major": 2,
       "version_minor": 0,
       "model_id": "c7327baac6ca4118b3d52171a5dbba40"
      }
     },
     "metadata": {},
     "output_type": "display_data"
    },
    {
     "data": {
      "text/plain": [
       "Representation 2:   0%|          | 0/2 [00:00<?, ?it/s]"
      ],
      "application/vnd.jupyter.widget-view+json": {
       "version_major": 2,
       "version_minor": 0,
       "model_id": "5d1fb5953e8b40b28ac6687ca5e042ec"
      }
     },
     "metadata": {},
     "output_type": "display_data"
    },
    {
     "name": "stdout",
     "output_type": "stream",
     "text": [
      "Neighbors in GRR according to KNN GRR, with vectors from GRR has Jacc 1.00 CosSim 1.00 and MRR 1.00\n",
      "Neighbors in FRR according to KNN GRR, with vectors from GRR has Jacc 1.00 CosSim 0.08 and MRR 0.29\n",
      "Neighbors in GRR according to KNN GRR, with vectors from FRR has Jacc 1.00 CosSim 0.08 and MRR 0.29\n",
      "Neighbors in FRR according to KNN GRR, with vectors from FRR has Jacc 1.00 CosSim 1.00 and MRR 1.00\n",
      "Neighbors in GRR according to KNN FRR, with vectors from GRR has Jacc 1.00 CosSim 1.00 and MRR 1.00\n",
      "Neighbors in FRR according to KNN FRR, with vectors from GRR has Jacc 1.00 CosSim 0.07 and MRR 0.28\n",
      "Neighbors in GRR according to KNN FRR, with vectors from FRR has Jacc 1.00 CosSim 0.08 and MRR 0.28\n",
      "Neighbors in FRR according to KNN FRR, with vectors from FRR has Jacc 1.00 CosSim 1.00 and MRR 1.00\n"
     ]
    }
   ],
   "execution_count": 29
  },
  {
   "metadata": {
    "ExecuteTime": {
     "end_time": "2024-11-05T16:46:58.373984Z",
     "start_time": "2024-11-05T16:46:46.078399Z"
    }
   },
   "cell_type": "code",
   "source": [
    "result_rel = compute_knn_results(\n",
    "    NNs=[nearest_neighbors_rel_glove, nearest_neighbors_rel_fasttext],\n",
    "    reps=[rel_reps_glove, rel_reps_fasttext],\n",
    "    names_knn = [\"GRR\", \"FRR\"]\n",
    ")"
   ],
   "id": "5990dd7db295b37a",
   "outputs": [
    {
     "data": {
      "text/plain": [
       "KNN:   0%|          | 0/2 [00:00<?, ?it/s]"
      ],
      "application/vnd.jupyter.widget-view+json": {
       "version_major": 2,
       "version_minor": 0,
       "model_id": "d64c31c1bc694c5dac3efd98eae3a168"
      }
     },
     "metadata": {},
     "output_type": "display_data"
    },
    {
     "data": {
      "text/plain": [
       "Representation 1:   0%|          | 0/2 [00:00<?, ?it/s]"
      ],
      "application/vnd.jupyter.widget-view+json": {
       "version_major": 2,
       "version_minor": 0,
       "model_id": "748f439b7c2d4b588939d3b6802c766a"
      }
     },
     "metadata": {},
     "output_type": "display_data"
    },
    {
     "data": {
      "text/plain": [
       "Representation 2:   0%|          | 0/2 [00:00<?, ?it/s]"
      ],
      "application/vnd.jupyter.widget-view+json": {
       "version_major": 2,
       "version_minor": 0,
       "model_id": "6b6c7e28243f4ac5a45731c53ed060b5"
      }
     },
     "metadata": {},
     "output_type": "display_data"
    },
    {
     "data": {
      "text/plain": [
       "Representation 2:   0%|          | 0/2 [00:00<?, ?it/s]"
      ],
      "application/vnd.jupyter.widget-view+json": {
       "version_major": 2,
       "version_minor": 0,
       "model_id": "896af75ffd8941739886d95524e07e2c"
      }
     },
     "metadata": {},
     "output_type": "display_data"
    },
    {
     "data": {
      "text/plain": [
       "Representation 1:   0%|          | 0/2 [00:00<?, ?it/s]"
      ],
      "application/vnd.jupyter.widget-view+json": {
       "version_major": 2,
       "version_minor": 0,
       "model_id": "bc9c2caa85144fb4a7519a0ea1bcc679"
      }
     },
     "metadata": {},
     "output_type": "display_data"
    },
    {
     "data": {
      "text/plain": [
       "Representation 2:   0%|          | 0/2 [00:00<?, ?it/s]"
      ],
      "application/vnd.jupyter.widget-view+json": {
       "version_major": 2,
       "version_minor": 0,
       "model_id": "f3d24b1294f74f4d8db772aa480b622b"
      }
     },
     "metadata": {},
     "output_type": "display_data"
    },
    {
     "data": {
      "text/plain": [
       "Representation 2:   0%|          | 0/2 [00:00<?, ?it/s]"
      ],
      "application/vnd.jupyter.widget-view+json": {
       "version_major": 2,
       "version_minor": 0,
       "model_id": "cc4facd2762a4b748cc91d4d7dbcefcf"
      }
     },
     "metadata": {},
     "output_type": "display_data"
    },
    {
     "name": "stdout",
     "output_type": "stream",
     "text": [
      "Neighbors in GRR according to KNN GRR, with vectors from GRR has Jacc 1.00 CosSim 1.00 and MRR 0.95\n",
      "Neighbors in FRR according to KNN GRR, with vectors from GRR has Jacc 1.00 CosSim 0.56 and MRR 0.79\n",
      "Neighbors in GRR according to KNN GRR, with vectors from FRR has Jacc 1.00 CosSim 0.55 and MRR 0.80\n",
      "Neighbors in FRR according to KNN GRR, with vectors from FRR has Jacc 1.00 CosSim 1.00 and MRR 0.92\n",
      "Neighbors in GRR according to KNN FRR, with vectors from GRR has Jacc 1.00 CosSim 1.00 and MRR 0.96\n",
      "Neighbors in FRR according to KNN FRR, with vectors from GRR has Jacc 1.00 CosSim 0.55 and MRR 0.87\n",
      "Neighbors in GRR according to KNN FRR, with vectors from FRR has Jacc 1.00 CosSim 0.56 and MRR 0.71\n",
      "Neighbors in FRR according to KNN FRR, with vectors from FRR has Jacc 1.00 CosSim 1.00 and MRR 0.90\n"
     ]
    }
   ],
   "execution_count": 30
  },
  {
   "metadata": {},
   "cell_type": "code",
   "outputs": [],
   "execution_count": null,
   "source": "result_own",
   "id": "3fced5e66adfb1e5"
  }
 ],
 "metadata": {
  "kernelspec": {
   "display_name": "Python 3",
   "language": "python",
   "name": "python3"
  },
  "language_info": {
   "codemirror_mode": {
    "name": "ipython",
    "version": 2
   },
   "file_extension": ".py",
   "mimetype": "text/x-python",
   "name": "python",
   "nbconvert_exporter": "python",
   "pygments_lexer": "ipython2",
   "version": "2.7.6"
  }
 },
 "nbformat": 4,
 "nbformat_minor": 5
}
