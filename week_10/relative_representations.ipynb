{
 "cells": [
  {
   "cell_type": "code",
   "id": "initial_id",
   "metadata": {
    "collapsed": true,
    "ExecuteTime": {
     "end_time": "2024-11-04T10:21:53.482792Z",
     "start_time": "2024-11-04T10:21:52.180004Z"
    }
   },
   "source": [
    "import random\n",
    "import numpy as np\n",
    "import matplotlib.pyplot as plt\n",
    "from os.path import join\n",
    "from tqdm import tqdm\n",
    "\n",
    "from collections import defaultdict\n",
    "from sklearn.decomposition import PCA\n",
    "from sklearn.neighbors import NearestNeighbors, KNeighborsClassifier"
   ],
   "outputs": [],
   "execution_count": 1
  },
  {
   "cell_type": "markdown",
   "source": [
    "Download:\n",
    "For fasttext we want the `1. wiki-news-300d-1M.vec.zip: 1 million word vectors trained on Wikipedia 2017, UMBC webbase corpus and statmt.org news dataset (16B tokens).` found at \n",
    "\n",
    "`https://fasttext.cc/docs/en/english-vectors.html`\n",
    "\n",
    "For GloVe we want the `Wikipedia 2014 + Gigaword 5 (6B tokens, 400K vocab, uncased, 50d, 100d, 200d, & 300d vectors, 822 MB download): glove.6B.zip` found at \n",
    "\n",
    "`https://nlp.stanford.edu/projects/glove/`"
   ],
   "metadata": {
    "collapsed": false
   },
   "id": "cd1ff3324dedccc0"
  },
  {
   "cell_type": "code",
   "source": [
    "def load_vectors_from_file(filename, n_words=20_000, encoding='utf-8', specified_word_set=None):\n",
    "    p_bar = tqdm(total=n_words, desc='Loading word vectors', position=0, leave=True)\n",
    "    embeddings_dict = {}\n",
    "    with open(filename, 'r', encoding=encoding) as f:\n",
    "        for line in f:\n",
    "            values = line.split()\n",
    "            word = values[0]\n",
    "            if specified_word_set is None or word in specified_word_set:\n",
    "                vector = np.asarray(values[1:], \"float32\")\n",
    "                if len(vector) > 1:\n",
    "                    embeddings_dict[word] = vector\n",
    "                    p_bar.update(1)\n",
    "                    if len(embeddings_dict) == n_words:\n",
    "                        break\n",
    "        print(\"Reached end of file!\")\n",
    "    print(f'Loaded {len(embeddings_dict)} word vectors')\n",
    "    embeddings_dict = dict(sorted(embeddings_dict.items()))\n",
    "    \n",
    "    all_vectors = np.array(list(embeddings_dict.values()))\n",
    "    normalisation = all_vectors.mean(axis=0)\n",
    "    all_vectors -= normalisation\n",
    "    embeddings_dict = {word: vector for word, vector in zip(embeddings_dict.keys(), all_vectors)}\n",
    "    \n",
    "    return embeddings_dict\n",
    "\n",
    "\n",
    "def ensure_intersection_keys(dict1, dict2):\n",
    "    \"\"\"\n",
    "    Modifies the input dictionaries to only keep keys that exist in both dictionaries.\n",
    "    \n",
    "    Parameters:\n",
    "    dict1 (dict): The first dictionary to be modified.\n",
    "    dict2 (dict): The second dictionary to be modified.\n",
    "    \"\"\"\n",
    "    # Find the intersection of the keys\n",
    "    common_keys = set(dict1.keys()).intersection(set(dict2.keys()))\n",
    "    \n",
    "    # Remove keys from dict1 that are not in the intersection\n",
    "    keys_to_remove = set(dict1.keys()) - common_keys\n",
    "    for key in keys_to_remove:\n",
    "        del dict1[key]\n",
    "    print(f'Removed {len(keys_to_remove)}, leaving {len(dict1.keys())}')\n",
    "\n",
    "    # Remove keys from dict2 that are not in the intersection\n",
    "    keys_to_remove = set(dict2.keys()) - common_keys\n",
    "    for key in keys_to_remove:\n",
    "        del dict2[key]"
   ],
   "metadata": {
    "collapsed": false,
    "ExecuteTime": {
     "end_time": "2024-11-04T11:20:43.163004Z",
     "start_time": "2024-11-04T11:20:43.139010Z"
    }
   },
   "id": "f2307912b9ebe238",
   "outputs": [],
   "execution_count": 211
  },
  {
   "cell_type": "code",
   "source": [
    "n_words = 20_000\n",
    "filename_glove = \"glove.6B.50d.txt\"\n",
    "embeddings_dict_glove = load_vectors_from_file(filename_glove, n_words=n_words)"
   ],
   "metadata": {
    "collapsed": false,
    "ExecuteTime": {
     "end_time": "2024-11-04T11:20:43.786875Z",
     "start_time": "2024-11-04T11:20:43.292697Z"
    }
   },
   "id": "47955bb958a26475",
   "outputs": [
    {
     "name": "stderr",
     "output_type": "stream",
     "text": [
      "Loading word vectors: 100%|██████████| 20000/20000 [00:00<00:00, 42990.59it/s]"
     ]
    },
    {
     "name": "stdout",
     "output_type": "stream",
     "text": [
      "Reached end of file!\n",
      "Loaded 20000 word vectors\n"
     ]
    },
    {
     "name": "stderr",
     "output_type": "stream",
     "text": [
      "\n"
     ]
    }
   ],
   "execution_count": 212
  },
  {
   "cell_type": "code",
   "source": [
    "filename_fasttext = 'wiki-news-300d-1M.vec'\n",
    "embeddings_dict_fasttext = load_vectors_from_file(filename_fasttext, n_words=n_words, specified_word_set=set(embeddings_dict_glove.keys()))"
   ],
   "metadata": {
    "collapsed": false,
    "ExecuteTime": {
     "end_time": "2024-11-04T11:21:02.679116Z",
     "start_time": "2024-11-04T11:20:44.010338Z"
    }
   },
   "id": "e84c332fa32e8a57",
   "outputs": [
    {
     "name": "stderr",
     "output_type": "stream",
     "text": [
      "Loading word vectors:  97%|█████████▋| 19316/20000 [00:18<00:00, 1036.07it/s]"
     ]
    },
    {
     "name": "stdout",
     "output_type": "stream",
     "text": [
      "Reached end of file!\n",
      "Loaded 19316 word vectors\n"
     ]
    },
    {
     "name": "stderr",
     "output_type": "stream",
     "text": [
      "\n"
     ]
    }
   ],
   "execution_count": 213
  },
  {
   "cell_type": "code",
   "source": [
    "ensure_intersection_keys(embeddings_dict_glove, embeddings_dict_fasttext)"
   ],
   "metadata": {
    "collapsed": false,
    "ExecuteTime": {
     "end_time": "2024-11-04T11:21:02.803761Z",
     "start_time": "2024-11-04T11:21:02.773747Z"
    }
   },
   "id": "cff62ff0328abcc4",
   "outputs": [
    {
     "name": "stdout",
     "output_type": "stream",
     "text": [
      "Removed 684, leaving 19316\n"
     ]
    }
   ],
   "execution_count": 214
  },
  {
   "cell_type": "code",
   "source": [
    "def get_anchors(embeddings_dict, n_anchors=300):\n",
    "    \"\"\"Randomly sample n_anchors from embeddings_dict and return as a matrix where each row is a relative representation vector. Returns shape (embedding_dim, n_anchors)\"\"\"\n",
    "    anchor_words = random.sample(list(embeddings_dict_fasttext.keys()), n_anchors)\n",
    "    anchor_vectors = np.vstack([embeddings_dict[word] for word in anchor_words])\n",
    "    \n",
    "    return anchor_vectors, anchor_words\n",
    "\n",
    "def get_relative_representations(embeddings_dict, similarity_measure, n_anchors=300):\n",
    "    \"\"\"Using a given similarity measure and embedding dictionary, calculate the relative representations and return as a matrix where each row is a relative representation vector. Returns shape (n_samples, n_anchors)\"\"\"\n",
    "    relative_representations_dict = dict()\n",
    "    anchor_vectors, anchor_words = get_anchors(embeddings_dict, n_anchors=n_anchors)\n",
    "    \n",
    "    for word in tqdm(embeddings_dict.keys(), desc='Calculating relative representations',  position=0, leave=True):\n",
    "        embedding = embeddings_dict[word]\n",
    "\n",
    "        relative_representation = similarity_measure(embedding, anchor_vectors)\n",
    "        relative_representations_dict[word] = relative_representation\n",
    "\n",
    "    return relative_representations_dict"
   ],
   "metadata": {
    "collapsed": false,
    "ExecuteTime": {
     "end_time": "2024-11-04T11:21:03.040124Z",
     "start_time": "2024-11-04T11:21:03.028122Z"
    }
   },
   "id": "d80b93887e13d55b",
   "outputs": [],
   "execution_count": 215
  },
  {
   "cell_type": "code",
   "source": [
    "def cosine_similarity(word_vector, anchors):\n",
    "    \"\"\"Calculate the cosine similarity between the word vector and each of the anchors. Returns a vector of shape (n_anchors,)\"\"\"\n",
    "    # Normalize the word vector\n",
    "    word_vector_norm = np.linalg.norm(word_vector)\n",
    "    word_vector_normalized = word_vector / word_vector_norm\n",
    "    # Normalize the anchor rows\n",
    "    row_norms = np.linalg.norm(anchors, axis=1)\n",
    "    anchors_normalized = anchors / row_norms[:, np.newaxis]\n",
    "    # Compute the cosine similarities (dot product of normalized word_vector and each row)\n",
    "    cosine_similarities = np.dot(anchors_normalized, word_vector_normalized)\n",
    "    \n",
    "    return 1 - cosine_similarities"
   ],
   "metadata": {
    "collapsed": false,
    "ExecuteTime": {
     "end_time": "2024-11-04T11:21:03.135641Z",
     "start_time": "2024-11-04T11:21:03.121643Z"
    }
   },
   "id": "6c81d90ec2020ce8",
   "outputs": [],
   "execution_count": 216
  },
  {
   "cell_type": "code",
   "source": [
    "n_anchors = 30\n",
    "random.seed(420)\n",
    "relrep_dict_glove = get_relative_representations(embeddings_dict_glove, n_anchors=n_anchors, similarity_measure=cosine_similarity)"
   ],
   "metadata": {
    "collapsed": false,
    "ExecuteTime": {
     "end_time": "2024-11-04T11:21:03.677619Z",
     "start_time": "2024-11-04T11:21:03.222214Z"
    }
   },
   "id": "a9b0006b10649388",
   "outputs": [
    {
     "name": "stderr",
     "output_type": "stream",
     "text": [
      "Calculating relative representations: 100%|██████████| 19316/19316 [00:00<00:00, 44604.98it/s]\n"
     ]
    }
   ],
   "execution_count": 217
  },
  {
   "cell_type": "code",
   "source": "relrep_dict_fasttext = get_relative_representations(embeddings_dict_fasttext, n_anchors=n_anchors, similarity_measure=cosine_similarity)",
   "metadata": {
    "collapsed": false,
    "ExecuteTime": {
     "end_time": "2024-11-04T11:21:04.386877Z",
     "start_time": "2024-11-04T11:21:03.760268Z"
    }
   },
   "id": "348f2fbe337dbebf",
   "outputs": [
    {
     "name": "stderr",
     "output_type": "stream",
     "text": [
      "Calculating relative representations: 100%|██████████| 19316/19316 [00:00<00:00, 31737.45it/s]\n"
     ]
    }
   ],
   "execution_count": 218
  },
  {
   "cell_type": "code",
   "source": [
    "def sample_random_words(words, n):    \n",
    "    random_sample = random.sample(words, n)\n",
    "    return random_sample\n",
    "\n",
    "\n",
    "def create_2d_clusters(cluster_centers, embeddings, n_neighbors=200):\n",
    "    \"\"\"\n",
    "    Find the n_points nearest neighbors in the embeddings matrix for each cluster center and use PCA to reduce the dimensionality of the points to 2.\n",
    "    \n",
    "    Parameters:\n",
    "    cluster_centers (np.array): An array of cluster center vectors.\n",
    "    embeddings (np.array): An array of embedding vectors.\n",
    "    n_neighbors (int): The number of nearest neighbors to find for each cluster center.\n",
    "    \n",
    "    Returns:\n",
    "    pca_results: A numpy array of shape (n_clusters, n_neighbors, 2) containing the two principal components of the nearest neighbors of each of the clusters centers\n",
    "    \"\"\"\n",
    "    pca_results = np.empty(shape=(cluster_centers.shape[0], n_neighbors, 2))\n",
    "    \n",
    "    # Fit the NearestNeighbors model\n",
    "    nn_model = NearestNeighbors(n_neighbors=n_neighbors)\n",
    "    pca = PCA(n_components=2)\n",
    "    embeddings_2d = pca.fit_transform(embeddings)\n",
    "    nn_model.fit(embeddings_2d)\n",
    "    \n",
    "    for i, center in enumerate(cluster_centers):\n",
    "        # Find the n_points nearest neighbors\n",
    "        center_2d = pca.transform(center.reshape((1, -1)))\n",
    "        distances, indices = nn_model.kneighbors(center_2d)\n",
    "        nearest_neighbors = embeddings_2d[indices[0]]\n",
    "                \n",
    "        # Store the results in the dictionary\n",
    "        pca_results[i] = nearest_neighbors\n",
    "    \n",
    "    return pca_results\n",
    "\n",
    "def visualize_clusters(pca_results, name='', y_lim=(None,), x_lim=(None,)):\n",
    "    for points in pca_results:\n",
    "        plt.scatter(points[:, 0], points[:, 1], marker='o', s=2.5)\n",
    "    plt.title(name)\n",
    "    plt.ylim(*y_lim)\n",
    "    plt.xlim(*x_lim)\n",
    "    plt.grid(True)"
   ],
   "metadata": {
    "collapsed": false,
    "ExecuteTime": {
     "end_time": "2024-11-04T11:21:04.495804Z",
     "start_time": "2024-11-04T11:21:04.470792Z"
    }
   },
   "id": "a156db4ed04d5551",
   "outputs": [],
   "execution_count": 219
  },
  {
   "metadata": {
    "ExecuteTime": {
     "end_time": "2024-11-04T11:21:04.588505Z",
     "start_time": "2024-11-04T11:21:04.575691Z"
    }
   },
   "cell_type": "code",
   "source": [
    "n_centers = 5\n",
    "\n",
    "words = list(embeddings_dict_glove.keys())\n",
    "anchor_words = sample_random_words(words, n=n_centers)\n",
    "\n",
    "centers_rel_rep_glove = np.vstack([relrep_dict_glove[word] for word in anchor_words])\n",
    "centers_rel_rep_fasttext = np.vstack([relrep_dict_fasttext[word] for word in anchor_words])\n",
    "centers_o_rep_glove = np.vstack([embeddings_dict_glove[word] for word in anchor_words])\n",
    "centers_o_rep_fasttext = np.vstack([embeddings_dict_fasttext[word] for word in anchor_words])"
   ],
   "id": "f9cecb06f60ce0e0",
   "outputs": [],
   "execution_count": 220
  },
  {
   "metadata": {
    "ExecuteTime": {
     "end_time": "2024-11-04T11:21:04.761739Z",
     "start_time": "2024-11-04T11:21:04.655220Z"
    }
   },
   "cell_type": "code",
   "source": [
    "o_reps_glove = np.vstack(list(embeddings_dict_glove.values()))\n",
    "o_reps_fasttext = np.vstack(list(embeddings_dict_fasttext.values()))\n",
    "rel_reps_glove = np.vstack(list(relrep_dict_glove.values()))\n",
    "rel_reps_fasttext = np.vstack(list(relrep_dict_fasttext.values()))"
   ],
   "id": "5a05b3ffd91082ab",
   "outputs": [],
   "execution_count": 221
  },
  {
   "metadata": {
    "ExecuteTime": {
     "end_time": "2024-11-04T11:21:04.853547Z",
     "start_time": "2024-11-04T11:21:04.841404Z"
    }
   },
   "cell_type": "code",
   "source": "o_reps_glove.shape, o_reps_fasttext.shape, centers_o_rep_glove.shape, centers_rel_rep_glove.shape",
   "id": "3657206f13faaf48",
   "outputs": [
    {
     "data": {
      "text/plain": [
       "((19316, 50), (19316, 300), (5, 50), (5, 30))"
      ]
     },
     "execution_count": 222,
     "metadata": {},
     "output_type": "execute_result"
    }
   ],
   "execution_count": 222
  },
  {
   "metadata": {
    "ExecuteTime": {
     "end_time": "2024-11-04T11:21:09.953477Z",
     "start_time": "2024-11-04T11:21:04.950144Z"
    }
   },
   "cell_type": "code",
   "source": "np.sum(np.abs(1 - rel_reps_glove @ rel_reps_glove.T) < 1e-5)",
   "id": "3b6f823694e0e93f",
   "outputs": [
    {
     "data": {
      "text/plain": [
       "0"
      ]
     },
     "execution_count": 223,
     "metadata": {},
     "output_type": "execute_result"
    }
   ],
   "execution_count": 223
  },
  {
   "metadata": {
    "ExecuteTime": {
     "end_time": "2024-11-04T11:21:10.097115Z",
     "start_time": "2024-11-04T11:21:10.037115Z"
    }
   },
   "cell_type": "code",
   "source": [
    "n_points_visualisation = 100\n",
    "pca_glove_own = create_2d_clusters(centers_o_rep_glove, embeddings=o_reps_glove, n_neighbors=n_points_visualisation)\n",
    "pca_glove_relative = create_2d_clusters(centers_rel_rep_glove, embeddings=rel_reps_glove, n_neighbors=n_points_visualisation)"
   ],
   "id": "7731e8409b45b45d",
   "outputs": [],
   "execution_count": 224
  },
  {
   "metadata": {
    "ExecuteTime": {
     "end_time": "2024-11-04T11:21:10.287266Z",
     "start_time": "2024-11-04T11:21:10.178709Z"
    }
   },
   "cell_type": "code",
   "source": [
    "pca_fasttext_own = create_2d_clusters(centers_o_rep_fasttext, embeddings=o_reps_fasttext, n_neighbors=n_points_visualisation)\n",
    "pca_fasttext_relative = create_2d_clusters(centers_rel_rep_fasttext, embeddings=rel_reps_fasttext, n_neighbors=n_points_visualisation)"
   ],
   "id": "3174cce52b1ac7e0",
   "outputs": [],
   "execution_count": 225
  },
  {
   "cell_type": "code",
   "source": [
    "fig, axs = plt.subplots(nrows=2, ncols=2)\n",
    "plt.sca(axs[0, 0])\n",
    "visualize_clusters(pca_glove_own, f'PCA GloVe {n_points_visualisation}\\nown representations')\n",
    "plt.sca(axs[1, 0])\n",
    "visualize_clusters(pca_fasttext_own, f'PCA Fasttext {n_points_visualisation}\\nown representations')\n",
    "plt.sca(axs[0, 1])\n",
    "visualize_clusters(pca_glove_relative, f'PCA GloVe {n_points_visualisation}\\nrelative representations')\n",
    "plt.sca(axs[1, 1])\n",
    "visualize_clusters(pca_fasttext_relative, f'PCA Fasttext {n_points_visualisation}\\nrelative representations')\n",
    "\n",
    "plt.tight_layout()"
   ],
   "metadata": {
    "collapsed": false,
    "ExecuteTime": {
     "end_time": "2024-11-04T11:21:11.261251Z",
     "start_time": "2024-11-04T11:21:10.384461Z"
    }
   },
   "id": "116829c72ec8b853",
   "outputs": [
    {
     "data": {
      "text/plain": [
       "<Figure size 640x480 with 4 Axes>"
      ],
      "image/png": "[encoded data removed]"
     },
     "metadata": {},
     "output_type": "display_data"
    }
   ],
   "execution_count": 226
  },
  {
   "cell_type": "code",
   "source": [
    "def jaccard_similarity(vector, matrix):\n",
    "    \"\"\"\n",
    "    Calculate the Jaccard similarity between the vector and each of the rows in the matrix.\n",
    "    \n",
    "    Parameters:\n",
    "    vector (np.array): A binary vector.\n",
    "    matrix (np.array): A binary matrix with each row to be compared to the vector.\n",
    "    \n",
    "    Returns:\n",
    "    np.array: A vector of Jaccard similarities of shape (n_anchors,).\n",
    "    \"\"\"\n",
    "    # Ensure binary values\n",
    "    vector = np.asarray(vector, dtype=bool)\n",
    "    matrix = np.asarray(matrix, dtype=bool)\n",
    "    \n",
    "    # Calculate intersection and union\n",
    "    intersection = np.logical_and(matrix, vector).sum(axis=1)\n",
    "    union = np.logical_or(matrix, vector).sum(axis=1)\n",
    "    \n",
    "    # Handle the case of zero union (avoid division by zero)\n",
    "    union[union == 0] = 1\n",
    "    \n",
    "    # Calculate Jaccard similarity\n",
    "    jaccard_similarities = intersection / union\n",
    "    \n",
    "    return jaccard_similarities\n",
    "\n",
    "def mean_reciprocal_rank(query_vector, matrix):\n",
    "    \"\"\"\n",
    "    Calculate the Mean Reciprocal Rank (MRR) given a query vector and a matrix.\n",
    "    \n",
    "    Parameters:\n",
    "    query_vector (np.array): A vector representing the query.\n",
    "    matrix (np.array): A matrix where each row represents a document.\n",
    "    \n",
    "    Returns:\n",
    "    float: The MRR score.\n",
    "    \"\"\"\n",
    "    # Compute relevance scores as dot products between the query_vector and each row in the matrix\n",
    "    relevance_scores = np.dot(matrix, query_vector)\n",
    "    \n",
    "    # Get the ranks of the documents sorted by relevance (highest relevance first)\n",
    "    sorted_indices = np.argsort(relevance_scores)[::-1]\n",
    "    \n",
    "    # Find the rank of the first relevant document\n",
    "    first_relevant_rank = np.where(sorted_indices == 0)[0][0] + 1  # Adding 1 to make rank 1-based\n",
    "    \n",
    "    # Calculate the reciprocal rank\n",
    "    reciprocal_rank = 1 / first_relevant_rank\n",
    "    \n",
    "    return reciprocal_rank"
   ],
   "metadata": {
    "collapsed": false,
    "ExecuteTime": {
     "end_time": "2024-11-04T11:21:11.370911Z",
     "start_time": "2024-11-04T11:21:11.356873Z"
    }
   },
   "id": "541066a020d8152f",
   "outputs": [],
   "execution_count": 227
  },
  {
   "cell_type": "code",
   "source": [
    "def calculate_metrics(repr1, repr2, name1, name2, dict1, dict2, K=10):\n",
    "    metrics_dict = defaultdict(lambda: [])\n",
    "    knn1 = NearestNeighbors(n_neighbors=K)\n",
    "    knn2 = NearestNeighbors(n_neighbors=K)\n",
    "    knn1.fit(repr1)\n",
    "    knn2.fit(repr2)\n",
    "    \n",
    "    nearest_neighbors1 = knn2.kneighbors(repr1, return_distance=False)\n",
    "    for i, vect in tqdm(enumerate(repr1), desc=f'Calculating MRR for {name1}', leave=True, position=0, total=len(repr1)):\n",
    "        metrics_dict[f'{name1}_MRR'].append(mean_reciprocal_rank(vect, repr2[nearest_neighbors1[i]]))\n",
    "    nearest_neighbors1 = knn2.kneighbors(repr1, return_distance=False)\n",
    "    for i, vect in tqdm(enumerate(repr2), desc=f'Calculating MRR for {name1}', leave=True, position=0, total=len(repr2)):\n",
    "        metrics_dict[f'{name2}_MRR'].append(mean_reciprocal_rank(vect, repr1[nearest_neighbors1[i]]))\n",
    "    # \n",
    "    # for word in dict1.keys():\n",
    "    #     cos_sim = np.dot(dict1[word], dict2[word])\n",
    "    #     metrics_dict[f'cosine_similarity_glove_fasttext'].append(cos_sim)\n",
    "    #     metrics_dict[f'cosine_similarity_fasttext_glove'].append(cos_sim)\n",
    "    # \n",
    "    metrics_mean = {name: np.mean(list_) for name, list_ in metrics_dict.items()}\n",
    "    return metrics_mean"
   ],
   "metadata": {
    "collapsed": false,
    "ExecuteTime": {
     "end_time": "2024-11-04T10:56:25.160248Z",
     "start_time": "2024-11-04T10:56:25.146281Z"
    }
   },
   "id": "5b425cdf0f2dfb15",
   "outputs": [],
   "execution_count": 74
  },
  {
   "cell_type": "code",
   "source": "calculate_metrics(repr1=rel_reps_glove, repr2=rel_reps_fasttext, name1='glove', name2='fasttext', dict1=embeddings_dict_glove, dict2=embeddings_dict_fasttext)",
   "metadata": {
    "collapsed": false,
    "ExecuteTime": {
     "end_time": "2024-11-04T10:56:32.054788Z",
     "start_time": "2024-11-04T10:56:26.177658Z"
    }
   },
   "id": "c8f532e150b0e5b0",
   "outputs": [
    {
     "name": "stderr",
     "output_type": "stream",
     "text": [
      "Calculating MRR for glove: 100%|██████████| 19316/19316 [00:00<00:00, 67842.39it/s]\n",
      "Calculating MRR for glove: 100%|██████████| 19316/19316 [00:00<00:00, 69152.95it/s]\n"
     ]
    },
    {
     "data": {
      "text/plain": [
       "{'glove_MRR': 0.19960941993971607, 'fasttext_MRR': 0.38914122924658234}"
      ]
     },
     "execution_count": 75,
     "metadata": {},
     "output_type": "execute_result"
    }
   ],
   "execution_count": 75
  },
  {
   "cell_type": "code",
   "outputs": [],
   "source": [],
   "metadata": {
    "collapsed": false,
    "ExecuteTime": {
     "end_time": "2024-11-04T10:21:54.967580100Z",
     "start_time": "2024-07-16T14:55:39.016359Z"
    }
   },
   "id": "2352c7b232903359",
   "execution_count": 28
  }
 ],
 "metadata": {
  "kernelspec": {
   "display_name": "Python 3",
   "language": "python",
   "name": "python3"
  },
  "language_info": {
   "codemirror_mode": {
    "name": "ipython",
    "version": 2
   },
   "file_extension": ".py",
   "mimetype": "text/x-python",
   "name": "python",
   "nbconvert_exporter": "python",
   "pygments_lexer": "ipython2",
   "version": "2.7.6"
  }
 },
 "nbformat": 4,
 "nbformat_minor": 5
}
