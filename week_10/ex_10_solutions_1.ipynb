{
 "cells": [
  {
   "cell_type": "markdown",
   "id": "c2d8574d7334b57",
   "metadata": {},
   "source": [
    "# Week 10 Relative Representations on text embeddings\n",
    "\n",
    "In this notebook we attempt to reproduce some results from the paper \"RELATIVE REPRESENTATIONS ENABLE ZERO-SHOT LATENT SPACE COMMUNICATION\" found at 'https://arxiv.org/abs/2209.15430'.\n",
    "The paper shows how representing ones data using a distance measure to a selection of points leads to an ability to use models trained on one dataset on another. Here we will show how GloVe and Fasttext vectors embedded according to the method are much more similar than the original embeddings.\n"
   ]
  },
  {
   "cell_type": "markdown",
   "id": "8211c9b027ccd4dc",
   "metadata": {},
   "source": [
    "### Exercise 1\n",
    "\n",
    "**1. In you own words, what are relative representations and how do we construct them?**\n",
    "\n",
    "\n",
    "**2. Explain why you would expect this method to allow for communication between latent spaces.**\n",
    "- How should we choose the anchors in each space?\n",
    "    - We should chose points that represent similar objects in each space in order to ensure that the representations encode similar information. For text that would be the same or similar words.\n",
    "\n",
    "**3. How would you measure whether two latent spaces have similar representations?**\n",
    "\n",
    "Using similarity metrics such as cosine similarity and mean reciprocal rank.\n"
   ]
  },
  {
   "cell_type": "code",
   "id": "initial_id",
   "metadata": {
    "ExecuteTime": {
     "end_time": "2024-11-08T08:41:41.621327Z",
     "start_time": "2024-11-08T08:41:34.794178Z"
    }
   },
   "source": [
    "import os\n",
    "import pickle\n",
    "import random\n",
    "import numpy as np\n",
    "import matplotlib.pyplot as plt\n",
    "from os.path import join\n",
    "from tqdm.notebook import tqdm\n",
    "\n",
    "from collections import defaultdict\n",
    "from sklearn.decomposition import PCA\n",
    "from sklearn.neighbors import NearestNeighbors, KNeighborsClassifier"
   ],
   "outputs": [],
   "execution_count": 1
  },
  {
   "cell_type": "markdown",
   "id": "cd1ff3324dedccc0",
   "metadata": {
    "collapsed": false,
    "jupyter": {
     "outputs_hidden": false
    }
   },
   "source": [
    "### Exercise 2 Loading the data\n",
    "**1. $\\star$ For those interested in doing the whole thing from scratch, download the following:**\n",
    "\n",
    "\n",
    "For fasttext we want the `1. wiki-news-300d-1M.vec.zip: 1 million word vectors trained on Wikipedia 2017, UMBC webbase corpus and statmt.org news dataset (16B tokens).` found at\n",
    "\n",
    "`https://fasttext.cc/docs/en/english-vectors.html`\n",
    "\n",
    "For GloVe we want the `Wikipedia 2014 + Gigaword 5 (6B tokens, 400K vocab, uncased, 50d, 100d, 200d, & 300d vectors, 822 MB download): glove.6B.zip` found at \n",
    "\n",
    "`https://nlp.stanford.edu/projects/glove/`"
   ]
  },
  {
   "cell_type": "code",
   "execution_count": null,
   "id": "d0939ae7d32b4e37",
   "metadata": {},
   "outputs": [],
   "source": [
    "def load_vectors_from_file(filename, n_words, encoding='utf-8', specified_word_set=None):\n",
    "    p_bar = tqdm(total=n_words, desc='Loading word vectors', position=0, leave=True)\n",
    "    embeddings_dict = {}\n",
    "    with open(filename, 'r', encoding=encoding) as f:\n",
    "        for line in f:\n",
    "            values = line.split()\n",
    "            word = values[0]\n",
    "            if specified_word_set is None or word in specified_word_set:\n",
    "                vector = np.asarray(values[1:], \"float32\")\n",
    "                if len(vector) > 1:\n",
    "                    embeddings_dict[word] = vector\n",
    "                    p_bar.update(1)\n",
    "                    if len(embeddings_dict) == n_words:\n",
    "                        break\n",
    "        else:\n",
    "            print(\"Reached end of file!\")\n",
    "    print(f'Loaded {len(embeddings_dict)} word vectors')\n",
    "    embeddings_dict = dict(sorted(embeddings_dict.items()))\n",
    "    \n",
    "    all_vectors = np.array(list(embeddings_dict.values()))\n",
    "    normalisation = all_vectors.mean(axis=0)\n",
    "    all_vectors -= normalisation\n",
    "    embeddings_dict = {word: vector for word, vector in zip(embeddings_dict.keys(), all_vectors)}\n",
    "    \n",
    "    return embeddings_dict"
   ]
  },
  {
   "cell_type": "code",
   "execution_count": null,
   "id": "6f42187ad2645ff4",
   "metadata": {},
   "outputs": [],
   "source": [
    "n_words = 40_000\n",
    "filename_glove = \"glove.6B.300d.txt\"\n",
    "embeddings_dict_glove = load_vectors_from_file(filename_glove, n_words=n_words)"
   ]
  },
  {
   "cell_type": "code",
   "execution_count": null,
   "id": "1a8b0e0d95fbc354",
   "metadata": {},
   "outputs": [],
   "source": [
    "filename_fasttext = 'wiki-news-300d-1M.vec'\n",
    "embeddings_dict_fasttext = load_vectors_from_file(filename_fasttext, n_words=n_words, specified_word_set=None)"
   ]
  },
  {
   "cell_type": "markdown",
   "id": "1441b6cb44ed1e3b",
   "metadata": {},
   "source": [
    "**2. Create a function which takes two dictionaries and removes all keys that do not occur in both**\n"
   ]
  },
  {
   "cell_type": "code",
   "execution_count": null,
   "id": "92f102b29728d674",
   "metadata": {},
   "outputs": [],
   "source": [
    "def ensure_intersecting_keys(dict1, dict2):\n",
    "    \"\"\"\n",
    "    Modifies the input dictionaries to only keep keys that exist in both dictionaries.\n",
    "    returns nothing\n",
    "    \n",
    "    Parameters:\n",
    "    dict1 (dict): The first dictionary to be modified.\n",
    "    dict2 (dict): The second dictionary to be modified.\n",
    "    \"\"\"\n",
    "    # Find the intersection of the keys\n",
    "    common_keys = set(dict1.keys()).intersection(set(dict2.keys()))\n",
    "    \n",
    "    # Remove keys from dict1 that are not in the intersection\n",
    "    keys_to_remove = set(dict1.keys()) - common_keys\n",
    "    for key in keys_to_remove:\n",
    "        del dict1[key]\n",
    "    print(f'Removed {len(keys_to_remove)}, leaving {len(dict1.keys())}')\n",
    "\n",
    "    # Remove keys from dict2 that are not in the intersection\n",
    "    keys_to_remove = set(dict2.keys()) - common_keys\n",
    "    for key in keys_to_remove:\n",
    "        del dict2[key]"
   ]
  },
  {
   "cell_type": "markdown",
   "id": "7e426bb867546b31",
   "metadata": {},
   "source": [
    "*If you chose not to download the original data here are two dictionaries to test on:*"
   ]
  },
  {
   "cell_type": "code",
   "execution_count": null,
   "id": "393e27769aee4e7b",
   "metadata": {},
   "outputs": [],
   "source": [
    "dict1 = {\n",
    "    'dragon': 'fire',\n",
    "    'unicorn': 'magic',\n",
    "    'phoenix': 'rebirth'\n",
    "}\n",
    "\n",
    "dict2 = {\n",
    "    'unicorn': 'rainbow',\n",
    "    'phoenix': 'ashes',\n",
    "    'mermaid': 'ocean'\n",
    "}\n",
    "ensure_intersecting_keys(dict1, dict2)\n",
    "print(dict1)\n",
    "print(dict2)"
   ]
  },
  {
   "cell_type": "markdown",
   "id": "3b41c5ab64b57d39",
   "metadata": {},
   "source": [
    "*Only run this if you have downloaded the data*"
   ]
  },
  {
   "cell_type": "code",
   "execution_count": 88,
   "id": "cff62ff0328abcc4",
   "metadata": {
    "ExecuteTime": {
     "end_time": "2024-11-04T14:33:58.508749Z",
     "start_time": "2024-11-04T14:33:58.409687Z"
    },
    "collapsed": false,
    "jupyter": {
     "outputs_hidden": false
    }
   },
   "outputs": [
    {
     "name": "stdout",
     "output_type": "stream",
     "text": [
      "Removed 17994, leaving 22006\n"
     ]
    }
   ],
   "source": [
    "ensure_intersecting_keys(embeddings_dict_glove, embeddings_dict_fasttext)"
   ]
  },
  {
   "cell_type": "markdown",
   "id": "cfc54d7a1ec109c0",
   "metadata": {},
   "source": [
    "Define the filenames for saving the dictionaries"
   ]
  },
  {
   "cell_type": "code",
   "id": "93b627e4283cdfc",
   "metadata": {
    "ExecuteTime": {
     "end_time": "2024-11-08T08:41:41.652114Z",
     "start_time": "2024-11-08T08:41:41.641061Z"
    }
   },
   "source": [
    "filename_glove_pickle = \"data/Glove_ex_10.pkl\"\n",
    "filename_fasttext_pickle = \"data/FastText_ex_10.pkl\"\n",
    "os.makedirs(\"data\", exist_ok=True)"
   ],
   "outputs": [],
   "execution_count": 2
  },
  {
   "cell_type": "markdown",
   "id": "680e58cb5f107228",
   "metadata": {},
   "source": [
    "**3. $\\star$ If you downloaded and ensured non-intersecting dictionaries, save them here:**\n"
   ]
  },
  {
   "cell_type": "code",
   "execution_count": null,
   "id": "b8a25cfda25a655c",
   "metadata": {},
   "outputs": [],
   "source": [
    "with open(filename_glove_pickle, \"wb\") as f:\n",
    "    pickle.dump(embeddings_dict_glove, f)\n",
    "\n",
    "with open(filename_fasttext_pickle, \"wb\") as f:\n",
    "    pickle.dump(embeddings_dict_fasttext, f)"
   ]
  },
  {
   "cell_type": "markdown",
   "id": "515b0521f30eace4",
   "metadata": {},
   "source": [
    "**4. Load two dictionaries of vectors that have been processed**"
   ]
  },
  {
   "cell_type": "code",
   "execution_count": 3,
   "id": "64411e997f8bc262",
   "metadata": {
    "ExecuteTime": {
     "end_time": "2024-11-07T13:32:54.118472Z",
     "start_time": "2024-11-07T13:32:53.880357Z"
    }
   },
   "outputs": [],
   "source": [
    "with open(filename_glove_pickle, \"rb\") as f:\n",
    "    embeddings_dict_glove = pickle.load(f)\n",
    "\n",
    "with open(filename_fasttext_pickle, \"rb\") as f:\n",
    "    embeddings_dict_fasttext = pickle.load(f)"
   ]
  },
  {
   "cell_type": "markdown",
   "id": "c57b54842611ce49",
   "metadata": {},
   "source": [
    "**5. Look at what the dictionaries contain in order to prepare for the next exercise**"
   ]
  },
  {
   "cell_type": "code",
   "execution_count": 7,
   "id": "2d384a700efeb766",
   "metadata": {
    "ExecuteTime": {
     "end_time": "2024-11-07T13:32:55.774527Z",
     "start_time": "2024-11-07T13:32:55.752525Z"
    }
   },
   "outputs": [
    {
     "name": "stdout",
     "output_type": "stream",
     "text": [
      "('!', array([-2.02312946e-01,  1.10091045e-02, -7.40323737e-02,  2.30753962e-02,\n",
      "        1.65372521e-01,  2.41831262e-02, -1.26843592e-02,  1.97731517e-02,\n",
      "        1.78594571e-02,  6.78401440e-02,  6.44465163e-02, -4.95959967e-02,\n",
      "        4.96679991e-02, -3.12011130e-02,  5.67564219e-02, -4.16661464e-02,\n",
      "       -4.01674286e-02,  5.20357341e-02,  2.15226963e-01, -1.51921257e-01,\n",
      "        9.32131186e-02, -1.89808160e-01,  8.89488235e-02, -1.91286914e-02,\n",
      "       -2.32523814e-01,  5.08712195e-02, -1.16502848e-02, -1.14664018e-01,\n",
      "        8.77829492e-02, -2.21889280e-03, -4.56466675e-02,  3.42972800e-02,\n",
      "        2.42957473e-01,  2.16234326e-02, -6.73088580e-02,  1.74076706e-02,\n",
      "       -3.80142555e-02,  2.26889521e-01,  3.35754119e-02, -6.00717776e-03,\n",
      "        1.53372020e-01, -1.88182928e-02,  7.26703256e-02,  2.10880432e-02,\n",
      "        1.08812667e-01, -1.03012651e-01,  5.06282076e-02, -4.50229719e-02,\n",
      "       -3.28092054e-02, -9.86004323e-02, -3.39931622e-02, -3.23203653e-02,\n",
      "        1.27322257e-01, -5.08345887e-02,  3.28514054e-02,  2.69502513e-02,\n",
      "        9.81485322e-02,  3.78050692e-02,  3.32712056e-03,  5.69020398e-04,\n",
      "        7.39496425e-02, -4.87512648e-02, -8.86567980e-02,  1.77121889e-02,\n",
      "        1.51205231e-02,  7.30725378e-03, -6.85228361e-03,  1.08930627e-02,\n",
      "       -4.21649078e-03, -4.01162133e-02, -1.00939125e-01,  4.49859276e-02,\n",
      "       -4.64172848e-02,  2.18545999e-02,  3.23347002e-02,  3.70802768e-02,\n",
      "       -2.19486021e-02, -3.39709707e-02, -1.15251746e-02,  8.75364468e-02,\n",
      "        5.03110290e-02,  1.92160308e-02, -6.60232035e-03,  3.30809802e-02,\n",
      "       -1.81279648e-02,  1.19740449e-01,  6.76863566e-02,  4.66935188e-02,\n",
      "       -7.75009394e-02, -1.17185473e-01,  6.60508424e-02,  4.14719656e-02,\n",
      "       -7.85723329e-02, -1.29319122e-02, -6.38730526e-02,  5.87177537e-02,\n",
      "        1.08144162e-02,  6.67915866e-02, -1.24844067e-01, -3.49739790e-02,\n",
      "        2.71019638e-02,  9.38270148e-03,  6.11552969e-02,  4.64104824e-02,\n",
      "       -4.35372591e-02,  3.45835742e-03,  5.52228242e-02,  3.73738371e-02,\n",
      "       -2.07740217e-01,  7.29007572e-02,  1.75299987e-01,  9.67890695e-02,\n",
      "        1.10791296e-01,  7.53261968e-02, -1.71424355e-02, -1.10900542e-02,\n",
      "        7.43323416e-02,  2.83534732e-02,  4.37445492e-02, -2.04603165e-01,\n",
      "        1.54358987e-02, -2.20554154e-02, -6.89734295e-02, -8.17175880e-02,\n",
      "        2.14454420e-02, -1.20300911e-01,  1.61523037e-02,  2.00764723e-02,\n",
      "       -7.94879273e-02,  6.47670478e-02,  3.47234681e-02,  5.00126556e-02,\n",
      "       -8.20338428e-02, -1.38188535e-02,  2.36684345e-02, -9.34727639e-02,\n",
      "       -5.14900088e-02, -2.73171254e-02,  3.48794535e-02,  7.64834136e-02,\n",
      "        1.09208077e-02,  5.66605572e-03,  2.91616321e-02,  3.39269638e-02,\n",
      "        2.85127796e-02, -1.82957388e-02,  1.38802186e-01,  1.05115682e-01,\n",
      "       -7.17311278e-02, -2.77055353e-02,  6.50927275e-02, -5.17847575e-03,\n",
      "       -1.77895986e-02,  5.72410412e-04,  5.81918582e-02,  7.67455809e-03,\n",
      "       -4.71779555e-02, -7.95444623e-02,  1.13997653e-01,  1.69728231e-02,\n",
      "        2.39831693e-02, -5.32909743e-02, -3.42500210e-02,  1.03645861e-01,\n",
      "       -1.73375547e-01, -1.67240389e-03,  1.83511823e-01,  7.07820728e-02,\n",
      "        3.09929121e-02, -4.71409410e-02, -1.61516398e-01, -2.82770377e-02,\n",
      "       -4.03559282e-02,  7.02706799e-02, -2.73595124e-01, -1.34251229e-02,\n",
      "       -2.06588000e-01, -2.10094005e-02,  1.17017880e-01,  2.23322883e-02,\n",
      "       -2.55227145e-02,  4.60613221e-02,  1.37715368e-02,  1.77727100e-02,\n",
      "        1.75957158e-02, -1.54992968e-01,  4.18812316e-03, -5.07010967e-02,\n",
      "        1.22855112e-01, -8.98694247e-03,  6.82826340e-02,  1.39678186e-02,\n",
      "        3.30934441e-03,  3.39902267e-02, -6.24829829e-02,  1.85461231e-02,\n",
      "       -2.42197998e-02, -3.91560700e-03,  1.89226359e-01,  3.57846990e-02,\n",
      "        3.33546065e-02, -7.04907626e-02, -6.46264181e-02, -3.64576504e-02,\n",
      "        7.92415142e-02,  9.08171013e-02, -4.99244258e-02, -2.64734738e-02,\n",
      "       -9.79689043e-03,  1.37221320e-02,  2.35144608e-03, -3.95341292e-02,\n",
      "       -9.26741511e-02,  8.86828173e-03,  7.56814331e-03,  8.83823931e-02,\n",
      "       -1.56339809e-01, -4.21444587e-02, -1.22448154e-01,  1.07155234e-01,\n",
      "        1.09139241e-01, -1.91609189e-03, -8.51691328e-03,  1.18310899e-02,\n",
      "       -1.39616311e-01,  9.96234491e-02,  7.88152665e-02, -1.81185510e-02,\n",
      "       -1.00305276e-02, -1.14674941e-02,  5.90352900e-03, -8.89991000e-02,\n",
      "        1.30497247e-01,  3.80839668e-02,  4.48185625e-03,  4.18999530e-02,\n",
      "        4.58907709e-02, -6.19033538e-02,  3.20936143e-02,  6.90122396e-02,\n",
      "        4.57814075e-02,  2.24878341e-02,  7.22445250e-02, -2.41021253e-02,\n",
      "        3.69028263e-02,  4.86445837e-02, -3.00460346e-02,  6.86649904e-02,\n",
      "       -5.83739281e-02, -2.95681268e-01,  7.58569166e-02, -5.24309091e-03,\n",
      "       -3.66604477e-02,  3.54771204e-02, -1.15000151e-01, -6.90854527e-03,\n",
      "       -9.54727754e-02,  4.46675811e-03, -3.09664104e-02,  5.50781079e-02,\n",
      "        1.37316063e-04, -1.48882149e-02,  1.05481697e-02, -8.95250887e-02,\n",
      "       -2.42508054e-02, -1.25285294e-02, -1.21869873e-02, -1.14157107e-02,\n",
      "        8.82722065e-02,  3.75133902e-02,  4.30017263e-02,  6.45433068e-02,\n",
      "       -7.79636353e-02,  6.11888394e-02,  1.80049725e-02,  9.39994305e-03,\n",
      "       -1.29382759e-01,  4.01639454e-02,  3.97384614e-02,  1.10524781e-02,\n",
      "        1.19741365e-01,  2.58914456e-02, -2.08269153e-02, -1.25526544e-02,\n",
      "       -3.78370695e-02,  2.29522455e-02,  1.35034487e-01, -5.51616251e-02,\n",
      "        1.62170604e-02,  9.26818177e-02,  1.01028122e-01,  6.40461743e-02,\n",
      "       -1.86817963e-02,  2.43621692e-02,  1.02227731e-02, -9.86958519e-02,\n",
      "        7.69619830e-03,  1.49327323e-01,  9.16412324e-02, -7.67001957e-02],\n",
      "      dtype=float32))\n"
     ]
    }
   ],
   "source": [
    "for el in embeddings_dict_fasttext.items():\n",
    "    print(el)\n",
    "    break"
   ]
  },
  {
   "cell_type": "code",
   "execution_count": 8,
   "id": "b5d7663b67bac1ed",
   "metadata": {
    "ExecuteTime": {
     "end_time": "2024-11-07T13:32:57.851678Z",
     "start_time": "2024-11-07T13:32:57.831680Z"
    }
   },
   "outputs": [
    {
     "name": "stdout",
     "output_type": "stream",
     "text": [
      "('!', array([ 2.61237264e-01, -4.82879817e-01,  8.18593800e-02, -1.07198052e-01,\n",
      "       -5.90639353e-01,  1.49856374e-01, -3.96568805e-01,  1.51631802e-01,\n",
      "       -2.02242717e-01, -3.92889321e-01,  2.64457077e-01, -2.20630601e-01,\n",
      "       -3.32879633e-01,  2.03853339e-01,  4.12204027e-01,  1.55837446e-01,\n",
      "        1.80050880e-02,  4.39321965e-01,  2.88582474e-01,  7.41086364e-01,\n",
      "        2.49608904e-01,  5.07218719e-01, -1.98242173e-01,  4.64413725e-02,\n",
      "        1.14665627e-01,  2.94220924e-01,  1.88098922e-01, -5.24503410e-01,\n",
      "        3.56868088e-01, -2.61206329e-01, -5.01221478e-01, -2.99371988e-01,\n",
      "       -3.90922159e-01, -2.26839021e-01, -8.42760921e-01, -1.42060325e-01,\n",
      "       -2.28684127e-01, -2.96801090e-01, -4.70635891e-01,  3.30578268e-01,\n",
      "       -6.87941238e-02, -3.40410322e-01, -3.88239741e-01,  4.44994688e-01,\n",
      "       -2.41290808e-01, -1.42209828e-01,  7.23835230e-01, -1.83587372e-01,\n",
      "        1.48445398e-01, -2.19886616e-01, -2.03425847e-02, -1.75478160e-01,\n",
      "        1.05588078e-01, -2.73427498e-02, -6.71226978e-01,  4.12266880e-01,\n",
      "        4.37842965e-01,  6.61118850e-02,  4.69961137e-01, -8.67853940e-01,\n",
      "        6.59935996e-02,  1.23190638e-02, -1.11991622e-01,  2.29961127e-01,\n",
      "       -1.98337227e-01,  2.10652296e-02,  4.89156067e-01, -1.30868733e-01,\n",
      "       -6.86254278e-02, -4.08119678e-01, -6.46315217e-02, -1.53181255e-01,\n",
      "       -1.14962675e-01,  4.75234807e-01,  1.91837221e-01, -1.50964528e-01,\n",
      "        5.11731446e-01,  3.35960925e-01,  2.25824844e-02, -2.64141411e-01,\n",
      "       -1.15089387e-01, -8.06565061e-02,  7.77433753e-01, -1.90784261e-01,\n",
      "       -1.92985266e-01,  9.60273147e-02, -2.33590707e-01,  6.27514780e-01,\n",
      "       -3.27368677e-01, -7.94200003e-01,  2.65712142e-02, -4.60781515e-01,\n",
      "        3.06303762e-02, -6.34756505e-01, -2.87019685e-02,  2.77586520e-01,\n",
      "       -7.65498221e-01,  2.28486925e-01,  3.31964314e-01, -4.37188596e-01,\n",
      "       -1.47083282e-01, -2.86555216e-02,  2.96030372e-01,  5.70178032e-01,\n",
      "        4.10510808e-01, -1.10167992e+00, -7.92082250e-02,  1.96647197e-01,\n",
      "        8.55473280e-02, -1.48724675e-01, -7.17159733e-02, -4.52932641e-02,\n",
      "        1.42632082e-01, -2.06468463e-01,  6.70331359e-01, -3.64804894e-01,\n",
      "       -2.20507026e-01,  2.30631962e-01,  2.44334508e-02, -3.35555375e-01,\n",
      "        2.73462623e-01, -6.77807093e-01,  2.58250326e-01,  3.59844327e-01,\n",
      "        1.54020846e-01, -2.92223066e-01,  2.55815476e-01,  4.63493884e-01,\n",
      "       -4.09327209e-01,  1.15366474e-01, -5.05781531e-01, -4.27579969e-01,\n",
      "       -7.90155530e-02,  2.18841523e-01, -1.59475598e-02,  1.09070852e-01,\n",
      "       -1.72452509e-01, -3.02475877e-02,  2.63176829e-01,  2.70565391e-01,\n",
      "       -2.37193704e-01,  1.87208373e-02, -2.15394393e-01,  1.43922955e-01,\n",
      "        9.18331668e-02, -2.65189171e-01, -7.26330504e-02,  5.25498450e-01,\n",
      "       -7.05695227e-02,  8.87250602e-02, -3.94200623e-01,  5.39932728e-01,\n",
      "        2.81816304e-01, -1.89366341e-01,  5.43779731e-01, -7.61107504e-02,\n",
      "        3.96210223e-01,  3.16279888e-01, -1.18266903e-01, -8.62144649e-01,\n",
      "        2.90326118e-01,  3.31529528e-01,  1.00821137e-01,  2.98629701e-03,\n",
      "       -8.20428550e-01,  3.59317511e-01,  6.47364110e-02,  2.32188731e-01,\n",
      "       -2.55648166e-01,  6.83786124e-02,  3.36417407e-01,  8.20325196e-01,\n",
      "       -3.06810051e-01,  1.33601427e-01,  3.86258602e-01,  3.09883296e-01,\n",
      "       -1.49412602e-01,  2.82926321e-01,  4.10464317e-01,  4.01179194e-02,\n",
      "        4.05006558e-01, -3.40619117e-01,  6.65410697e-01, -6.70688748e-01,\n",
      "       -8.14003050e-02, -6.70170248e-01,  1.34270936e-01,  2.69005418e-01,\n",
      "        4.51333731e-01,  2.64853090e-01,  4.26917225e-01,  3.78478080e-01,\n",
      "        5.51844388e-02,  3.10396850e-01, -4.06904221e-01,  2.48597071e-01,\n",
      "       -4.41936404e-02, -2.69988209e-01,  9.87213105e-02, -3.04135829e-01,\n",
      "        1.62840509e+00,  7.45935559e-01,  5.74180424e-01,  5.83895028e-01,\n",
      "       -5.05980849e-01,  1.16245613e-01, -3.51875834e-03,  2.45381027e-01,\n",
      "        2.16545537e-04, -8.24334323e-01, -1.05806386e+00, -4.52836752e-01,\n",
      "       -3.08808625e-01,  2.19384551e-01, -6.47636056e-02,  2.15217024e-01,\n",
      "       -4.65662740e-02,  2.23610535e-01,  1.12568431e-01, -6.33073375e-02,\n",
      "       -3.20451289e-01,  3.98555249e-01,  2.18078464e-01, -5.11926293e-01,\n",
      "        1.47251561e-01, -1.46253228e-01,  4.01643306e-01,  2.59420514e-01,\n",
      "       -3.00609112e-01, -4.92834955e-01, -3.45200486e-03, -4.02225822e-01,\n",
      "        8.16106498e-02, -6.68554962e-01,  4.49769735e-01, -4.56656486e-01,\n",
      "       -3.55876118e-01, -5.69633782e-01,  1.31091923e-01, -3.14937532e-01,\n",
      "       -2.78762668e-01,  5.36167473e-02, -9.35125872e-02,  3.72584164e-01,\n",
      "        6.88130409e-02, -3.87913138e-01, -2.51452893e-01,  2.64216840e-01,\n",
      "        5.19275844e-01, -2.41259843e-01,  6.70276701e-01, -1.55923799e-01,\n",
      "       -3.72972429e-01,  4.71326202e-01,  7.45938361e-01,  8.17734376e-02,\n",
      "        1.29838794e-01, -2.66380936e-01,  7.97233582e-02, -6.71881497e-01,\n",
      "        2.91061461e-01, -1.40031505e+00,  6.70332760e-02,  1.14813074e-01,\n",
      "       -2.96328753e-01,  4.33937833e-03, -6.23923182e-01, -2.27612048e-01,\n",
      "       -2.01204240e-01,  3.31923306e-01, -1.66582033e-01, -6.14424109e-01,\n",
      "       -1.67421028e-02, -8.47762644e-01, -4.98936921e-01,  1.29306674e-01,\n",
      "       -1.46607697e+00,  5.72408698e-02,  5.24215624e-02, -2.10964054e-01,\n",
      "       -3.46989095e-01, -3.79128829e-02, -2.55177200e-01, -3.02573264e-01,\n",
      "       -1.09661981e-01,  7.80680537e-01,  7.30779469e-02, -4.37766790e-01,\n",
      "       -4.07501727e-01,  8.49190727e-02, -1.14369050e-01,  2.20583990e-01,\n",
      "       -4.42701519e-01, -2.55572140e-01,  4.48804908e-02, -4.35910702e-01,\n",
      "        1.12870052e-01,  1.04501054e-01,  1.77069619e-01,  6.03368998e-01],\n",
      "      dtype=float32))\n"
     ]
    }
   ],
   "source": [
    "for el in embeddings_dict_glove.items():\n",
    "    print(el)\n",
    "    break"
   ]
  },
  {
   "cell_type": "markdown",
   "id": "149daa778e0294c1",
   "metadata": {},
   "source": [
    "## Exercise 3 Creating the relative representations\n",
    "*In the paper they chose 300 anchors for the relative representations, so we suggest you do so too.*\n",
    "\n",
    "**1. Create a function that takes an embedding dictionary and creates a dictionary of the same words but using relative representations. Also return the anchor words in order to ensure that the relative representations are of parallel words**\n"
   ]
  },
  {
   "cell_type": "code",
   "execution_count": 7,
   "id": "d80b93887e13d55b",
   "metadata": {
    "ExecuteTime": {
     "end_time": "2024-11-07T13:33:10.666903Z",
     "start_time": "2024-11-07T13:33:10.653868Z"
    },
    "collapsed": false,
    "jupyter": {
     "outputs_hidden": false
    }
   },
   "outputs": [],
   "source": [
    "def get_anchors(embeddings_dict, n_anchors=300):\n",
    "    \"\"\"Randomly sample n_anchors from embeddings_dict and return as a matrix where each row is a relative representation vector. Returns shape (embedding_dim, n_anchors)\"\"\"\n",
    "    anchor_words = random.sample(list(embeddings_dict.keys()), n_anchors)\n",
    "    \n",
    "    return anchor_words\n",
    "\n",
    "def get_relative_representations(embeddings_dict, similarity_measure, n_anchors=300, anchor_words=None):\n",
    "    \"\"\"Using a given similarity measure and embedding dictionary, calculate the relative representations and return as a matrix where each row is a relative representation vector. Returns shape (n_samples, n_anchors)\"\"\"\n",
    "    relative_representations_dict = dict()\n",
    "    anchor_words = get_anchors(embeddings_dict, n_anchors=n_anchors) if anchor_words is None else anchor_words\n",
    "    anchor_vectors = np.vstack([embeddings_dict[word] for word in anchor_words])\n",
    "\n",
    "    for word in tqdm(embeddings_dict.keys(), desc='Calculating relative representations',  position=0, leave=True):\n",
    "        embedding = embeddings_dict[word]\n",
    "\n",
    "        relative_representation = similarity_measure(embedding, anchor_vectors)\n",
    "        relative_representations_dict[word] = relative_representation\n",
    "\n",
    "    return relative_representations_dict, anchor_words"
   ]
  },
  {
   "cell_type": "markdown",
   "id": "bfaef45da857ec2f",
   "metadata": {},
   "source": [
    "**2. Create a cosine_similarity function which calculates the cosine similarity between a vector and a matrix**"
   ]
  },
  {
   "cell_type": "code",
   "execution_count": 8,
   "id": "6c81d90ec2020ce8",
   "metadata": {
    "ExecuteTime": {
     "end_time": "2024-11-07T13:33:12.077047Z",
     "start_time": "2024-11-07T13:33:12.063043Z"
    },
    "collapsed": false,
    "jupyter": {
     "outputs_hidden": false
    }
   },
   "outputs": [],
   "source": [
    "def cosine_similarity(word_vector, anchors):\n",
    "    \"\"\"Calculate the cosine similarity between the word vector and each of the anchors. Returns a vector of shape (n_anchors,)\"\"\"\n",
    "    # Normalize the word vector\n",
    "    word_vector_norm = np.linalg.norm(word_vector)\n",
    "    word_vector_normalized = word_vector / word_vector_norm\n",
    "    # Normalize the anchor rows\n",
    "    row_norms = np.linalg.norm(anchors, axis=1)\n",
    "    anchors_normalized = anchors / row_norms[:, np.newaxis]\n",
    "    # Compute the cosine similarities (dot product of normalized word_vector and each row)\n",
    "    cosine_similarities = np.dot(anchors_normalized, word_vector_normalized)\n",
    "    \n",
    "    return cosine_similarities"
   ]
  },
  {
   "cell_type": "code",
   "execution_count": 9,
   "id": "a9b0006b10649388",
   "metadata": {
    "ExecuteTime": {
     "end_time": "2024-11-07T13:33:19.617211Z",
     "start_time": "2024-11-07T13:33:13.855023Z"
    },
    "collapsed": false,
    "jupyter": {
     "outputs_hidden": false
    }
   },
   "outputs": [
    {
     "data": {
      "application/vnd.jupyter.widget-view+json": {
       "model_id": "31ad8050d8eb41fca8df6f40db8219fa",
       "version_major": 2,
       "version_minor": 0
      },
      "text/plain": [
       "Calculating relative representations:   0%|          | 0/22006 [00:00<?, ?it/s]"
      ]
     },
     "metadata": {},
     "output_type": "display_data"
    }
   ],
   "source": [
    "n_anchors = 300\n",
    "random.seed(420)\n",
    "relrep_dict_glove, anchor_words = get_relative_representations(embeddings_dict_glove, n_anchors=n_anchors, similarity_measure=cosine_similarity)"
   ]
  },
  {
   "cell_type": "code",
   "execution_count": 10,
   "id": "61b21a0b21caf3ee",
   "metadata": {
    "ExecuteTime": {
     "end_time": "2024-11-07T13:33:27.967661Z",
     "start_time": "2024-11-07T13:33:22.259258Z"
    }
   },
   "outputs": [
    {
     "data": {
      "application/vnd.jupyter.widget-view+json": {
       "model_id": "adb02f2ecbf2429c8aeb08d0f7a80c4d",
       "version_major": 2,
       "version_minor": 0
      },
      "text/plain": [
       "Calculating relative representations:   0%|          | 0/22006 [00:00<?, ?it/s]"
      ]
     },
     "metadata": {},
     "output_type": "display_data"
    }
   ],
   "source": [
    "relrep_dict_fasttext, anchor_words = get_relative_representations(embeddings_dict_fasttext, n_anchors=n_anchors, similarity_measure=cosine_similarity, anchor_words=anchor_words)"
   ]
  },
  {
   "cell_type": "markdown",
   "id": "729278afdf4b5a46",
   "metadata": {},
   "source": [
    "**3. Now it's time to visualise cluster in each of the latent spaces**\n",
    "- Create a function to sample n random words from a list\n",
    "- Next, create a function which takes all word embeddings of a certain type and the n randomly sampled words we will call there cluster centers and they are given as vectors in the same embedding space.\n",
    "    - It finds the n_neighbors nearest neighbors to each cluster center\n",
    "    - Applies PCA on all the neighbors and returns them "
   ]
  },
  {
   "cell_type": "code",
   "execution_count": 12,
   "id": "142b744ce88e1b23",
   "metadata": {
    "ExecuteTime": {
     "end_time": "2024-11-07T13:33:27.983608Z",
     "start_time": "2024-11-07T13:33:27.979605Z"
    }
   },
   "outputs": [],
   "source": [
    "def sample_random_words(words, n):    \n",
    "    random_sample = random.sample(words, n)\n",
    "    return random_sample"
   ]
  },
  {
   "cell_type": "code",
   "execution_count": 13,
   "id": "462ac0fd3ea6009f",
   "metadata": {
    "ExecuteTime": {
     "end_time": "2024-11-07T13:33:29.083055Z",
     "start_time": "2024-11-07T13:33:29.065054Z"
    }
   },
   "outputs": [],
   "source": [
    "def create_2d_clusters(cluster_centers, embeddings, n_neighbors=200):\n",
    "    \"\"\"\n",
    "    Find the n_points nearest neighbors in the embeddings matrix for each cluster center and use PCA to reduce the dimensionality of the points to 2.\n",
    "    \n",
    "    Parameters:\n",
    "    cluster_centers (np.array): An array of cluster center vectors.\n",
    "    embeddings (np.array): An array of embedding vectors.\n",
    "    n_neighbors (int): The number of nearest neighbors to find for each cluster center.\n",
    "    \n",
    "    Returns:\n",
    "    pca_results: A numpy array of shape (n_clusters, n_neighbors, 2) containing the two principal components of the nearest neighbors of each of the clusters centers\n",
    "    \"\"\"\n",
    "    pca_results = np.empty(shape=(cluster_centers.shape[0], n_neighbors, 2))\n",
    "    \n",
    "    # Fit the NearestNeighbors model on the high-dimensional embeddings\n",
    "    nn_model = NearestNeighbors(n_neighbors=n_neighbors)\n",
    "    nn_model.fit(embeddings)\n",
    "\n",
    "    for i, center in enumerate(cluster_centers):\n",
    "        # Find the n_neighbors nearest neighbors in the high-dimensional space\n",
    "        distances, indices = nn_model.kneighbors(center.reshape((1, -1)))\n",
    "        nearest_neighbors = embeddings[indices[0]]\n",
    "\n",
    "        # Apply PCA to reduce the nearest neighbors to 2D\n",
    "        pca = PCA(n_components=2)\n",
    "        nearest_neighbors_2d = pca.fit_transform(nearest_neighbors)\n",
    "\n",
    "        # Store the 2D results\n",
    "        pca_results[i] = nearest_neighbors_2d\n",
    "    \n",
    "    return pca_results"
   ]
  },
  {
   "cell_type": "code",
   "execution_count": 15,
   "id": "f9cecb06f60ce0e0",
   "metadata": {
    "ExecuteTime": {
     "end_time": "2024-11-07T13:33:31.033003Z",
     "start_time": "2024-11-07T13:33:31.020489Z"
    }
   },
   "outputs": [],
   "source": [
    "n_centers = 4\n",
    "\n",
    "words = list(embeddings_dict_glove.keys())\n",
    "pca_words = sample_random_words(words, n=n_centers)\n",
    "\n",
    "centers_rel_rep_glove = np.vstack([relrep_dict_glove[word] for word in pca_words])\n",
    "centers_rel_rep_fasttext = np.vstack([relrep_dict_fasttext[word] for word in pca_words])\n",
    "centers_o_rep_glove = np.vstack([embeddings_dict_glove[word] for word in pca_words])\n",
    "centers_o_rep_fasttext = np.vstack([embeddings_dict_fasttext[word] for word in pca_words])"
   ]
  },
  {
   "cell_type": "code",
   "execution_count": 16,
   "id": "5a05b3ffd91082ab",
   "metadata": {
    "ExecuteTime": {
     "end_time": "2024-11-07T13:33:32.126738Z",
     "start_time": "2024-11-07T13:33:31.963521Z"
    }
   },
   "outputs": [],
   "source": [
    "own_reps_glove = np.vstack(list(embeddings_dict_glove.values()))\n",
    "own_reps_fasttext = np.vstack(list(embeddings_dict_fasttext.values()))\n",
    "rel_reps_glove = np.vstack(list(relrep_dict_glove.values()))\n",
    "rel_reps_fasttext = np.vstack(list(relrep_dict_fasttext.values()))"
   ]
  },
  {
   "cell_type": "code",
   "execution_count": 18,
   "id": "7731e8409b45b45d",
   "metadata": {
    "ExecuteTime": {
     "end_time": "2024-11-07T13:33:35.221655Z",
     "start_time": "2024-11-07T13:33:34.052668Z"
    }
   },
   "outputs": [],
   "source": [
    "n_points_visualisation = 100\n",
    "pca_glove_own = create_2d_clusters(centers_o_rep_glove, embeddings=own_reps_glove, n_neighbors=n_points_visualisation)\n",
    "pca_glove_relative = create_2d_clusters(centers_rel_rep_glove, embeddings=rel_reps_glove, n_neighbors=n_points_visualisation)"
   ]
  },
  {
   "cell_type": "code",
   "execution_count": 19,
   "id": "3174cce52b1ac7e0",
   "metadata": {
    "ExecuteTime": {
     "end_time": "2024-11-07T13:33:40.503952Z",
     "start_time": "2024-11-07T13:33:39.354358Z"
    }
   },
   "outputs": [],
   "source": [
    "pca_fasttext_own = create_2d_clusters(centers_o_rep_fasttext, embeddings=own_reps_fasttext, n_neighbors=n_points_visualisation)\n",
    "pca_fasttext_relative = create_2d_clusters(centers_rel_rep_fasttext, embeddings=rel_reps_fasttext, n_neighbors=n_points_visualisation)"
   ]
  },
  {
   "cell_type": "markdown",
   "id": "4f348c6a-336d-4899-b2b9-5bfc5d02dbcf",
   "metadata": {},
   "source": [
    "**4. We now need a function to visualise the results:**"
   ]
  },
  {
   "cell_type": "code",
   "execution_count": null,
   "id": "78fee0b5-a0e3-4a90-bcc9-0fa8de3a8fea",
   "metadata": {},
   "outputs": [],
   "source": [
    "def visualize_clusters(pca_results, name='', y_lim=(None,), x_lim=(None,)):\n",
    "    for points in pca_results:\n",
    "        plt.scatter(points[:, 0], points[:, 1], marker='o', s=2.5)\n",
    "    plt.title(name)\n",
    "    plt.ylim(*y_lim)\n",
    "    plt.xlim(*x_lim)\n",
    "    plt.grid(True)"
   ]
  },
  {
   "cell_type": "code",
   "execution_count": 20,
   "id": "116829c72ec8b853",
   "metadata": {
    "ExecuteTime": {
     "end_time": "2024-11-07T13:33:42.747345Z",
     "start_time": "2024-11-07T13:33:41.976971Z"
    },
    "collapsed": false,
    "jupyter": {
     "outputs_hidden": false
    }
   },
   "outputs": [
    {
     "data": {
      "image/png": "[encoded data removed]",
      "text/plain": [
       "<Figure size 640x480 with 4 Axes>"
      ]
     },
     "metadata": {},
     "output_type": "display_data"
    }
   ],
   "source": [
    "fig, axs = plt.subplots(nrows=2, ncols=2)\n",
    "plt.sca(axs[0, 0])\n",
    "visualize_clusters(pca_glove_own, f'PCA GloVe {n_points_visualisation}\\nown representations')\n",
    "plt.sca(axs[1, 0])\n",
    "visualize_clusters(pca_fasttext_own, f'PCA Fasttext {n_points_visualisation}\\nown representations')\n",
    "plt.sca(axs[0, 1])\n",
    "visualize_clusters(pca_glove_relative, f'PCA GloVe {n_points_visualisation}\\nrelative representations')\n",
    "plt.sca(axs[1, 1])\n",
    "visualize_clusters(pca_fasttext_relative, f'PCA Fasttext {n_points_visualisation}\\nrelative representations')\n",
    "\n",
    "plt.tight_layout()\n",
    "plt.show()"
   ]
  },
  {
   "cell_type": "markdown",
   "id": "84f4e1ec90b063a5",
   "metadata": {},
   "source": [
    "### Exercise 4 Similarity metrics\n",
    "\n",
    "In order to show that the relative representations of the GloVe and Fasttext vectors are more similar than their absolute embeddings we will compare the mean reciprocal rank and cossine similarity between the two across all ~20000 word embeddings. Due to the computational cost of comparing every word with every other word across every embedding, we will only use the K=10 nearest neighbors of each word when calculating the metrics. "
   ]
  },
  {
   "cell_type": "markdown",
   "id": "d9b9cb39-40f7-4edf-95c4-b55c8acb4b0b",
   "metadata": {},
   "source": [
    "**1. Look up the mean reciprocal rank metric and implement a function that calculates it.**\n",
    "- https://www.evidentlyai.com/ranking-metrics/mean-reciprocal-rank-mrr"
   ]
  },
  {
   "cell_type": "code",
   "execution_count": 19,
   "id": "541066a020d8152f",
   "metadata": {
    "ExecuteTime": {
     "end_time": "2024-11-05T16:34:02.663755Z",
     "start_time": "2024-11-05T16:34:02.641721Z"
    },
    "collapsed": false,
    "jupyter": {
     "outputs_hidden": false
    }
   },
   "outputs": [],
   "source": [
    "def mean_reciprocal_rank(query_vector, matrix):\n",
    "    \"\"\"\n",
    "    Calculate the Mean Reciprocal Rank (MRR) given a query vector and a matrix.\n",
    "    \n",
    "    Parameters:\n",
    "    query_vector (np.array): A vector representing the query.\n",
    "    matrix (np.array): A matrix where each row represents a document.\n",
    "    \n",
    "    Returns:\n",
    "    float: The MRR score.\n",
    "    \"\"\"\n",
    "    # Compute relevance scores as dot products between the query_vector and each row in the matrix\n",
    "    relevance_scores = np.dot(matrix, query_vector)\n",
    "    \n",
    "    # Get the ranks of the documents sorted by relevance (highest relevance first)\n",
    "    sorted_indices = np.argsort(relevance_scores)[::-1]\n",
    "    \n",
    "    # Find the rank of the first relevant document\n",
    "    first_relevant_rank = np.where(sorted_indices == 0)[0][0] + 1  # Adding 1 to make rank 1-based\n",
    "    \n",
    "    # Calculate the reciprocal rank\n",
    "    reciprocal_rank = 1 / first_relevant_rank\n",
    "    \n",
    "    return reciprocal_rank"
   ]
  },
  {
   "cell_type": "markdown",
   "id": "f6a6f09a-e440-4a5f-87a1-bb17628efce9",
   "metadata": {},
   "source": [
    "**2. Prepare the K=10 nearest neighbour models for each embedding type**"
   ]
  },
  {
   "cell_type": "code",
   "execution_count": 20,
   "id": "577c8e6ee2d4ca7b",
   "metadata": {
    "ExecuteTime": {
     "end_time": "2024-11-05T16:34:07.919461Z",
     "start_time": "2024-11-05T16:34:02.910271Z"
    }
   },
   "outputs": [],
   "source": [
    "K = 10\n",
    "knn_rel_glove = NearestNeighbors(n_neighbors=K)\n",
    "knn_rel_glove.fit(rel_reps_glove)\n",
    "nearest_neighbors_rel_glove = knn_rel_glove.kneighbors(rel_reps_glove, return_distance=False)"
   ]
  },
  {
   "cell_type": "code",
   "execution_count": 21,
   "id": "be95ab5da7614614",
   "metadata": {
    "ExecuteTime": {
     "end_time": "2024-11-05T16:34:10.791223Z",
     "start_time": "2024-11-05T16:34:07.925954Z"
    }
   },
   "outputs": [],
   "source": [
    "knn_rel_fasttext = NearestNeighbors(n_neighbors=K)\n",
    "knn_rel_fasttext.fit(rel_reps_fasttext)\n",
    "nearest_neighbors_rel_fasttext = knn_rel_fasttext.kneighbors(rel_reps_fasttext, return_distance=False)"
   ]
  },
  {
   "cell_type": "code",
   "execution_count": 22,
   "id": "947bdefd5c7eec7b",
   "metadata": {
    "ExecuteTime": {
     "end_time": "2024-11-05T16:34:13.838892Z",
     "start_time": "2024-11-05T16:34:10.887074Z"
    }
   },
   "outputs": [],
   "source": [
    "knn_own_glove = NearestNeighbors(n_neighbors=K)\n",
    "knn_own_glove.fit(own_reps_glove)\n",
    "nearest_neighbors_own_glove = knn_own_glove.kneighbors(own_reps_glove, return_distance=False)"
   ]
  },
  {
   "cell_type": "code",
   "execution_count": 23,
   "id": "36ec5deaf544e0a2",
   "metadata": {
    "ExecuteTime": {
     "end_time": "2024-11-05T16:34:16.689111Z",
     "start_time": "2024-11-05T16:34:13.906900Z"
    }
   },
   "outputs": [],
   "source": [
    "knn_own_fasttext = NearestNeighbors(n_neighbors=K)\n",
    "knn_own_fasttext.fit(own_reps_fasttext)\n",
    "nearest_neighbors_own_fasttext = knn_own_fasttext.kneighbors(own_reps_fasttext, return_distance=False)"
   ]
  },
  {
   "cell_type": "markdown",
   "id": "aaf08f58-1824-42b7-98e8-b35399cc894e",
   "metadata": {},
   "source": [
    "**3. Now we need a function which loops across each KNN object and each representation twice in order to calculate the metrics for every possible combination**\n",
    "*We are calculating the average of the metric across every word*"
   ]
  },
  {
   "cell_type": "code",
   "execution_count": 31,
   "id": "dc587db023b3c0d2",
   "metadata": {
    "ExecuteTime": {
     "end_time": "2024-11-05T16:48:54.716546Z",
     "start_time": "2024-11-05T16:48:54.699496Z"
    }
   },
   "outputs": [],
   "source": [
    "def compute_knn_results(NNs, reps, names_knn, verbose=True):\n",
    "    result_rows = []\n",
    "\n",
    "    for i_knn, knn in tqdm(enumerate(NNs), desc=\"KNN\", total=len(names_knn)):\n",
    "        for i_repr_1, repr_1 in tqdm(enumerate(reps), desc=\"Representation 1\", total=len(names_knn)):\n",
    "            for i_repr_2, repr_2 in tqdm(enumerate(reps), desc=\"Representation 2\", total=len(names_knn)):\n",
    "                temp_cossim, temp_mrr = [], []\n",
    "                for i_vect, vector in enumerate(repr_1):\n",
    "                    neighbors = knn[i_vect]\n",
    "                    vector_subset = repr_2[neighbors]\n",
    "\n",
    "                    cossim = cosine_similarity(vector, vector_subset).max()\n",
    "                    mrr = mean_reciprocal_rank(vector, vector_subset)\n",
    "                    temp_cossim.append(cossim)\n",
    "                    temp_mrr.append(mrr)\n",
    "                \n",
    "                result_rows.append([\n",
    "                    names_knn[i_knn], \n",
    "                    names_knn[i_repr_1], \n",
    "                    names_knn[i_repr_2], \n",
    "                    np.mean(temp_cossim), \n",
    "                    np.mean(temp_mrr),\n",
    "                ])\n",
    "    if verbose:\n",
    "        for row in result_rows:\n",
    "            print(f\"Neighbors in {row[2]} according to KNN {row[0]}, with vectors from {row[1]} has Cossim {row[3]:.2f} and MRR {row[4]:.2f}\")\n",
    "    return result_rows"
   ]
  },
  {
   "cell_type": "code",
   "execution_count": 29,
   "id": "bfdad1c06cc5cc25",
   "metadata": {
    "ExecuteTime": {
     "end_time": "2024-11-05T16:46:45.946080Z",
     "start_time": "2024-11-05T16:46:33.276522Z"
    }
   },
   "outputs": [
    {
     "data": {
      "application/vnd.jupyter.widget-view+json": {
       "model_id": "892510cef5b34aa38a5f9c01b2724033",
       "version_major": 2,
       "version_minor": 0
      },
      "text/plain": [
       "KNN:   0%|          | 0/2 [00:00<?, ?it/s]"
      ]
     },
     "metadata": {},
     "output_type": "display_data"
    },
    {
     "data": {
      "application/vnd.jupyter.widget-view+json": {
       "model_id": "4e54f9e4cce9483da67afe3517f7d441",
       "version_major": 2,
       "version_minor": 0
      },
      "text/plain": [
       "Representation 1:   0%|          | 0/2 [00:00<?, ?it/s]"
      ]
     },
     "metadata": {},
     "output_type": "display_data"
    },
    {
     "data": {
      "application/vnd.jupyter.widget-view+json": {
       "model_id": "7cf5bb88fc2d42708f0d50932bc3ca25",
       "version_major": 2,
       "version_minor": 0
      },
      "text/plain": [
       "Representation 2:   0%|          | 0/2 [00:00<?, ?it/s]"
      ]
     },
     "metadata": {},
     "output_type": "display_data"
    },
    {
     "data": {
      "application/vnd.jupyter.widget-view+json": {
       "model_id": "5d487ca3f3394603b90df4670522ee75",
       "version_major": 2,
       "version_minor": 0
      },
      "text/plain": [
       "Representation 2:   0%|          | 0/2 [00:00<?, ?it/s]"
      ]
     },
     "metadata": {},
     "output_type": "display_data"
    },
    {
     "data": {
      "application/vnd.jupyter.widget-view+json": {
       "model_id": "05a9170ee12346d1902d94ae69965e6c",
       "version_major": 2,
       "version_minor": 0
      },
      "text/plain": [
       "Representation 1:   0%|          | 0/2 [00:00<?, ?it/s]"
      ]
     },
     "metadata": {},
     "output_type": "display_data"
    },
    {
     "data": {
      "application/vnd.jupyter.widget-view+json": {
       "model_id": "c7327baac6ca4118b3d52171a5dbba40",
       "version_major": 2,
       "version_minor": 0
      },
      "text/plain": [
       "Representation 2:   0%|          | 0/2 [00:00<?, ?it/s]"
      ]
     },
     "metadata": {},
     "output_type": "display_data"
    },
    {
     "data": {
      "application/vnd.jupyter.widget-view+json": {
       "model_id": "5d1fb5953e8b40b28ac6687ca5e042ec",
       "version_major": 2,
       "version_minor": 0
      },
      "text/plain": [
       "Representation 2:   0%|          | 0/2 [00:00<?, ?it/s]"
      ]
     },
     "metadata": {},
     "output_type": "display_data"
    },
    {
     "name": "stdout",
     "output_type": "stream",
     "text": [
      "Neighbors in GRR according to KNN GRR, with vectors from GRR has Jacc 1.00 CosSim 1.00 and MRR 1.00\n",
      "Neighbors in FRR according to KNN GRR, with vectors from GRR has Jacc 1.00 CosSim 0.08 and MRR 0.29\n",
      "Neighbors in GRR according to KNN GRR, with vectors from FRR has Jacc 1.00 CosSim 0.08 and MRR 0.29\n",
      "Neighbors in FRR according to KNN GRR, with vectors from FRR has Jacc 1.00 CosSim 1.00 and MRR 1.00\n",
      "Neighbors in GRR according to KNN FRR, with vectors from GRR has Jacc 1.00 CosSim 1.00 and MRR 1.00\n",
      "Neighbors in FRR according to KNN FRR, with vectors from GRR has Jacc 1.00 CosSim 0.07 and MRR 0.28\n",
      "Neighbors in GRR according to KNN FRR, with vectors from FRR has Jacc 1.00 CosSim 0.08 and MRR 0.28\n",
      "Neighbors in FRR according to KNN FRR, with vectors from FRR has Jacc 1.00 CosSim 1.00 and MRR 1.00\n"
     ]
    }
   ],
   "source": [
    "result_own = compute_knn_results(\n",
    "    NNs=[nearest_neighbors_own_glove, nearest_neighbors_own_fasttext],\n",
    "    reps=[own_reps_glove, own_reps_fasttext],\n",
    "    names_knn = [\"GRR\", \"FRR\"]\n",
    ")"
   ]
  },
  {
   "cell_type": "code",
   "execution_count": 30,
   "id": "5990dd7db295b37a",
   "metadata": {
    "ExecuteTime": {
     "end_time": "2024-11-05T16:46:58.373984Z",
     "start_time": "2024-11-05T16:46:46.078399Z"
    }
   },
   "outputs": [
    {
     "data": {
      "application/vnd.jupyter.widget-view+json": {
       "model_id": "d64c31c1bc694c5dac3efd98eae3a168",
       "version_major": 2,
       "version_minor": 0
      },
      "text/plain": [
       "KNN:   0%|          | 0/2 [00:00<?, ?it/s]"
      ]
     },
     "metadata": {},
     "output_type": "display_data"
    },
    {
     "data": {
      "application/vnd.jupyter.widget-view+json": {
       "model_id": "748f439b7c2d4b588939d3b6802c766a",
       "version_major": 2,
       "version_minor": 0
      },
      "text/plain": [
       "Representation 1:   0%|          | 0/2 [00:00<?, ?it/s]"
      ]
     },
     "metadata": {},
     "output_type": "display_data"
    },
    {
     "data": {
      "application/vnd.jupyter.widget-view+json": {
       "model_id": "6b6c7e28243f4ac5a45731c53ed060b5",
       "version_major": 2,
       "version_minor": 0
      },
      "text/plain": [
       "Representation 2:   0%|          | 0/2 [00:00<?, ?it/s]"
      ]
     },
     "metadata": {},
     "output_type": "display_data"
    },
    {
     "data": {
      "application/vnd.jupyter.widget-view+json": {
       "model_id": "896af75ffd8941739886d95524e07e2c",
       "version_major": 2,
       "version_minor": 0
      },
      "text/plain": [
       "Representation 2:   0%|          | 0/2 [00:00<?, ?it/s]"
      ]
     },
     "metadata": {},
     "output_type": "display_data"
    },
    {
     "data": {
      "application/vnd.jupyter.widget-view+json": {
       "model_id": "bc9c2caa85144fb4a7519a0ea1bcc679",
       "version_major": 2,
       "version_minor": 0
      },
      "text/plain": [
       "Representation 1:   0%|          | 0/2 [00:00<?, ?it/s]"
      ]
     },
     "metadata": {},
     "output_type": "display_data"
    },
    {
     "data": {
      "application/vnd.jupyter.widget-view+json": {
       "model_id": "f3d24b1294f74f4d8db772aa480b622b",
       "version_major": 2,
       "version_minor": 0
      },
      "text/plain": [
       "Representation 2:   0%|          | 0/2 [00:00<?, ?it/s]"
      ]
     },
     "metadata": {},
     "output_type": "display_data"
    },
    {
     "data": {
      "application/vnd.jupyter.widget-view+json": {
       "model_id": "cc4facd2762a4b748cc91d4d7dbcefcf",
       "version_major": 2,
       "version_minor": 0
      },
      "text/plain": [
       "Representation 2:   0%|          | 0/2 [00:00<?, ?it/s]"
      ]
     },
     "metadata": {},
     "output_type": "display_data"
    },
    {
     "name": "stdout",
     "output_type": "stream",
     "text": [
      "Neighbors in GRR according to KNN GRR, with vectors from GRR has Jacc 1.00 CosSim 1.00 and MRR 0.95\n",
      "Neighbors in FRR according to KNN GRR, with vectors from GRR has Jacc 1.00 CosSim 0.56 and MRR 0.79\n",
      "Neighbors in GRR according to KNN GRR, with vectors from FRR has Jacc 1.00 CosSim 0.55 and MRR 0.80\n",
      "Neighbors in FRR according to KNN GRR, with vectors from FRR has Jacc 1.00 CosSim 1.00 and MRR 0.92\n",
      "Neighbors in GRR according to KNN FRR, with vectors from GRR has Jacc 1.00 CosSim 1.00 and MRR 0.96\n",
      "Neighbors in FRR according to KNN FRR, with vectors from GRR has Jacc 1.00 CosSim 0.55 and MRR 0.87\n",
      "Neighbors in GRR according to KNN FRR, with vectors from FRR has Jacc 1.00 CosSim 0.56 and MRR 0.71\n",
      "Neighbors in FRR according to KNN FRR, with vectors from FRR has Jacc 1.00 CosSim 1.00 and MRR 0.90\n"
     ]
    }
   ],
   "source": [
    "result_rel = compute_knn_results(\n",
    "    NNs=[nearest_neighbors_rel_glove, nearest_neighbors_rel_fasttext],\n",
    "    reps=[rel_reps_glove, rel_reps_fasttext],\n",
    "    names_knn = [\"GRR\", \"FRR\"]\n",
    ")"
   ]
  },
  {
   "cell_type": "markdown",
   "id": "dc218217-a186-474e-84ca-a32e461c3dce",
   "metadata": {},
   "source": [
    "**4. Interpret the results. How much more similar are the relative representations to the absolute ones?**"
   ]
  }
 ],
 "metadata": {
  "kernelspec": {
   "display_name": "Python 3 (ipykernel)",
   "language": "python",
   "name": "python3"
  },
  "language_info": {
   "codemirror_mode": {
    "name": "ipython",
    "version": 3
   },
   "file_extension": ".py",
   "mimetype": "text/x-python",
   "name": "python",
   "nbconvert_exporter": "python",
   "pygments_lexer": "ipython3",
   "version": "3.10.5"
  }
 },
 "nbformat": 4,
 "nbformat_minor": 5
}
