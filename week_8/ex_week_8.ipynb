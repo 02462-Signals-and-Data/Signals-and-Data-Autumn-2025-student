{
 "cells": [
  {
   "cell_type": "markdown",
   "id": "e73d30a8",
   "metadata": {},
   "source": [
    "# NLP, N-grams and FastText"
   ]
  },
  {
   "cell_type": "markdown",
   "id": "53f5e74f",
   "metadata": {},
   "source": [
    "As you have seen in the lectures, NLP has a wide range of techniques and applications of such techniques. We will give you an introduction to some of these techniques, and today you will get hands-on experience with them. In today's exercise, we will look at the following topics:\n",
    "\n",
    "1. How do we represent text in a vectorized way that encodes context? (One answer here is N-grams, and those we will look at).\n",
    "2. How do we create and sample from an N-gram language model - and how does the size of the grams affect the generated text?\n",
    "3. How do we use a pre-existing language model (FastText), to classify text messages as spam?\n",
    "\n",
    "The data we will be using later today is a dataset consisting of \"spam or ham\" text messages. The dataset consists of a number of text messages, some of which are spam and some of which are so-called \"ham\". We will use FastText to classify mails as spam or ham. For now, we will be looking at some different texts, to see how we can use N-grams to generate text, and how we can create N-gram language models from a text corpus."
   ]
  },
  {
   "metadata": {},
   "cell_type": "markdown",
   "source": [
    "## Exercise 1: Text-loading\n",
    "\n",
    "\n",
    "The texts we will be experimenting with N-grams on are the two famous books Pride & Prejudice by Jane Austen and The Origin of Species by Charles Darwin. The two books have been obtained in a raw text format from https://www.gutenberg.org/, i.e. Project Gutenberg which concerns itself with the collection of Open Access e-books.\n",
    "\n",
    "A big part of working with text documents is unfortunately having to preprocess the documents. Preprocessing of these, can have a large impact on the eventual performance of language models, such as N-gram models. We have included the text-preprocessing steps in the cell below. In the output cell you will notice that the first chapter of pride and prejudice is printed out. It is then preprocessed using the `preprocess_text` function and printed out again.\n",
    "\n",
    "**1. Implement the pre_processing function according to the following description:**\n",
    "1. All text should be lowercase *Python strings have an in-built method for that*\n",
    "2. Remove all special characters by using the regex pattern `r\"[^a-zA-Z0-9.?! \\n]+\"` and the sub function from Python's re module\n",
    "3. Split the text by lines *\"\\n\" is the character used for newlines*\n",
    "4. Remove chapter headlines\n",
    "5. Recreate the full document again using `\"\\n\".join(text)`\n",
    "6. Replace `\"\\n\"` with `\" \"` and double-spacing with single spacing"
   ],
   "id": "9f2f896138af3796"
  },
  {
   "cell_type": "code",
   "id": "22f31431",
   "metadata": {
    "ExecuteTime": {
     "end_time": "2024-10-26T10:34:16.497139Z",
     "start_time": "2024-10-26T10:34:16.472131Z"
    }
   },
   "source": [
    "import re\n",
    "import os\n",
    "import torch\n",
    "import fasttext\n",
    "\n",
    "import pandas as pd\n",
    "import numpy as np\n",
    "import torch.nn as nn\n",
    "import matplotlib.pyplot as plt\n",
    "\n",
    "from tqdm.notebook import tqdm\n",
    "from collections import defaultdict\n",
    "from collections import Counter\n",
    "from torch.utils.data import DataLoader, Dataset\n",
    "from sklearn.metrics import confusion_matrix, ConfusionMatrixDisplay"
   ],
   "outputs": [],
   "execution_count": 199
  },
  {
   "metadata": {
    "ExecuteTime": {
     "end_time": "2024-10-25T09:50:01.044517Z",
     "start_time": "2024-10-25T09:50:01.032519Z"
    }
   },
   "cell_type": "code",
   "source": [
    "def preprocess_text(text):\n",
    "    text = text.lower() #Lowercase everything in text file.\n",
    "    text = re.sub(r\"[^a-zA-Z0-9.?! \\n]+\", \"\", text) #Remove unwanted special characters.\n",
    "    text = text.split(\"\\n\") #Split text by lines.\n",
    "    text = [line.strip() for line in text if line.find(\"chapter\") == -1] #Remove chapter headlines.\n",
    "    text = \"\\n\".join(text) #Recreate full document again\n",
    "    text = text.replace(\"\\n\", \" \").replace(\"  \", \" \") #Remove end lines and remove double spacing.\n",
    "    return text"
   ],
   "id": "97712834817df01e",
   "outputs": [],
   "execution_count": 2
  },
  {
   "metadata": {},
   "cell_type": "markdown",
   "source": [
    "**2. The preprocessing is not perfect. Do you notice any issues in the text? Show examples of words that will may be problematic:**\n",
    "\n",
    "*HINT: What happens to *good-humoured*? What happens to *three-and-twenty*? What happens to *Mr.* and *Mrs.*, and how will this later be handled when we split the sentences?*"
   ],
   "id": "c3539556806549c"
  },
  {
   "metadata": {
    "ExecuteTime": {
     "end_time": "2024-10-25T12:43:29.615934Z",
     "start_time": "2024-10-25T12:43:29.609384Z"
    }
   },
   "cell_type": "code",
   "source": [
    "print(preprocess_text(\"good-humoured\"))\n",
    "print(preprocess_text(\"Mr.\"))\n",
    "print(preprocess_text(\"I am, but\"))"
   ],
   "id": "88b3f48806447a14",
   "outputs": [
    {
     "name": "stdout",
     "output_type": "stream",
     "text": [
      "goodhumoured\n",
      "mr.\n",
      "i am but\n"
     ]
    }
   ],
   "execution_count": 40
  },
  {
   "metadata": {},
   "cell_type": "markdown",
   "source": "**3. Apply the preprocessing to Pride and Prejudice and the Origin of Species**",
   "id": "10a4b59a93a1934d"
  },
  {
   "metadata": {
    "ExecuteTime": {
     "end_time": "2024-10-25T09:50:04.383780Z",
     "start_time": "2024-10-25T09:50:04.331747Z"
    }
   },
   "cell_type": "code",
   "source": [
    "with open(\"data/pride_and_prejudice.txt\", \"r\", encoding=\"utf-8\") as file:\n",
    "    pride_n_pred = file.read()\n",
    "    pride_n_pred_preproc = preprocess_text(pride_n_pred)"
   ],
   "id": "88535013892b3330",
   "outputs": [],
   "execution_count": 4
  },
  {
   "cell_type": "code",
   "id": "7fc1ea22",
   "metadata": {
    "ExecuteTime": {
     "end_time": "2024-10-25T09:50:04.685505Z",
     "start_time": "2024-10-25T09:50:04.629504Z"
    }
   },
   "source": [
    "with open(\"data/pride_and_prejudice.txt\", \"r\", encoding=\"utf-8\") as file:\n",
    "    orig_of_spec = file.read()\n",
    "    orig_of_spec_preproc = preprocess_text(orig_of_spec)"
   ],
   "outputs": [],
   "execution_count": 5
  },
  {
   "metadata": {},
   "cell_type": "markdown",
   "source": [
    "## Exercise 2: Creating N-grams\n",
    "\n",
    "Now that we have the texts in the preprocessed document format we want, we will move forward with the creation of our N-grams. Recall we want to use the N-grams for probabilistic word modelling tasks, for example, next word predictions given some sequence of words which we can express the following way:\n",
    "\n",
    "\\begin{equation}\n",
    "P(w_n|w_1, w_2, ..., w_{n-2}, w_{n-1})\n",
    "\\end{equation}\n",
    "\n",
    "The problem is that estimating such probabilities for very long sequences is computationally and memory-wise VERY expensive. So as a solution we sometimes use N-grams. In N-grams, the assumption is that we can model these conditional dependencies with shorter sequences of words, i.e.:\n",
    "\n",
    "\\begin{equation}\n",
    "\\begin{split}\n",
    "P(w_n|w_1, w_2, ..., w_{n-2}, w_{n-1}) & \\approx P(w_n) & \\text{(Unigram)}\\\\\n",
    "P(w_n|w_1, w_2, ..., w_{n-2}, w_{n-1}) & \\approx P(w_n| w_{n-1}) & \\text{(Bigram)}\\\\\n",
    "P(w_n|w_1, w_2, ..., w_{n-2}, w_{n-1}) & \\approx P(w_n|w_{n-2}, w_{n-1}) & \\text{(Trigram)}\\\\\n",
    "\\end{split}\n",
    "\\end{equation}\n",
    "\n",
    "Which we then compute as:\n",
    "\n",
    "\\begin{equation}\n",
    "P(w_n|w_{n-2}, w_{n-1}) = \\frac{\\text{Count}(w_{n-2}, w_{n-1}, w_n)}{\\text{Count}(w_{n-2}, w_{n-1})}\n",
    "\\end{equation}\n",
    "\n",
    "The language model that we create is based on some text corpus from which we obtain the count measures. In this exercise we will try making such N-gram models on the two books Origin of Species and Pride and Prejudice!\n",
    "\n",
    "In the cell below we have written the functions required for preprocessing a corpus even further such that it is ready for creating an N-gram model on. In order to guarantee that we can just start text generation or give conditional probabilites for how likely a start or end word is in given sentence we pad our sentence with start and end tokens denoted as `<s>` and `</s>` according to the size of N-grams we are working with."
   ],
   "id": "81760d4c6a0483b2"
  },
  {
   "metadata": {},
   "cell_type": "markdown",
   "source": "**1. Why do N-grams encode context in comparison to methods such as count vectorizers which just count words?**",
   "id": "aa09451a7a9acfb3"
  },
  {
   "metadata": {},
   "cell_type": "markdown",
   "source": [
    "**2. Implement the function `tokenize_and_pad` that takes a corpus and a parameter `N` specifying the amount of padding to apply and returns a list of lists where the inner lists are sentences split into words**\n",
    "1. Split the corpus into sentences *Using a full stop at the delimiter*\n",
    "2. Calculate the length of the padding needed\n",
    "    - Think about how many words are needed to create the first N-gram? *Hint: The first actual word is included*\n",
    "3. Create the padding for the front and end using for example `\" \".join(list_of_start_chars)`\n",
    "    - In Python you can create a list of length pad_len using `[el] * pad_len`\n",
    "4. Pad each corpus sentence ensuring that there is a space between the padding and sentence\n",
    "    - Use the .strip() method on each sentence to remove empty characters\n",
    "Split the padded sentences into words and return a list of lists containing the split sentences"
   ],
   "id": "71e781c11ddabe00"
  },
  {
   "metadata": {
    "ExecuteTime": {
     "end_time": "2024-10-25T09:50:05.409793Z",
     "start_time": "2024-10-25T09:50:05.390787Z"
    }
   },
   "cell_type": "code",
   "source": [
    "def tokenize_and_pad(corpus, N=3):\n",
    "    corpus_sentences = corpus.split(\".\")\n",
    "    pad_len = N - 1\n",
    "    pad_front = \" \".join([\"<s>\"]*pad_len)\n",
    "    pad_end = \" \".join([\"</s>\"]*pad_len)\n",
    "    padded_corpus_sentences = [pad_front + \" \" + sentence.strip() + \" \" + pad_end for sentence in corpus_sentences]\n",
    "    tokenized_corpus_sentences = [sentence.split(\" \") for sentence in padded_corpus_sentences]\n",
    "    return tokenized_corpus_sentences\n"
   ],
   "id": "a8e289604555b27e",
   "outputs": [],
   "execution_count": 6
  },
  {
   "metadata": {
    "ExecuteTime": {
     "end_time": "2024-10-25T12:16:32.448930Z",
     "start_time": "2024-10-25T12:16:32.345548Z"
    }
   },
   "cell_type": "code",
   "source": [
    "N = 3\n",
    "orig_of_spec_tokenize = tokenize_and_pad(orig_of_spec_preproc, N=N)\n",
    "print(orig_of_spec_tokenize[0])"
   ],
   "id": "b792e4ef5c318a41",
   "outputs": [
    {
     "name": "stdout",
     "output_type": "stream",
     "text": [
      "['<s>', '<s>', 'it', 'is', 'a', 'truth', 'universally', 'acknowledged', 'that', 'a', 'single', 'man', 'in', 'possession', 'of', 'a', 'good', 'fortune', 'must', 'be', 'in', 'want', 'of', 'a', 'wife', '</s>', '</s>']\n"
     ]
    }
   ],
   "execution_count": 12
  },
  {
   "metadata": {},
   "cell_type": "markdown",
   "source": [
    "**3. Implement the function `create_n_grams` which takes the output from the above function and splits it into n_grams**\n",
    "1. Create and empty list for the n_grams\n",
    "2. Loop across all the tokenized sentences\n",
    "3. Now loop across the range of applicable starting indexes for the given sentence\n",
    "    - If N = 2, what's the length of the sentences list and how many N_grams can we create? Generalise this.\n",
    "4. Create the current n_gram by using `\" \".join`\n",
    "5. Return the n_grams list\n"
   ],
   "id": "4b00d6b020a66d31"
  },
  {
   "metadata": {
    "ExecuteTime": {
     "end_time": "2024-10-25T09:50:05.799466Z",
     "start_time": "2024-10-25T09:50:05.789465Z"
    }
   },
   "cell_type": "code",
   "source": [
    "def create_n_grams(tokenized_sentences, N=3):\n",
    "    n_grams = []\n",
    "    for sentence in tokenized_sentences:\n",
    "        for i in range(len(sentence) - N + 1):\n",
    "            # Create each n-gram by joining N consecutive words\n",
    "            n_gram = \" \".join(sentence[i:i + N])\n",
    "            n_grams.append(n_gram)\n",
    "    return n_grams"
   ],
   "id": "641869505c82378b",
   "outputs": [],
   "execution_count": 7
  },
  {
   "metadata": {
    "ExecuteTime": {
     "end_time": "2024-10-25T12:17:13.492651Z",
     "start_time": "2024-10-25T12:17:13.416686Z"
    }
   },
   "cell_type": "code",
   "source": [
    "orig_of_spec_n_grams = create_n_grams(orig_of_spec_tokenize, N=N)\n",
    "print(orig_of_spec_n_grams[:20])"
   ],
   "id": "ace7cd4fa951b476",
   "outputs": [
    {
     "name": "stdout",
     "output_type": "stream",
     "text": [
      "['<s> <s> it', '<s> it is', 'it is a', 'is a truth', 'a truth universally', 'truth universally acknowledged', 'universally acknowledged that', 'acknowledged that a', 'that a single', 'a single man', 'single man in', 'man in possession', 'in possession of', 'possession of a', 'of a good', 'a good fortune', 'good fortune must', 'fortune must be', 'must be in', 'be in want']\n"
     ]
    }
   ],
   "execution_count": 13
  },
  {
   "metadata": {},
   "cell_type": "markdown",
   "source": [
    "**4. Implement the function `n_grams_to_prob_map` which takes a list of n_grams as returned by the function above and create a dictionary which maps the probabilities of words occurring after a given context.**\n",
    "1. If you are unfamiliar with the defaultdict class in Python, read this article before you start this task https://www.geeksforgeeks.org/defaultdict-in-python/\n",
    "2. If you are unfamiliar with the lambda keyword in Python, read this article before you start this task https://www.geeksforgeeks.org/python-lambda-anonymous-functions-filter-map-reduce/?ref=header_outind\n",
    "3. Create a default dict, name it `contexts`, with a default value that is a default dict whose default value is 0\n",
    "    - In essence: defaultdict(defaultdict(0))\n",
    "    - This will be used to count how often each target word occurs after a certain context\n",
    "4. Loop through every n-gram and split it\n",
    "5. Create the context by using `\" \".join` on all but the last token in the n-gram. The last token is the target\n",
    "6. Increment (means adding 1 to a value) the counter for the target value for the given context\n",
    "7. Create a new dictionary `cond_prob`\n",
    "8. Loop across the keys of `contexts`\n",
    "9. Create a list of each target in the current context by wrapping the .keys() call in a list()\n",
    "10. Count the number of occurrences of each target in the current context and put them in a numpy array\n",
    "11. Calculate the probabilities of each target by normalising the occurrence count \n",
    "    - Ensure it sums to 1\n",
    "12.  Assign a tuple of the targets and their probabilities to the entry in the `cond_prob` function\n",
    "    - The order of the tuple is important for later, so (context_targets, targets_probs)\n"
   ],
   "id": "fd36ef10d8c6c6ef"
  },
  {
   "metadata": {
    "ExecuteTime": {
     "end_time": "2024-10-25T09:50:06.449149Z",
     "start_time": "2024-10-25T09:50:06.435124Z"
    }
   },
   "cell_type": "code",
   "source": [
    "def nested_default_dict():\n",
    "    return defaultdict(lambda: 0)\n",
    "\n",
    "def n_grams_to_prob_map(n_grams):\n",
    "    contexts = defaultdict(nested_default_dict)\n",
    "    for n_gram in n_grams:\n",
    "        n_gram_split = n_gram.split(\" \")\n",
    "        context = \" \".join(n_gram_split[:N-1])\n",
    "        target = n_gram_split[N-1]\n",
    "        contexts[context][target] += 1\n",
    "\n",
    "    cond_prob = {}\n",
    "    for context in contexts.keys():\n",
    "        context_targets = list(contexts[context].keys())\n",
    "        targets_count = np.array([contexts[context][target] for target in context_targets])\n",
    "        context_sum = np.sum(targets_count)\n",
    "        targets_probs = targets_count / context_sum\n",
    "        cond_prob[context] = (context_targets, targets_probs,)\n",
    "    return cond_prob"
   ],
   "id": "9df8a8b43a597e4d",
   "outputs": [],
   "execution_count": 8
  },
  {
   "metadata": {
    "ExecuteTime": {
     "end_time": "2024-10-25T12:26:49.236527Z",
     "start_time": "2024-10-25T12:26:47.091372Z"
    }
   },
   "cell_type": "code",
   "source": [
    "orig_of_spec_cond_prob = n_grams_to_prob_map(orig_of_spec_n_grams)\n",
    "context_test = \" \".join(orig_of_spec_n_grams[60].split(\" \")[:-1])   # \"he is\" has a good number of targets\n",
    "targets, probs = orig_of_spec_cond_prob[context_test]\n",
    "\n",
    "sorted_targets, sorted_probs = zip(*sorted(zip(targets, probs), key=lambda x: x[1], reverse=True))\n",
    "\n",
    "plt.figure(figsize=(10, 6))\n",
    "plt.bar(sorted_targets, sorted_probs, color='skyblue')\n",
    "plt.xlabel(\"Target Words\")\n",
    "plt.ylabel(\"Probability\")\n",
    "plt.title(f\"Conditional Probability Distribution for Context: '{context_test}'\")\n",
    "plt.xticks(rotation=45, ha='right')\n",
    "plt.tight_layout()  # Adjust layout for readability\n",
    "plt.show()"
   ],
   "id": "ea63d602ce669b4b",
   "outputs": [
    {
     "data": {
      "text/plain": [
       "<Figure size 1000x600 with 1 Axes>"
      ],
      "image/png": "[encoded data removed]"
     },
     "metadata": {},
     "output_type": "display_data"
    }
   ],
   "execution_count": 33
  },
  {
   "metadata": {},
   "cell_type": "markdown",
   "source": [
    "**5. Vary the N-gram size N and inspect the first 20 N-grams.**\n",
    " - How do they change and why? \n",
    " - Do you think there could be issues with this?"
   ],
   "id": "45101af022fd270e"
  },
  {
   "metadata": {
    "ExecuteTime": {
     "end_time": "2024-10-25T09:50:09.104181Z",
     "start_time": "2024-10-25T09:50:07.466589Z"
    }
   },
   "cell_type": "code",
   "source": [
    "N=3\n",
    "orig_of_spec_tokenize = tokenize_and_pad(orig_of_spec_preproc, N=N)\n",
    "print(orig_of_spec_tokenize[0])\n",
    "orig_of_spec_n_grams = create_n_grams(orig_of_spec_tokenize, N=N)\n",
    "orig_of_spec_cond_prob = n_grams_to_prob_map(orig_of_spec_n_grams)\n",
    "print(orig_of_spec_n_grams[:20])"
   ],
   "id": "2bf9b9f9d2251179",
   "outputs": [
    {
     "name": "stdout",
     "output_type": "stream",
     "text": [
      "['<s>', '<s>', 'it', 'is', 'a', 'truth', 'universally', 'acknowledged', 'that', 'a', 'single', 'man', 'in', 'possession', 'of', 'a', 'good', 'fortune', 'must', 'be', 'in', 'want', 'of', 'a', 'wife', '</s>', '</s>']\n",
      "['<s> <s> it', '<s> it is', 'it is a', 'is a truth', 'a truth universally', 'truth universally acknowledged', 'universally acknowledged that', 'acknowledged that a', 'that a single', 'a single man', 'single man in', 'man in possession', 'in possession of', 'possession of a', 'of a good', 'a good fortune', 'good fortune must', 'fortune must be', 'must be in', 'be in want']\n"
     ]
    }
   ],
   "execution_count": 9
  },
  {
   "cell_type": "markdown",
   "id": "8e4e9e1a",
   "metadata": {},
   "source": [
    "## Exercise 3: Generating Text\n",
    "\n",
    "In the previous exercise we saw how to tokenize a corpus such that it is ready to be split into n-grams. We then saw how to make n-grams and create a conditional probability based on these.\n",
    "\n",
    "The question now is, how can we generate a text using this conditional probability. A way of doing this is to sample from a conditional probability distribution based on our obtained N-grams. In essence, we can give a seed to our conditional probability (also called a context), and then we need to generate a word from our conditional probability by sampling from it.\n",
    "\n",
    "In the code below we will define a function that allows us to generate a sentence based on a provided conditional distribution. In the cell we create such a conditional distribution and generate 5 sentences using the same text seed. \n",
    "\n",
    "**1. Implement the `generate_text` function.**\n",
    "1. Create a variable which will be the output string and assign the text_seed to it\n",
    "2. Split the text_seed into words and check its length, it should be N-1\n",
    "    - If the text seed is too short append the start character to it\n",
    "    - If the text seed is too long change it to the last N-1 words\n",
    "3. Create a variable that holds the current context (text_seed right now)\n",
    "4. Loop across the number of words we wish to generate\n",
    "   - If the current context is not in the `cond_prob` dictionary, return the generated sentence\n",
    "   - If it is, sample a target word from the context according to its probability distribution and update the context for the next iteration\n"
   ]
  },
  {
   "metadata": {
    "ExecuteTime": {
     "end_time": "2024-10-25T12:42:06.410097Z",
     "start_time": "2024-10-25T12:42:06.402133Z"
    }
   },
   "cell_type": "code",
   "source": [
    "def generate_text(cond_prob, text_seed, N, num_words=25):\n",
    "    generated_sentence = text_seed\n",
    "    text_seed_words = text_seed.split(\" \")\n",
    "    if len(text_seed_words) < N-1:\n",
    "        pad_len = N-1-len(text_seed_words)\n",
    "        pad_list = [\"<s>\"]*pad_len\n",
    "        text_seed = \" \".join(pad_list+text_seed_words)\n",
    "    elif len(text_seed_words) > N-1:\n",
    "        text_seed = \" \".join(text_seed_words[-N+1:]) #NOTE: Take ending words, not start sentences\n",
    "    \n",
    "    context = text_seed\n",
    "    for i in range(num_words):\n",
    "        if context not in cond_prob.keys():\n",
    "            return generated_sentence\n",
    "        else:\n",
    "            generated_sentence += \" \" + np.random.choice(cond_prob[context][0], 1, p=cond_prob[context][1])[0]\n",
    "            context = \" \".join(generated_sentence.split(\" \")[-N+1:])\n",
    "    return generated_sentence"
   ],
   "id": "90afe4279bf81ede",
   "outputs": [],
   "execution_count": 35
  },
  {
   "metadata": {
    "ExecuteTime": {
     "end_time": "2024-10-25T12:58:00.096544Z",
     "start_time": "2024-10-25T12:57:59.768827Z"
    }
   },
   "cell_type": "code",
   "source": [
    "N=2\n",
    "orig_of_spec_tokenize = tokenize_and_pad(orig_of_spec_preproc, N=N)\n",
    "orig_of_spec_n_grams = create_n_grams(orig_of_spec_tokenize, N=N)\n",
    "orig_of_spec_cond_prob = n_grams_to_prob_map(orig_of_spec_n_grams)"
   ],
   "id": "ecc9a5faf0c5dc9e",
   "outputs": [
    {
     "name": "stdout",
     "output_type": "stream",
     "text": [
      "7233\n"
     ]
    }
   ],
   "execution_count": 67
  },
  {
   "metadata": {
    "ExecuteTime": {
     "end_time": "2024-10-25T12:58:02.836126Z",
     "start_time": "2024-10-25T12:58:02.775587Z"
    }
   },
   "cell_type": "code",
   "source": [
    "text_seed = \"he is a\"\n",
    "for i in tqdm(range(5)):\n",
    "    print(generate_text(cond_prob=orig_of_spec_cond_prob, text_seed=text_seed, N=N) + \"\\n\")"
   ],
   "id": "78a2339b75e29fd1",
   "outputs": [
    {
     "data": {
      "text/plain": [
       "  0%|          | 0/10 [00:00<?, ?it/s]"
      ],
      "application/vnd.jupyter.widget-view+json": {
       "version_major": 2,
       "version_minor": 0,
       "model_id": "67358129f76c43678b275b3f45bd45d7"
      }
     },
     "metadata": {},
     "output_type": "display_data"
    },
    {
     "name": "stdout",
     "output_type": "stream",
     "text": [
      "he is a face of such an enormity at your girls who would often make after watching their indignation </s>\n",
      "\n",
      "he is a mother went off saturday night before he said miss lucas whom he observed how far too dearly love and tea that maria are discharged and\n",
      "\n",
      "he is a family said what she had told my guard? can from your ladyship than you will say no regard to hear any compassion on mr </s>\n",
      "\n",
      "he is a suspicion the street the question the others were so little as we have such injuries to any of little endeavour to overcome nor wishes did\n",
      "\n",
      "he is a comfort </s>\n",
      "\n",
      "he is a mixture of her answer and they began to say she would be very dances were to pass myself by mrs </s>\n",
      "\n",
      "he is a very desirable event of what i do not hear to their direct answer </s>\n",
      "\n",
      "he is a genteel pretty far we are perfectly reasonable end! in derbyshire there was thoroughly despised the preference </s>\n",
      "\n",
      "he is a more to colonel forster said bingley said thanking her coming to supply much this halfhour with a great sensibility </s>\n",
      "\n",
      "he is a certain evils arising on the most respectable agreeable addition to trace their domestic comforts </s>\n",
      "\n"
     ]
    }
   ],
   "execution_count": 68
  },
  {
   "metadata": {},
   "cell_type": "markdown",
   "source": [
    "**2. Answer the following questions about the text generation you have just implemented:**\n",
    "- Why is it that even though we use the same text seed, the generated sentences changes?\n",
    "\n",
    "Because we are sampling from the distribution and not simply using the most probable word.\n",
    "\n",
    "- What happens as you increase the N-gram size as shown in the cell below? Does this makes sense - and if so, why?\n",
    "\n",
    "There are fewer and fewer examples of each context in the text which leads to less text being generated.\n",
    "\n",
    "- Is it more optimal to have smaller or larger N-gram size? Try to experiment with generated sentences as N goes from 2->7.\n",
    "\n",
    "The higher the n-gram size the fewer examples of each n-gram there is.\n",
    "\n",
    "- What would it mean to set the N-gram size to one? What would you expect the generated text to look like?\n",
    "\n",
    "There is not target for any context so no text is generated."
   ],
   "id": "c81aca6ee7890985"
  },
  {
   "metadata": {
    "ExecuteTime": {
     "end_time": "2024-10-25T12:59:33.599295Z",
     "start_time": "2024-10-25T12:59:21.571636Z"
    }
   },
   "cell_type": "code",
   "source": [
    "for N in tqdm(range(1, 8)):\n",
    "    orig_of_spec_tokenize = tokenize_and_pad(orig_of_spec_preproc, N=N)\n",
    "    orig_of_spec_n_grams = create_n_grams(orig_of_spec_tokenize, N=N)\n",
    "    orig_of_spec_cond_prob = n_grams_to_prob_map(orig_of_spec_n_grams)\n",
    "    print(f\"{N}: {len(orig_of_spec_cond_prob.keys())}\")"
   ],
   "id": "6f59edaf21e94dfb",
   "outputs": [
    {
     "data": {
      "text/plain": [
       "  0%|          | 0/7 [00:00<?, ?it/s]"
      ],
      "application/vnd.jupyter.widget-view+json": {
       "version_major": 2,
       "version_minor": 0,
       "model_id": "5d501f56493d49e4b6d2488de495178b"
      }
     },
     "metadata": {},
     "output_type": "display_data"
    },
    {
     "name": "stdout",
     "output_type": "stream",
     "text": [
      "1: 1\n",
      "2: 7233\n",
      "3: 54172\n",
      "4: 101601\n",
      "5: 120372\n",
      "6: 128552\n",
      "7: 134849\n"
     ]
    }
   ],
   "execution_count": 69
  },
  {
   "cell_type": "markdown",
   "id": "54164f68",
   "metadata": {},
   "source": [
    "**3. We will now look at how the generated sentences changes depending on the corpus used to create our n-grams on.**\n",
    "\n",
    "- Create N-grams and a conditional probability using the Pride and Prejudice corpus.\n",
    "- Try to generate some sentences using both conditional probabilites but using the same text seed (use ngram size 3 for example and use the provided text seed for both n-gram models. What do you observe?"
   ]
  },
  {
   "cell_type": "code",
   "id": "81d7a6a5",
   "metadata": {
    "ExecuteTime": {
     "end_time": "2024-10-25T12:46:18.837998Z",
     "start_time": "2024-10-25T12:46:17.275854Z"
    }
   },
   "source": [
    "#Write your code here for creating a sentence generator using Pride and Prejudice as your corpus\n",
    "#and comparing the two language models.\n",
    "N=3\n",
    "pride_n_pred_tokenize = tokenize_and_pad(pride_n_pred_preproc, N=N)\n",
    "pride_n_pred_n_grams = create_n_grams(pride_n_pred_tokenize, N=N)\n",
    "pride_n_pred_cond_prob = n_grams_to_prob_map(pride_n_pred_n_grams)\n",
    "\n",
    "text_seed = \"it is said that\"\n",
    "\n",
    "for i in range(5):\n",
    "    print(generate_text(cond_prob=pride_n_pred_cond_prob, text_seed=text_seed, N=N)+ \"\\n\")"
   ],
   "outputs": [
    {
     "name": "stdout",
     "output_type": "stream",
     "text": [
      "it is said that business with his guest and therefore instead of my temper i ever had anything of their dear friends vulgar relations </s> </s>\n",
      "\n",
      "it is said that he has found them as my own case the want of sense since the refusal which his garden mr </s> </s>\n",
      "\n",
      "it is said that business was therefore obliged to spend the christmas at longbourn in a duel </s> </s>\n",
      "\n",
      "it is said that she could not be able to reason with her mother was too cross to write in the absence of jane not untinctured by tenderness and\n",
      "\n",
      "it is said that i care about you </s> </s>\n",
      "\n"
     ]
    }
   ],
   "execution_count": 46
  },
  {
   "cell_type": "markdown",
   "id": "321e3289",
   "metadata": {},
   "source": [
    "# FastText for Ham or Spam\n",
    "\n",
    "In the following exercises we will be looking at classifying text messages as \"Ham\" or \"Spam\" by using the FastText library. Recall that FastText is a library that allows us to train a language model easily to perform classification on other text pieces. In the following exercises we will:\n",
    "\n",
    "1. Load and split a dataset consisting of text messages with ham or spam text and accompanying labels.\n",
    "2. Train a FastText model to classify texts as ham or spam.\n",
    "3. Evaluate the FastText model."
   ]
  },
  {
   "cell_type": "markdown",
   "id": "18f29aa0",
   "metadata": {},
   "source": [
    "## Exercise 4: Loading spam or ham data\n",
    "\n",
    "In the following cell we use the pandas library to load our text delimited file which has the lables in the first column and the text messages in the second.\n",
    "\n",
    "* Use the `pandas.read_csv` function to read the `SMS_train.txt` file. Look up the documentation by googling. It may also require you to inspect the text file.\n",
    "* How many text messages are in the training set?\n",
    "* The `for` loop over the data is required for FastText as it expects a specific format for input files. Particularly, it wants a file which has the `__label__{label} text` layout in every line (where `__label__` is a token, i.e. something the FastText library reads as a keyword). Inspect the train_data.txt file to ensure you understand the format!"
   ]
  },
  {
   "metadata": {
    "ExecuteTime": {
     "end_time": "2024-10-25T15:56:37.647940Z",
     "start_time": "2024-10-25T15:56:37.633940Z"
    }
   },
   "cell_type": "code",
   "source": [
    "def create_fasttext_format_txt(data_frame, path_to_doc, verbose=True):\n",
    "    texts = list(data_frame['1'])\n",
    "    labels = list(data_frame['0'])\n",
    "    txt = \"\"\n",
    "    \n",
    "    # Construct FastText formatted string\n",
    "    for i, (label, text) in tqdm(enumerate(zip(labels, texts)), total=len(texts)):\n",
    "        txt += f'__label__{label} {text}\\n'\n",
    "    \n",
    "    # Write to file\n",
    "    with open(path_to_doc, mode='w', encoding=\"utf-8\") as f:\n",
    "        f.write(txt)\n",
    "    \n",
    "    # Optional verbose output for label distribution\n",
    "    if verbose:\n",
    "        label_distribution = Counter(labels)\n",
    "        print(\"Label Distribution:\")\n",
    "        for label, count in label_distribution.items():\n",
    "            print(f\"{label}: {count} ({count / len(texts) * 100:.2f} %)\")\n",
    "    \n",
    "    return texts, labels"
   ],
   "id": "f1024b9656df3a1e",
   "outputs": [],
   "execution_count": 163
  },
  {
   "metadata": {
    "ExecuteTime": {
     "end_time": "2024-10-25T16:00:05.809126Z",
     "start_time": "2024-10-25T16:00:05.741084Z"
    }
   },
   "cell_type": "code",
   "source": [
    "train_data = pd.read_csv(os.path.join(\"data\", \"SMS_train.txt\"))\n",
    "test_data = pd.read_csv('./data/SMS_test.txt', delimiter=',', encoding=\"utf-8\")\n",
    "\n",
    "train_texts, train_labels = create_fasttext_format_txt(data_frame=train_data, path_to_doc='data/train_data.txt')\n",
    "test_texts, test_labels = create_fasttext_format_txt(data_frame=test_data, path_to_doc='data/test_data.txt')"
   ],
   "id": "3004909b3d1703dd",
   "outputs": [
    {
     "data": {
      "text/plain": [
       "  0%|          | 0/4458 [00:00<?, ?it/s]"
      ],
      "application/vnd.jupyter.widget-view+json": {
       "version_major": 2,
       "version_minor": 0,
       "model_id": "51ebd9c9f6814b6297bcf6f14e8bdd59"
      }
     },
     "metadata": {},
     "output_type": "display_data"
    },
    {
     "name": "stdout",
     "output_type": "stream",
     "text": [
      "Label Distribution:\n",
      "ham: 3865 (86.70 %)\n",
      "spam: 593 (13.30 %)\n"
     ]
    },
    {
     "data": {
      "text/plain": [
       "  0%|          | 0/1114 [00:00<?, ?it/s]"
      ],
      "application/vnd.jupyter.widget-view+json": {
       "version_major": 2,
       "version_minor": 0,
       "model_id": "4e9ff40cbe0b4f37bca58a88c3a2eaa4"
      }
     },
     "metadata": {},
     "output_type": "display_data"
    },
    {
     "name": "stdout",
     "output_type": "stream",
     "text": [
      "Label Distribution:\n",
      "ham: 960 (86.18 %)\n",
      "spam: 154 (13.82 %)\n"
     ]
    }
   ],
   "execution_count": 167
  },
  {
   "metadata": {
    "ExecuteTime": {
     "end_time": "2024-10-25T16:00:10.134330Z",
     "start_time": "2024-10-25T16:00:10.109323Z"
    }
   },
   "cell_type": "code",
   "source": [
    "display(train_data)\n",
    "display(test_data)"
   ],
   "id": "446f6841b69f83de",
   "outputs": [
    {
     "data": {
      "text/plain": [
       "         0                                                  1\n",
       "0      ham                      Ok lar... Joking wif u oni...\n",
       "1     spam  Free entry in 2 a wkly comp to win FA Cup fina...\n",
       "2      ham  Nah I don't think he goes to usf, he lives aro...\n",
       "3     spam  FreeMsg Hey there darling it's been 3 week's n...\n",
       "4      ham  As per your request 'Melle Melle (Oru Minnamin...\n",
       "...    ...                                                ...\n",
       "4453   ham                                Ard 6 like dat lor.\n",
       "4454  spam  REMINDER FROM O2: To get 2.50 pounds free call...\n",
       "4455  spam  This is the 2nd time we have tried 2 contact u...\n",
       "4456   ham  Pity, * was in mood for that. So...any other s...\n",
       "4457   ham                         Rofl. Its true to its name\n",
       "\n",
       "[4458 rows x 2 columns]"
      ],
      "text/html": [
       "<div>\n",
       "<style scoped>\n",
       "    .dataframe tbody tr th:only-of-type {\n",
       "        vertical-align: middle;\n",
       "    }\n",
       "\n",
       "    .dataframe tbody tr th {\n",
       "        vertical-align: top;\n",
       "    }\n",
       "\n",
       "    .dataframe thead th {\n",
       "        text-align: right;\n",
       "    }\n",
       "</style>\n",
       "<table border=\"1\" class=\"dataframe\">\n",
       "  <thead>\n",
       "    <tr style=\"text-align: right;\">\n",
       "      <th></th>\n",
       "      <th>0</th>\n",
       "      <th>1</th>\n",
       "    </tr>\n",
       "  </thead>\n",
       "  <tbody>\n",
       "    <tr>\n",
       "      <th>0</th>\n",
       "      <td>ham</td>\n",
       "      <td>Ok lar... Joking wif u oni...</td>\n",
       "    </tr>\n",
       "    <tr>\n",
       "      <th>1</th>\n",
       "      <td>spam</td>\n",
       "      <td>Free entry in 2 a wkly comp to win FA Cup fina...</td>\n",
       "    </tr>\n",
       "    <tr>\n",
       "      <th>2</th>\n",
       "      <td>ham</td>\n",
       "      <td>Nah I don't think he goes to usf, he lives aro...</td>\n",
       "    </tr>\n",
       "    <tr>\n",
       "      <th>3</th>\n",
       "      <td>spam</td>\n",
       "      <td>FreeMsg Hey there darling it's been 3 week's n...</td>\n",
       "    </tr>\n",
       "    <tr>\n",
       "      <th>4</th>\n",
       "      <td>ham</td>\n",
       "      <td>As per your request 'Melle Melle (Oru Minnamin...</td>\n",
       "    </tr>\n",
       "    <tr>\n",
       "      <th>...</th>\n",
       "      <td>...</td>\n",
       "      <td>...</td>\n",
       "    </tr>\n",
       "    <tr>\n",
       "      <th>4453</th>\n",
       "      <td>ham</td>\n",
       "      <td>Ard 6 like dat lor.</td>\n",
       "    </tr>\n",
       "    <tr>\n",
       "      <th>4454</th>\n",
       "      <td>spam</td>\n",
       "      <td>REMINDER FROM O2: To get 2.50 pounds free call...</td>\n",
       "    </tr>\n",
       "    <tr>\n",
       "      <th>4455</th>\n",
       "      <td>spam</td>\n",
       "      <td>This is the 2nd time we have tried 2 contact u...</td>\n",
       "    </tr>\n",
       "    <tr>\n",
       "      <th>4456</th>\n",
       "      <td>ham</td>\n",
       "      <td>Pity, * was in mood for that. So...any other s...</td>\n",
       "    </tr>\n",
       "    <tr>\n",
       "      <th>4457</th>\n",
       "      <td>ham</td>\n",
       "      <td>Rofl. Its true to its name</td>\n",
       "    </tr>\n",
       "  </tbody>\n",
       "</table>\n",
       "<p>4458 rows × 2 columns</p>\n",
       "</div>"
      ]
     },
     "metadata": {},
     "output_type": "display_data"
    },
    {
     "data": {
      "text/plain": [
       "        0                                                  1\n",
       "0     ham  One of best dialogue in cute reltnship..!! \"We...\n",
       "1     ham                  I'm wif him now buying tix lar...\n",
       "2     ham                                 Okay... We wait ah\n",
       "3     ham  Well there's not a lot of things happening in ...\n",
       "4     ham  Hmmm ... And imagine after you've come home fr...\n",
       "...   ...                                                ...\n",
       "1109  ham  For you information, IKEA is spelled with all ...\n",
       "1110  ham                           Eh u send wrongly lar...\n",
       "1111  ham      This pain couldn't have come at a worse time.\n",
       "1112  ham   Its sunny in california. The weather's just cool\n",
       "1113  ham  Should I have picked up a receipt or something...\n",
       "\n",
       "[1114 rows x 2 columns]"
      ],
      "text/html": [
       "<div>\n",
       "<style scoped>\n",
       "    .dataframe tbody tr th:only-of-type {\n",
       "        vertical-align: middle;\n",
       "    }\n",
       "\n",
       "    .dataframe tbody tr th {\n",
       "        vertical-align: top;\n",
       "    }\n",
       "\n",
       "    .dataframe thead th {\n",
       "        text-align: right;\n",
       "    }\n",
       "</style>\n",
       "<table border=\"1\" class=\"dataframe\">\n",
       "  <thead>\n",
       "    <tr style=\"text-align: right;\">\n",
       "      <th></th>\n",
       "      <th>0</th>\n",
       "      <th>1</th>\n",
       "    </tr>\n",
       "  </thead>\n",
       "  <tbody>\n",
       "    <tr>\n",
       "      <th>0</th>\n",
       "      <td>ham</td>\n",
       "      <td>One of best dialogue in cute reltnship..!! \"We...</td>\n",
       "    </tr>\n",
       "    <tr>\n",
       "      <th>1</th>\n",
       "      <td>ham</td>\n",
       "      <td>I'm wif him now buying tix lar...</td>\n",
       "    </tr>\n",
       "    <tr>\n",
       "      <th>2</th>\n",
       "      <td>ham</td>\n",
       "      <td>Okay... We wait ah</td>\n",
       "    </tr>\n",
       "    <tr>\n",
       "      <th>3</th>\n",
       "      <td>ham</td>\n",
       "      <td>Well there's not a lot of things happening in ...</td>\n",
       "    </tr>\n",
       "    <tr>\n",
       "      <th>4</th>\n",
       "      <td>ham</td>\n",
       "      <td>Hmmm ... And imagine after you've come home fr...</td>\n",
       "    </tr>\n",
       "    <tr>\n",
       "      <th>...</th>\n",
       "      <td>...</td>\n",
       "      <td>...</td>\n",
       "    </tr>\n",
       "    <tr>\n",
       "      <th>1109</th>\n",
       "      <td>ham</td>\n",
       "      <td>For you information, IKEA is spelled with all ...</td>\n",
       "    </tr>\n",
       "    <tr>\n",
       "      <th>1110</th>\n",
       "      <td>ham</td>\n",
       "      <td>Eh u send wrongly lar...</td>\n",
       "    </tr>\n",
       "    <tr>\n",
       "      <th>1111</th>\n",
       "      <td>ham</td>\n",
       "      <td>This pain couldn't have come at a worse time.</td>\n",
       "    </tr>\n",
       "    <tr>\n",
       "      <th>1112</th>\n",
       "      <td>ham</td>\n",
       "      <td>Its sunny in california. The weather's just cool</td>\n",
       "    </tr>\n",
       "    <tr>\n",
       "      <th>1113</th>\n",
       "      <td>ham</td>\n",
       "      <td>Should I have picked up a receipt or something...</td>\n",
       "    </tr>\n",
       "  </tbody>\n",
       "</table>\n",
       "<p>1114 rows × 2 columns</p>\n",
       "</div>"
      ]
     },
     "metadata": {},
     "output_type": "display_data"
    }
   ],
   "execution_count": 168
  },
  {
   "metadata": {
    "ExecuteTime": {
     "end_time": "2024-10-25T16:11:59.334940Z",
     "start_time": "2024-10-25T16:11:59.299936Z"
    }
   },
   "cell_type": "code",
   "source": [
    "class TextDataset(Dataset):\n",
    "    def __init__(self, file_path, embed_dim=100, embedding=None):\n",
    "        self.data = []\n",
    "        self.labels = set()\n",
    "        self.class_counts_dict = defaultdict(lambda: 0)\n",
    "        \n",
    "        # Load and process data\n",
    "        with open(file_path, 'r') as f:\n",
    "            for line in f:\n",
    "                label, text = line.split(maxsplit=1)\n",
    "                label = label.replace('__label__', '').strip()\n",
    "                text = text.strip().split()  # Tokenize by whitespace\n",
    "                self.labels.add(label)\n",
    "                self.data.append((text, label))\n",
    "                self.class_counts_dict[label] += 1\n",
    "                \n",
    "\n",
    "        # Build vocabulary and label-to-index mappings\n",
    "        self.vocab = self.build_vocab([text for text, _ in self.data])\n",
    "        self.vocab_size = len(self.vocab)\n",
    "        self.label_to_idx = {label: idx for idx, label in enumerate(self.labels)}\n",
    "        self.num_classes = len(self.label_to_idx)\n",
    "        self.embedding = nn.Embedding(self.vocab_size, embed_dim) if embedding is None else embedding\n",
    "        sorted_labels = sorted(self.class_counts_dict.keys(), key=lambda label: self.label_to_idx[label])\n",
    "        # Sort class_counts based on the sorted order of labels\n",
    "        self.class_counts = torch.tensor([self.class_counts_dict[label] for label in sorted_labels])\n",
    "    def build_vocab(self, texts):\n",
    "        counter = Counter()\n",
    "        for text in texts:\n",
    "            counter.update(text)\n",
    "        \n",
    "        # Reserve 0 for padding token\n",
    "        vocab = {word: idx + 1 for idx, (word, _) in enumerate(counter.items())}\n",
    "        vocab['<PAD>'] = 0\n",
    "        vocab['<UNK>'] = len(vocab)  # Add unknown token\n",
    "        return vocab\n",
    "\n",
    "    def text_to_tensor(self, text):\n",
    "        # Convert each token to its corresponding index\n",
    "        text_indices = torch.tensor([self.vocab.get(word, self.vocab['<UNK>']) for word in text])\n",
    "        embedded = self.embedding(text_indices).mean(dim=0)\n",
    "        return embedded\n",
    "\n",
    "    def label_to_tensor(self, label):\n",
    "        # Convert label to its corresponding index\n",
    "        return torch.tensor(self.label_to_idx[label])\n",
    "    \n",
    "    def __len__(self):\n",
    "        return len(self.data)\n",
    "\n",
    "    def __getitem__(self, idx):\n",
    "        text, label = self.data[idx]\n",
    "        return self.text_to_tensor(text), self.label_to_tensor(label)"
   ],
   "id": "29e50d4f681d5609",
   "outputs": [],
   "execution_count": 180
  },
  {
   "metadata": {
    "ExecuteTime": {
     "end_time": "2024-10-25T16:11:59.739987Z",
     "start_time": "2024-10-25T16:11:59.721261Z"
    }
   },
   "cell_type": "code",
   "source": [
    "class TextClassifier(nn.Module):\n",
    "    def __init__(self, embed_dim, num_classes):\n",
    "        super(TextClassifier, self).__init__()\n",
    "        self.fc = nn.Linear(embed_dim, num_classes)\n",
    "\n",
    "    def forward(self, x):\n",
    "        return self.fc(x)"
   ],
   "id": "cb3483dad9325d43",
   "outputs": [],
   "execution_count": 181
  },
  {
   "metadata": {
    "ExecuteTime": {
     "end_time": "2024-10-25T16:25:23.043241200Z",
     "start_time": "2024-10-25T16:21:58.352577Z"
    }
   },
   "cell_type": "code",
   "source": [
    "embed_dim = 300\n",
    "epochs = 10\n",
    "\n",
    "dataset_train = TextDataset('data/train_data.txt', embed_dim=embed_dim)\n",
    "dataloader_train = DataLoader(dataset_train, batch_size=32, shuffle=True)\n",
    "\n",
    "model_save_dir = \"models\"\n",
    "model = TextClassifier(embed_dim=embed_dim, num_classes=dataset_train.num_classes)  # Adjust vocab_size and num_classes as needed\n",
    "class_weights = (torch.sum(dataset_train.class_counts) / dataset_train.class_counts).float()\n",
    "criterion = nn.CrossEntropyLoss(weight=class_weights)\n",
    "optimizer = torch.optim.Adam(model.parameters(), lr=0.001)\n",
    "metrics = []\n",
    "\n",
    "for epoch in tqdm(range(epochs)):\n",
    "    accuracy_train = 0\n",
    "    all_labels = []\n",
    "    all_preds = []\n",
    "    \n",
    "    for texts_embedded, labels in dataloader_train:\n",
    "        outputs = model(texts_embedded)\n",
    "        loss = criterion(outputs, labels)\n",
    "        \n",
    "        optimizer.zero_grad()\n",
    "        loss.backward()\n",
    "        optimizer.step()\n",
    "        \n",
    "        preds = outputs.argmax(1)\n",
    "        accuracy_train += torch.sum(preds == labels)\n",
    "        \n",
    "        all_labels.extend(labels.cpu().numpy())\n",
    "        all_preds.extend(preds.cpu().numpy())\n",
    "    \n",
    "    # Calculate confusion matrix\n",
    "    cm = confusion_matrix(all_labels, all_preds)\n",
    "\n",
    "    # Calculate sensitivity and specificity\n",
    "    tn, fp, fn, tp = cm.ravel()\n",
    "    sensitivity = tp / (tp + fn)\n",
    "    specificity = tn / (tn + fp)\n",
    "    \n",
    "    print(f'Epoch {epoch + 1}, Loss: {loss.item():.4f}, '\n",
    "          f'Accuracy: {accuracy_train/len(all_labels):.4f}, '\n",
    "          f'Sensitivity: {sensitivity:.4f}, Specificity: {specificity:.4f}')\n",
    "    metrics.append([loss.item(), accuracy_train/len(all_labels), sensitivity, specificity])\n",
    "\n",
    "print(\"Confusion Matrix:\")\n",
    "print(cm)"
   ],
   "id": "1e06e8aabfd5222a",
   "outputs": [
    {
     "data": {
      "text/plain": [
       "  0%|          | 0/10 [00:00<?, ?it/s]"
      ],
      "application/vnd.jupyter.widget-view+json": {
       "version_major": 2,
       "version_minor": 0,
       "model_id": "1ab05e2508de4667beae381874323f3b"
      }
     },
     "metadata": {},
     "output_type": "display_data"
    },
    {
     "name": "stdout",
     "output_type": "stream",
     "text": [
      "Epoch 1, Loss: 0.5782, Accuracy: 0.7197, Sensitivity: 0.8010, Specificity: 0.7073\n",
      "Epoch 2, Loss: 0.2725, Accuracy: 0.8070, Sensitivity: 0.8702, Specificity: 0.7973\n",
      "Epoch 3, Loss: 0.5435, Accuracy: 0.8287, Sensitivity: 0.8735, Specificity: 0.8218\n",
      "Epoch 4, Loss: 0.3206, Accuracy: 0.8401, Sensitivity: 0.8735, Specificity: 0.8350\n",
      "Epoch 5, Loss: 0.3356, Accuracy: 0.8480, Sensitivity: 0.8718, Specificity: 0.8443\n",
      "Epoch 6, Loss: 0.3705, Accuracy: 0.8554, Sensitivity: 0.8718, Specificity: 0.8529\n",
      "Epoch 7, Loss: 0.3165, Accuracy: 0.8543, Sensitivity: 0.8735, Specificity: 0.8513\n"
     ]
    },
    {
     "ename": "KeyboardInterrupt",
     "evalue": "",
     "output_type": "error",
     "traceback": [
      "\u001B[1;31m---------------------------------------------------------------------------\u001B[0m",
      "\u001B[1;31mKeyboardInterrupt\u001B[0m                         Traceback (most recent call last)",
      "Cell \u001B[1;32mIn[194], line 21\u001B[0m\n\u001B[0;32m     18\u001B[0m loss \u001B[38;5;241m=\u001B[39m criterion(outputs, labels)\n\u001B[0;32m     20\u001B[0m optimizer\u001B[38;5;241m.\u001B[39mzero_grad()\n\u001B[1;32m---> 21\u001B[0m \u001B[43mloss\u001B[49m\u001B[38;5;241;43m.\u001B[39;49m\u001B[43mbackward\u001B[49m\u001B[43m(\u001B[49m\u001B[43m)\u001B[49m\n\u001B[0;32m     22\u001B[0m optimizer\u001B[38;5;241m.\u001B[39mstep()\n\u001B[0;32m     24\u001B[0m preds \u001B[38;5;241m=\u001B[39m outputs\u001B[38;5;241m.\u001B[39margmax(\u001B[38;5;241m1\u001B[39m)\n",
      "File \u001B[1;32m~\\OneDrive\\Documents\\GitHub\\Signals-And-Data-Autumn-2024\\venv\\lib\\site-packages\\torch\\_tensor.py:521\u001B[0m, in \u001B[0;36mTensor.backward\u001B[1;34m(self, gradient, retain_graph, create_graph, inputs)\u001B[0m\n\u001B[0;32m    511\u001B[0m \u001B[38;5;28;01mif\u001B[39;00m has_torch_function_unary(\u001B[38;5;28mself\u001B[39m):\n\u001B[0;32m    512\u001B[0m     \u001B[38;5;28;01mreturn\u001B[39;00m handle_torch_function(\n\u001B[0;32m    513\u001B[0m         Tensor\u001B[38;5;241m.\u001B[39mbackward,\n\u001B[0;32m    514\u001B[0m         (\u001B[38;5;28mself\u001B[39m,),\n\u001B[1;32m   (...)\u001B[0m\n\u001B[0;32m    519\u001B[0m         inputs\u001B[38;5;241m=\u001B[39minputs,\n\u001B[0;32m    520\u001B[0m     )\n\u001B[1;32m--> 521\u001B[0m \u001B[43mtorch\u001B[49m\u001B[38;5;241;43m.\u001B[39;49m\u001B[43mautograd\u001B[49m\u001B[38;5;241;43m.\u001B[39;49m\u001B[43mbackward\u001B[49m\u001B[43m(\u001B[49m\n\u001B[0;32m    522\u001B[0m \u001B[43m    \u001B[49m\u001B[38;5;28;43mself\u001B[39;49m\u001B[43m,\u001B[49m\u001B[43m \u001B[49m\u001B[43mgradient\u001B[49m\u001B[43m,\u001B[49m\u001B[43m \u001B[49m\u001B[43mretain_graph\u001B[49m\u001B[43m,\u001B[49m\u001B[43m \u001B[49m\u001B[43mcreate_graph\u001B[49m\u001B[43m,\u001B[49m\u001B[43m \u001B[49m\u001B[43minputs\u001B[49m\u001B[38;5;241;43m=\u001B[39;49m\u001B[43minputs\u001B[49m\n\u001B[0;32m    523\u001B[0m \u001B[43m\u001B[49m\u001B[43m)\u001B[49m\n",
      "File \u001B[1;32m~\\OneDrive\\Documents\\GitHub\\Signals-And-Data-Autumn-2024\\venv\\lib\\site-packages\\torch\\autograd\\__init__.py:289\u001B[0m, in \u001B[0;36mbackward\u001B[1;34m(tensors, grad_tensors, retain_graph, create_graph, grad_variables, inputs)\u001B[0m\n\u001B[0;32m    284\u001B[0m     retain_graph \u001B[38;5;241m=\u001B[39m create_graph\n\u001B[0;32m    286\u001B[0m \u001B[38;5;66;03m# The reason we repeat the same comment below is that\u001B[39;00m\n\u001B[0;32m    287\u001B[0m \u001B[38;5;66;03m# some Python versions print out the first line of a multi-line function\u001B[39;00m\n\u001B[0;32m    288\u001B[0m \u001B[38;5;66;03m# calls in the traceback and some print out the last line\u001B[39;00m\n\u001B[1;32m--> 289\u001B[0m \u001B[43m_engine_run_backward\u001B[49m\u001B[43m(\u001B[49m\n\u001B[0;32m    290\u001B[0m \u001B[43m    \u001B[49m\u001B[43mtensors\u001B[49m\u001B[43m,\u001B[49m\n\u001B[0;32m    291\u001B[0m \u001B[43m    \u001B[49m\u001B[43mgrad_tensors_\u001B[49m\u001B[43m,\u001B[49m\n\u001B[0;32m    292\u001B[0m \u001B[43m    \u001B[49m\u001B[43mretain_graph\u001B[49m\u001B[43m,\u001B[49m\n\u001B[0;32m    293\u001B[0m \u001B[43m    \u001B[49m\u001B[43mcreate_graph\u001B[49m\u001B[43m,\u001B[49m\n\u001B[0;32m    294\u001B[0m \u001B[43m    \u001B[49m\u001B[43minputs\u001B[49m\u001B[43m,\u001B[49m\n\u001B[0;32m    295\u001B[0m \u001B[43m    \u001B[49m\u001B[43mallow_unreachable\u001B[49m\u001B[38;5;241;43m=\u001B[39;49m\u001B[38;5;28;43;01mTrue\u001B[39;49;00m\u001B[43m,\u001B[49m\n\u001B[0;32m    296\u001B[0m \u001B[43m    \u001B[49m\u001B[43maccumulate_grad\u001B[49m\u001B[38;5;241;43m=\u001B[39;49m\u001B[38;5;28;43;01mTrue\u001B[39;49;00m\u001B[43m,\u001B[49m\n\u001B[0;32m    297\u001B[0m \u001B[43m\u001B[49m\u001B[43m)\u001B[49m\n",
      "File \u001B[1;32m~\\OneDrive\\Documents\\GitHub\\Signals-And-Data-Autumn-2024\\venv\\lib\\site-packages\\torch\\autograd\\graph.py:769\u001B[0m, in \u001B[0;36m_engine_run_backward\u001B[1;34m(t_outputs, *args, **kwargs)\u001B[0m\n\u001B[0;32m    767\u001B[0m     unregister_hooks \u001B[38;5;241m=\u001B[39m _register_logging_hooks_on_whole_graph(t_outputs)\n\u001B[0;32m    768\u001B[0m \u001B[38;5;28;01mtry\u001B[39;00m:\n\u001B[1;32m--> 769\u001B[0m     \u001B[38;5;28;01mreturn\u001B[39;00m Variable\u001B[38;5;241m.\u001B[39m_execution_engine\u001B[38;5;241m.\u001B[39mrun_backward(  \u001B[38;5;66;03m# Calls into the C++ engine to run the backward pass\u001B[39;00m\n\u001B[0;32m    770\u001B[0m         t_outputs, \u001B[38;5;241m*\u001B[39margs, \u001B[38;5;241m*\u001B[39m\u001B[38;5;241m*\u001B[39mkwargs\n\u001B[0;32m    771\u001B[0m     )  \u001B[38;5;66;03m# Calls into the C++ engine to run the backward pass\u001B[39;00m\n\u001B[0;32m    772\u001B[0m \u001B[38;5;28;01mfinally\u001B[39;00m:\n\u001B[0;32m    773\u001B[0m     \u001B[38;5;28;01mif\u001B[39;00m attach_logging_hooks:\n",
      "\u001B[1;31mKeyboardInterrupt\u001B[0m: "
     ]
    }
   ],
   "execution_count": 194
  },
  {
   "metadata": {},
   "cell_type": "code",
   "outputs": [],
   "execution_count": null,
   "source": [
    "metric_names = ['Loss', 'Accuracy', 'Sensitivity', 'Specificity']\n",
    "colors = ['red', 'blue', 'green', 'orange']\n",
    "\n",
    "# Create plots\n",
    "plt.figure(figsize=(12, 8))\n",
    "\n",
    "for i in range(len(metric_names)):\n",
    "    plt.subplot(2, 2, i + 1)\n",
    "    plt.plot(epochs, metrics[:, i], marker='o', label=metric_names[i], color=colors[i])\n",
    "    plt.title(f'{metric_names[i]} over Epochs')\n",
    "    plt.xlabel('Epochs')\n",
    "    plt.ylabel(metric_names[i])\n",
    "    plt.xticks(epochs)\n",
    "    if i == 0:\n",
    "        plt.ylim(bottom=0)  # Only for Loss, no upper limit\n",
    "    else:\n",
    "        plt.ylim(0, 1)  # Set y-limits for accuracy, sensitivity, specificity\n",
    "    plt.grid()\n",
    "    plt.legend()\n",
    "\n",
    "plt.tight_layout()  # Adjust the layout\n",
    "plt.show()"
   ],
   "id": "e03a203826074dfb"
  },
  {
   "metadata": {
    "ExecuteTime": {
     "end_time": "2024-10-26T10:35:47.725671Z",
     "start_time": "2024-10-26T10:35:46.558584Z"
    }
   },
   "cell_type": "code",
   "source": [
    "dataset_test = TextDataset('data/test_data.txt', embed_dim=embed_dim, embedding=dataset_train.embedding)\n",
    "dataloader_test = DataLoader(dataset_test, batch_size=32, shuffle=False)\n",
    "\n",
    "accuracy_test = 0\n",
    "loss_test = 0\n",
    "all_labels = []\n",
    "all_preds = []\n",
    "    \n",
    "for texts_embedded, labels in dataloader_test:\n",
    "    outputs = model(texts_embedded)\n",
    "    loss_test += criterion(outputs, labels) \n",
    "    \n",
    "    preds = outputs.argmax(1)\n",
    "    accuracy_test += torch.sum(preds == labels)\n",
    "    all_labels.extend(labels.cpu().numpy())\n",
    "    all_preds.extend(preds.cpu().numpy())\n",
    "    \n",
    "    # Calculate confusion matrix\n",
    "cm = confusion_matrix(all_labels, all_preds)\n",
    "\n",
    "# Calculate sensitivity and specificity\n",
    "tn, fp, fn, tp = cm.ravel()\n",
    "sensitivity = tp / (tp + fn)\n",
    "specificity = tn / (tn + fp)\n",
    "\n",
    "print(f\"Test loss: {loss_test.item():.4f}, Test accuracy: {accuracy_test / len(all_labels):.4f} \"\n",
    "      f'Sensitivity: {sensitivity:.4f}, Specificity: {specificity:.4f}')\n",
    "disp = ConfusionMatrixDisplay(confusion_matrix=cm, display_labels=dataset_test.labels)\n",
    "disp.plot(cmap=\"Blues\")\n",
    "plt.grid(False)\n",
    "plt.show()"
   ],
   "id": "105b1962bd1df761",
   "outputs": [
    {
     "name": "stdout",
     "output_type": "stream",
     "text": [
      "Test loss: 27.7027, Test accuracy: 0.5808 Sensitivity: 0.5260, Specificity: 0.5896\n"
     ]
    },
    {
     "data": {
      "text/plain": [
       "<Figure size 640x480 with 2 Axes>"
      ],
      "image/png": "[encoded data removed]"
     },
     "metadata": {},
     "output_type": "display_data"
    }
   ],
   "execution_count": 201
  },
  {
   "cell_type": "markdown",
   "id": "759df28b",
   "metadata": {},
   "source": [
    "## Exercise 5: Training a FastText Model \n",
    "\n",
    "We will now use the same dataset we just loaded to train a FastText model to perform classification. Remember, that in FastText, we not only have the option to create models that use word level N-grams, but also character level N-grams. We will try both and compare their performance!\n",
    "\n",
    "There are a number of parameters that can be passed to the FastText `train_supervised` function, but we will just concern ourselves with a couples of them.\n",
    "\n",
    "* The `input` parameter requires a text file as an input containing two columns. The first column must be the classification label and the second must be the text.\n",
    "* The `verbose` parameter just allows us to enable or disable training information. Here we enable it.\n",
    "* Now try to test the model using the `test` function. (HINT: See https://fasttext.cc/docs/en/supervised-tutorial.html). How good is your performance on the testset?\n",
    "* What happens when you vary the N-gram size? What is the optimal setting? Why do you think that is the case?\n",
    "* Look in the FastText documentation to find out how to make a character level model. Can you get better performance this way? Why do you think that is/isn't? \n",
    "* Try to tweak some of the parameters and look at what optimal parameter settings are. (HINT: Look at the `maxn` and `minn` parameters. If you find it difficult/annoying doing this manually, consider doing a hyperparameter search grid and find some optimal parameters!).\n",
    "* Try to preprocess the texts like we did in the previous exercise and see if this helps you!"
   ]
  },
  {
   "metadata": {
    "ExecuteTime": {
     "end_time": "2024-10-26T10:36:09.826816Z",
     "start_time": "2024-10-26T10:36:09.788815Z"
    }
   },
   "cell_type": "code",
   "source": [
    "def test_fasttext_model(test_texts, test_labels, fasttext_model, verbose=False):\n",
    "    predictions = []\n",
    "    correct_labels = []\n",
    "    \n",
    "    for text, label in zip(test_texts, test_labels):\n",
    "        prediction = fasttext_model.predict(text)[0][0].replace('__label__', '')\n",
    "        predictions.append(prediction)\n",
    "        correct_labels.append(label)\n",
    "    \n",
    "    # Calculate confusion matrix\n",
    "    labels = sorted(set(test_labels))  # Ensure consistent label order\n",
    "    cm = confusion_matrix(correct_labels, predictions, labels=labels)\n",
    "    \n",
    "    # Display confusion matrix\n",
    "    disp = ConfusionMatrixDisplay(confusion_matrix=cm, display_labels=labels)\n",
    "    disp.plot(cmap=\"Blues\")\n",
    "    plt.grid(False)\n",
    "    plt.show()\n",
    "    \n",
    "    # Calculate metrics\n",
    "    TP = np.diag(cm)   # True Positives for each class\n",
    "    FP = cm.sum(axis=0) - TP  # False Positives\n",
    "    FN = cm.sum(axis=1) - TP  # False Negatives\n",
    "    TN = cm.sum() - (FP + FN + TP)  # True Negatives for each class\n",
    "    \n",
    "    # Calculate specificity and sensitivity for each class\n",
    "    sensitivity = TP / (TP + FN)\n",
    "    specificity = TN / (TN + FP)\n",
    "    \n",
    "    # Print metrics\n",
    "    for i, label in enumerate(labels):\n",
    "        print(f\"Class '{label}':\")\n",
    "        print(f\"  Sensitivity (Recall): {sensitivity[i]:.2f}\")\n",
    "        print(f\"  Specificity: {specificity[i]:.2f}\")\n",
    "    \n",
    "    # Calculate overall accuracy\n",
    "    accuracy = np.sum(TP) / np.sum(cm)\n",
    "    if verbose:\n",
    "        print(f'Word model accuracy: {accuracy * 100:.2f} %')\n",
    "    \n",
    "    return accuracy, cm, sensitivity, specificity"
   ],
   "id": "e2c29d7e69d66b3c",
   "outputs": [],
   "execution_count": 202
  },
  {
   "metadata": {
    "ExecuteTime": {
     "end_time": "2024-10-26T10:36:14.042727Z",
     "start_time": "2024-10-26T10:36:11.791919Z"
    }
   },
   "cell_type": "code",
   "source": [
    "fasttext_word_model = fasttext.train_supervised(input='./data/train_data.txt', verbose=True, wordNgrams=3)\n",
    "accuracy_word_model = test_fasttext_model(test_texts, test_labels, fasttext_model=fasttext_word_model, verbose=True)"
   ],
   "id": "6c0e63e9ecadb7d3",
   "outputs": [
    {
     "data": {
      "text/plain": [
       "<Figure size 640x480 with 2 Axes>"
      ],
      "image/png": "[encoded data removed]"
     },
     "metadata": {},
     "output_type": "display_data"
    },
    {
     "name": "stdout",
     "output_type": "stream",
     "text": [
      "Class 'ham':\n",
      "  Sensitivity (Recall): 1.00\n",
      "  Specificity: 0.71\n",
      "Class 'spam':\n",
      "  Sensitivity (Recall): 0.71\n",
      "  Specificity: 1.00\n",
      "Word model accuracy: 95.96 %\n"
     ]
    }
   ],
   "execution_count": 203
  },
  {
   "cell_type": "code",
   "id": "c20d45ba",
   "metadata": {
    "ExecuteTime": {
     "end_time": "2024-10-26T10:36:33.502376Z",
     "start_time": "2024-10-26T10:36:29.360179Z"
    }
   },
   "source": [
    "#Create char model here.\n",
    "char_gram_length_min = 3 # If set to zero, we only train word-grams\n",
    "char_gram_length_max = 6 # If set to zero, we only train word-grams\n",
    "\n",
    "fasttext_char_model = fasttext.train_supervised(\n",
    "    input='./data/train_data.txt',\n",
    "    verbose=True,\n",
    "     maxn=char_gram_length_max,\n",
    "    minn=char_gram_length_min\n",
    ")\n",
    "accuracy_char_model = test_fasttext_model(test_texts, test_labels, fasttext_model=fasttext_char_model, verbose=True)"
   ],
   "outputs": [
    {
     "data": {
      "text/plain": [
       "<Figure size 640x480 with 2 Axes>"
      ],
      "image/png": "[encoded data removed]"
     },
     "metadata": {},
     "output_type": "display_data"
    },
    {
     "name": "stdout",
     "output_type": "stream",
     "text": [
      "Class 'ham':\n",
      "  Sensitivity (Recall): 1.00\n",
      "  Specificity: 0.52\n",
      "Class 'spam':\n",
      "  Sensitivity (Recall): 0.52\n",
      "  Specificity: 1.00\n",
      "Word model accuracy: 93.36 %\n"
     ]
    }
   ],
   "execution_count": 204
  },
  {
   "cell_type": "code",
   "execution_count": null,
   "id": "0cd58d2e",
   "metadata": {},
   "outputs": [],
   "source": []
  }
 ],
 "metadata": {
  "kernelspec": {
   "display_name": "Python 3",
   "language": "python",
   "name": "python3"
  },
  "language_info": {
   "codemirror_mode": {
    "name": "ipython",
    "version": 3
   },
   "file_extension": ".py",
   "mimetype": "text/x-python",
   "name": "python",
   "nbconvert_exporter": "python",
   "pygments_lexer": "ipython3",
   "version": "3.8.8"
  }
 },
 "nbformat": 4,
 "nbformat_minor": 5
}
